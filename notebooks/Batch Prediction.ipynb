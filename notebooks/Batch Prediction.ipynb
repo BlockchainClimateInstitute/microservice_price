{
 "cells": [
  {
   "cell_type": "markdown",
   "metadata": {
    "execution": {
     "iopub.execute_input": "2021-03-10T17:00:41.290664Z",
     "iopub.status.busy": "2021-03-10T17:00:41.290399Z",
     "iopub.status.idle": "2021-03-10T17:00:41.295101Z",
     "shell.execute_reply": "2021-03-10T17:00:41.294444Z",
     "shell.execute_reply.started": "2021-03-10T17:00:41.290597Z"
    }
   },
   "source": [
    "# Getting started with Dask on Saturn Cloud"
   ]
  },
  {
   "cell_type": "markdown",
   "metadata": {},
   "source": [
    "\n",
    "Dask is a framework that easily lets you run Python in parallel across distributed machines. Below is a small example of using Dask on Saturn Cloud. The code creates a function that computes exponents and runs it across a list of inputs in parallel.\n",
    "\n",
    "_For more details about the basics of Dask, read the [Parallelization in Python](https://www.saturncloud.io/docs/reference/dask_concepts/) article in the Saturn Cloud docs._ You can also look at the [Saturn Cloud Dask examples](https://www.saturncloud.io/docs/examples/dask/), and [the official Dask documentation](https://docs.dask.org/en/latest/).\n",
    "\n",
    "Before running this example, you need to create a Dask cluster associated with this project. You can create the cluster through the [Saturn Cloud project page](https://www.saturncloud.io/docs/getting-started/create_cluster_ui/), or [programmatically in Python](https://www.saturncloud.io/docs/getting-started/create_cluster/#create-clustersaturncluster-object).\n",
    "\n",
    "This code chunk imports the Dask libraries and connects to the Saturn Cloud Dask cluster. "
   ]
  },
  {
   "cell_type": "code",
   "execution_count": 9,
   "metadata": {
    "execution": {
     "iopub.execute_input": "2021-05-15T21:21:59.094854Z",
     "iopub.status.busy": "2021-05-15T21:21:59.094628Z",
     "iopub.status.idle": "2021-05-15T21:26:00.764388Z",
     "shell.execute_reply": "2021-05-15T21:26:00.763811Z",
     "shell.execute_reply.started": "2021-05-15T21:21:59.094830Z"
    }
   },
   "outputs": [
    {
     "name": "stderr",
     "output_type": "stream",
     "text": [
      "INFO:dask-saturn:Starting cluster. Status: pending\n",
      "INFO:dask-saturn:Starting cluster. Status: pending\n",
      "INFO:dask-saturn:Starting cluster. Status: pending\n",
      "INFO:dask-saturn:Starting cluster. Status: pending\n",
      "INFO:dask-saturn:Starting cluster. Status: pending\n",
      "INFO:dask-saturn:Starting cluster. Status: pending\n",
      "INFO:dask-saturn:Starting cluster. Status: pending\n",
      "INFO:dask-saturn:Cluster is ready\n",
      "INFO:dask-saturn:Registering default plugins\n",
      "INFO:dask-saturn:{}\n"
     ]
    }
   ],
   "source": [
    "import dask\n",
    "from dask.distributed import Client\n",
    "from dask_saturn import SaturnCluster\n",
    "\n",
    "# cluster = SaturnCluster.reset()\n",
    "\n",
    "n_jobs=10\n",
    "\n",
    "cluster = SaturnCluster(\n",
    "    scheduler_size='2xlarge',\n",
    "    worker_size='medium',\n",
    "    nthreads=2,\n",
    "    n_workers=n_jobs,\n",
    ")\n",
    "\n",
    "client = Client(cluster)"
   ]
  },
  {
   "cell_type": "code",
   "execution_count": null,
   "metadata": {
    "execution": {
     "iopub.execute_input": "2021-05-15T21:26:00.766276Z",
     "iopub.status.busy": "2021-05-15T21:26:00.765788Z",
     "iopub.status.idle": "2021-05-15T21:29:41.487904Z"
    }
   },
   "outputs": [],
   "source": [
    "client.wait_for_workers(n_jobs)"
   ]
  },
  {
   "cell_type": "code",
   "execution_count": null,
   "metadata": {
    "execution": {
     "iopub.execute_input": "2021-05-15T21:29:41.495508Z",
     "iopub.status.busy": "2021-05-15T21:29:41.495018Z",
     "iopub.status.idle": "2021-05-15T21:29:41.509833Z"
    }
   },
   "outputs": [
    {
     "data": {
      "text/html": [
       "<table style=\"border: 2px solid white;\">\n",
       "<tr>\n",
       "<td style=\"vertical-align: top; border: 0px solid white\">\n",
       "<h3 style=\"text-align: left;\">Client</h3>\n",
       "<ul style=\"text-align: left; list-style: none; margin: 0; padding: 0;\">\n",
       "  <li><b>Scheduler: </b>tcp://d-admin-bciavm-64ad14d7cb76443591b4d1ebacd4bbf0.main-namespace:8786</li>\n",
       "  <li><b>Dashboard: </b><a href='https://d-admin-bciavm-64ad14d7cb76443591b4d1ebacd4bbf0.gcodeai.saturnenterprise.io' target='_blank'>https://d-admin-bciavm-64ad14d7cb76443591b4d1ebacd4bbf0.gcodeai.saturnenterprise.io</a></li>\n",
       "</ul>\n",
       "</td>\n",
       "<td style=\"vertical-align: top; border: 0px solid white\">\n",
       "<h3 style=\"text-align: left;\">Cluster</h3>\n",
       "<ul style=\"text-align: left; list-style:none; margin: 0; padding: 0;\">\n",
       "  <li><b>Workers: </b>20</li>\n",
       "  <li><b>Cores: </b>40</li>\n",
       "  <li><b>Memory: </b>70.00 GB</li>\n",
       "</ul>\n",
       "</td>\n",
       "</tr>\n",
       "</table>"
      ],
      "text/plain": [
       "<Client: 'tcp://192.168.102.131:8786' processes=19 threads=38, memory=66.50 GB>"
      ]
     },
     "execution_count": 11,
     "metadata": {},
     "output_type": "execute_result"
    }
   ],
   "source": [
    "client"
   ]
  },
  {
   "cell_type": "code",
   "execution_count": null,
   "metadata": {
    "execution": {
     "iopub.execute_input": "2021-05-15T21:29:41.513215Z",
     "iopub.status.busy": "2021-05-15T21:29:41.512802Z",
     "iopub.status.idle": "2021-05-15T21:30:01.045376Z"
    }
   },
   "outputs": [
    {
     "data": {
      "text/plain": [
       "TypeOfMatching_m\n",
       "1. Address Matched            699206\n",
       "2. Address Matched No Spec     26055\n",
       "3. No in Address Matched      325243\n",
       "4. No match                   339476\n",
       "Name: Postcode, dtype: int64"
      ]
     },
     "execution_count": 12,
     "metadata": {},
     "output_type": "execute_result"
    }
   ],
   "source": [
    "import io\n",
    "from bciavm.core.config import your_bucket\n",
    "from bciavm.utils.bci_utils import ReadParquetFile, get_postcodeOutcode_from_postcode, get_postcodeArea_from_outcode, drop_outliers, preprocess_data\n",
    "import pandas as pd\n",
    "import bciavm\n",
    "from sklearn.model_selection import ShuffleSplit, StratifiedShuffleSplit\n",
    "\n",
    "dfPricesEpc = pd.DataFrame()\n",
    "dfPrices = pd.DataFrame()\n",
    "\n",
    "yearArray = ['2020', '2019']\n",
    "for year in yearArray:\n",
    "    singlePriceEpcFile = pd.DataFrame(ReadParquetFile(your_bucket, 'epc_price_data/byDate/2021-02-04/parquet/' + year))\n",
    "    dfPricesEpc = dfPricesEpc.append(singlePriceEpcFile)\n",
    "\n",
    "dfPricesEpc['POSTCODE_OUTCODE'] = dfPricesEpc['Postcode'].apply(get_postcodeOutcode_from_postcode)\n",
    "dfPricesEpc['POSTCODE_AREA'] = dfPricesEpc['POSTCODE_OUTCODE'].apply(get_postcodeArea_from_outcode)\n",
    "dfPricesEpc.groupby('TypeOfMatching_m').count()['Postcode']"
   ]
  },
  {
   "cell_type": "markdown",
   "metadata": {},
   "source": [
    "## Preprocessing Data\n",
    "Prior to training a model, check for missing values and split the data into training and validation sets."
   ]
  },
  {
   "cell_type": "code",
   "execution_count": null,
   "metadata": {
    "execution": {
     "iopub.execute_input": "2021-05-15T21:30:01.046856Z",
     "iopub.status.busy": "2021-05-15T21:30:01.046500Z",
     "iopub.status.idle": "2021-05-15T21:30:12.842098Z"
    }
   },
   "outputs": [],
   "source": [
    "# initial preprocessing+cleaning\n",
    "train, test = preprocess_data(dfPricesEpc)"
   ]
  },
  {
   "cell_type": "code",
   "execution_count": null,
   "metadata": {
    "execution": {
     "iopub.execute_input": "2021-05-15T21:30:14.612434Z",
     "iopub.status.busy": "2021-05-15T21:30:14.612259Z",
     "iopub.status.idle": "2021-05-15T21:30:17.810014Z"
    }
   },
   "outputs": [],
   "source": [
    "import dask.dataframe as dd\n",
    "import dask.array as da\n",
    "from dask.distributed import wait\n",
    "\n",
    "X_test_arr = dd.from_pandas(X_test, npartitions=n_jobs)\n",
    "\n",
    "X_test_arr= dask.persist(\n",
    "    X_test_arr\n",
    ")\n",
    "_ = wait(X_test_arr)"
   ]
  },
  {
   "cell_type": "code",
   "execution_count": null,
   "metadata": {
    "execution": {
     "iopub.execute_input": "2021-05-15T21:30:17.811389Z",
     "iopub.status.busy": "2021-05-15T21:30:17.811135Z",
     "iopub.status.idle": "2021-05-15T21:30:17.831024Z"
    }
   },
   "outputs": [
    {
     "data": {
      "text/html": [
       "<div><strong>Dask DataFrame Structure:</strong></div>\n",
       "<div>\n",
       "<style scoped>\n",
       "    .dataframe tbody tr th:only-of-type {\n",
       "        vertical-align: middle;\n",
       "    }\n",
       "\n",
       "    .dataframe tbody tr th {\n",
       "        vertical-align: top;\n",
       "    }\n",
       "\n",
       "    .dataframe thead th {\n",
       "        text-align: right;\n",
       "    }\n",
       "</style>\n",
       "<table border=\"1\" class=\"dataframe\">\n",
       "  <thead>\n",
       "    <tr style=\"text-align: right;\">\n",
       "      <th></th>\n",
       "      <th>unit_indx</th>\n",
       "      <th>POSTCODE</th>\n",
       "      <th>POSTCODE_OUTCODE</th>\n",
       "      <th>POSTTOWN_e</th>\n",
       "      <th>PROPERTY_TYPE_e</th>\n",
       "      <th>TOTAL_FLOOR_AREA_e</th>\n",
       "      <th>NUMBER_HEATED_ROOMS_e</th>\n",
       "      <th>FLOOR_LEVEL_e</th>\n",
       "      <th>Latitude_m</th>\n",
       "      <th>Longitude_m</th>\n",
       "      <th>POSTCODE_AREA</th>\n",
       "    </tr>\n",
       "    <tr>\n",
       "      <th>npartitions=20</th>\n",
       "      <th></th>\n",
       "      <th></th>\n",
       "      <th></th>\n",
       "      <th></th>\n",
       "      <th></th>\n",
       "      <th></th>\n",
       "      <th></th>\n",
       "      <th></th>\n",
       "      <th></th>\n",
       "      <th></th>\n",
       "      <th></th>\n",
       "    </tr>\n",
       "  </thead>\n",
       "  <tbody>\n",
       "    <tr>\n",
       "      <th>1544</th>\n",
       "      <td>Int64</td>\n",
       "      <td>category[known]</td>\n",
       "      <td>category[known]</td>\n",
       "      <td>category[known]</td>\n",
       "      <td>category[known]</td>\n",
       "      <td>float64</td>\n",
       "      <td>float64</td>\n",
       "      <td>float64</td>\n",
       "      <td>float64</td>\n",
       "      <td>float64</td>\n",
       "      <td>category[known]</td>\n",
       "    </tr>\n",
       "    <tr>\n",
       "      <th>37710</th>\n",
       "      <td>...</td>\n",
       "      <td>...</td>\n",
       "      <td>...</td>\n",
       "      <td>...</td>\n",
       "      <td>...</td>\n",
       "      <td>...</td>\n",
       "      <td>...</td>\n",
       "      <td>...</td>\n",
       "      <td>...</td>\n",
       "      <td>...</td>\n",
       "      <td>...</td>\n",
       "    </tr>\n",
       "    <tr>\n",
       "      <th>...</th>\n",
       "      <td>...</td>\n",
       "      <td>...</td>\n",
       "      <td>...</td>\n",
       "      <td>...</td>\n",
       "      <td>...</td>\n",
       "      <td>...</td>\n",
       "      <td>...</td>\n",
       "      <td>...</td>\n",
       "      <td>...</td>\n",
       "      <td>...</td>\n",
       "      <td>...</td>\n",
       "    </tr>\n",
       "    <tr>\n",
       "      <th>696716</th>\n",
       "      <td>...</td>\n",
       "      <td>...</td>\n",
       "      <td>...</td>\n",
       "      <td>...</td>\n",
       "      <td>...</td>\n",
       "      <td>...</td>\n",
       "      <td>...</td>\n",
       "      <td>...</td>\n",
       "      <td>...</td>\n",
       "      <td>...</td>\n",
       "      <td>...</td>\n",
       "    </tr>\n",
       "    <tr>\n",
       "      <th>731157</th>\n",
       "      <td>...</td>\n",
       "      <td>...</td>\n",
       "      <td>...</td>\n",
       "      <td>...</td>\n",
       "      <td>...</td>\n",
       "      <td>...</td>\n",
       "      <td>...</td>\n",
       "      <td>...</td>\n",
       "      <td>...</td>\n",
       "      <td>...</td>\n",
       "      <td>...</td>\n",
       "    </tr>\n",
       "  </tbody>\n",
       "</table>\n",
       "</div>\n",
       "<div>Dask Name: from_pandas, 20 tasks</div>"
      ],
      "text/plain": [
       "Dask DataFrame Structure:\n",
       "               unit_indx         POSTCODE POSTCODE_OUTCODE       POSTTOWN_e  PROPERTY_TYPE_e TOTAL_FLOOR_AREA_e NUMBER_HEATED_ROOMS_e FLOOR_LEVEL_e Latitude_m Longitude_m    POSTCODE_AREA\n",
       "npartitions=20                                                                                                                                                                             \n",
       "1544               Int64  category[known]  category[known]  category[known]  category[known]            float64               float64       float64    float64     float64  category[known]\n",
       "37710                ...              ...              ...              ...              ...                ...                   ...           ...        ...         ...              ...\n",
       "...                  ...              ...              ...              ...              ...                ...                   ...           ...        ...         ...              ...\n",
       "696716               ...              ...              ...              ...              ...                ...                   ...           ...        ...         ...              ...\n",
       "731157               ...              ...              ...              ...              ...                ...                   ...           ...        ...         ...              ...\n",
       "Dask Name: from_pandas, 20 tasks"
      ]
     },
     "execution_count": 16,
     "metadata": {},
     "output_type": "execute_result"
    }
   ],
   "source": [
    "X_test_arr[0]"
   ]
  },
  {
   "cell_type": "markdown",
   "metadata": {},
   "source": [
    "## Load The Pipeline\n",
    "Load the pipeline we trained in the **hypertuning** notebook."
   ]
  },
  {
   "cell_type": "code",
   "execution_count": null,
   "metadata": {
    "execution": {
     "iopub.execute_input": "2021-05-15T21:30:17.832593Z",
     "iopub.status.busy": "2021-05-15T21:30:17.832153Z",
     "iopub.status.idle": "2021-05-15T21:30:56.590092Z"
    }
   },
   "outputs": [
    {
     "data": {
      "text/plain": [
       "{'Imputer': {'categorical_impute_strategy': 'most_frequent',\n",
       "  'numeric_impute_strategy': 'mean',\n",
       "  'categorical_fill_value': None,\n",
       "  'numeric_fill_value': None,\n",
       "  'random_seed': 0},\n",
       " 'One Hot Encoder': {'top_n': 100,\n",
       "  'features_to_encode': ['agg_cat'],\n",
       "  'categories': None,\n",
       "  'drop': None,\n",
       "  'handle_unknown': 'ignore',\n",
       "  'handle_missing': 'error',\n",
       "  'random_seed': 0},\n",
       " 'K Nearest Neighbors Regressor': {'n_neighbors': 5,\n",
       "  'weights': 'distance',\n",
       "  'algorithm': 'auto',\n",
       "  'leaf_size': 20,\n",
       "  'p': 2,\n",
       "  'metric': 'minkowski',\n",
       "  'n_jobs': 4},\n",
       " 'XGBoost Regressor': {'learning_rate': 0.06325261812661621,\n",
       "  'max_depth': 14,\n",
       "  'min_child_weight': 0.6718934260322275,\n",
       "  'reg_alpha': 0.043706006022706405,\n",
       "  'reg_lambda': 0.026408282583277758,\n",
       "  'n_estimators': 766},\n",
       " 'MultiLayer Perceptron Regressor': {'activation': 'relu',\n",
       "  'solver': 'adam',\n",
       "  'alpha': 0.043706006022706405,\n",
       "  'batch_size': 'auto',\n",
       "  'learning_rate': 'constant',\n",
       "  'learning_rate_init': 0.001,\n",
       "  'max_iter': 500,\n",
       "  'early_stopping': True,\n",
       "  'beta_1': 0.9,\n",
       "  'beta_2': 0.999,\n",
       "  'epsilon': 1e-08,\n",
       "  'n_iter_no_change': 10},\n",
       " 'Final Estimator': {'fit_intercept': True, 'normalize': False, 'n_jobs': -1}}"
      ]
     },
     "execution_count": 17,
     "metadata": {},
     "output_type": "execute_result"
    }
   ],
   "source": [
    "import bciavm\n",
    "from bciavm.pipelines import RegressionPipeline\n",
    "\n",
    "model_path = ''\n",
    "avm_pipeline = AVMPipeline.load(model_path)\n",
    "avm_pipeline.parameters"
   ]
  },
  {
   "cell_type": "code",
   "execution_count": 14,
   "metadata": {
    "execution": {
     "iopub.execute_input": "2021-05-15T20:38:36.020568Z",
     "iopub.status.busy": "2021-05-15T20:38:36.020284Z",
     "iopub.status.idle": "2021-05-15T20:38:37.107161Z",
     "shell.execute_reply": "2021-05-15T20:38:37.106580Z",
     "shell.execute_reply.started": "2021-05-15T20:38:36.020531Z"
    }
   },
   "outputs": [
    {
     "data": {
      "text/plain": [
       "1450"
      ]
     },
     "execution_count": 14,
     "metadata": {},
     "output_type": "execute_result"
    }
   ],
   "source": [
    "len(X_test_arr[0])"
   ]
  },
  {
   "cell_type": "code",
   "execution_count": 63,
   "metadata": {
    "execution": {
     "iopub.execute_input": "2021-05-15T15:26:46.892318Z",
     "iopub.status.busy": "2021-05-15T15:26:46.892005Z",
     "iopub.status.idle": "2021-05-15T15:34:31.342824Z",
     "shell.execute_reply": "2021-05-15T15:34:31.342069Z",
     "shell.execute_reply.started": "2021-05-15T15:26:46.892282Z"
    }
   },
   "outputs": [
    {
     "name": "stdout",
     "output_type": "stream",
     "text": [
      "CPU times: user 55.4 s, sys: 5.68 s, total: 1min 1s\n",
      "Wall time: 7min 44s\n"
     ]
    },
    {
     "data": {
      "text/plain": [
       "array([[66, 261164.0, nan, ..., '1621092479.787824', 1, 0],\n",
       "       [411, 211335.0, 74850.0, ..., '1621092484.002987', 1, 0],\n",
       "       [1056, 140014.0, 69653.0, ..., '1621092486.532709', 1, 0],\n",
       "       ...,\n",
       "       [730039, 250948.0, 164031.0, ..., '1621092819.282984', 1, 0],\n",
       "       [730481, 242548.0, 185670.0, ..., '1621092821.8026', 1, 0],\n",
       "       [730754, 237321.0, 48984.0, ..., '1621092824.096057', 1, 0]],\n",
       "      dtype=object)"
      ]
     },
     "execution_count": 63,
     "metadata": {},
     "output_type": "execute_result"
    }
   ],
   "source": [
    "%%time\n",
    "#20 threads, 10 workers, 2 threads/worker\n",
    "predicted = wmodel.predict(X_test_arr[0]).compute(scheduler='distributed', n_jobs=n_jobs)\n",
    "predicted"
   ]
  },
  {
   "cell_type": "markdown",
   "metadata": {},
   "source": [
    "\n",
    "When you're done, you can close the connection to the cluster:"
   ]
  },
  {
   "cell_type": "code",
   "execution_count": 79,
   "metadata": {
    "execution": {
     "iopub.execute_input": "2021-05-13T23:00:01.313101Z",
     "iopub.status.busy": "2021-05-13T23:00:01.312850Z",
     "iopub.status.idle": "2021-05-13T23:00:01.316024Z",
     "shell.execute_reply": "2021-05-13T23:00:01.315360Z",
     "shell.execute_reply.started": "2021-05-13T23:00:01.313076Z"
    }
   },
   "outputs": [],
   "source": [
    "client.close()"
   ]
  },
  {
   "cell_type": "code",
   "execution_count": 80,
   "metadata": {
    "execution": {
     "iopub.execute_input": "2021-05-13T23:00:02.440366Z",
     "iopub.status.busy": "2021-05-13T23:00:02.440129Z",
     "iopub.status.idle": "2021-05-13T23:00:05.051746Z",
     "shell.execute_reply": "2021-05-13T23:00:05.051074Z",
     "shell.execute_reply.started": "2021-05-13T23:00:02.440343Z"
    }
   },
   "outputs": [],
   "source": [
    "cluster.close()"
   ]
  },
  {
   "cell_type": "code",
   "execution_count": null,
   "metadata": {},
   "outputs": [],
   "source": []
  }
 ],
 "metadata": {
  "kernelspec": {
   "display_name": "saturn (Python 3)",
   "language": "python",
   "name": "python3"
  },
  "language_info": {
   "codemirror_mode": {
    "name": "ipython",
    "version": 3
   },
   "file_extension": ".py",
   "mimetype": "text/x-python",
   "name": "python",
   "nbconvert_exporter": "python",
   "pygments_lexer": "ipython3",
   "version": "3.7.10"
  },
  "widgets": {
   "application/vnd.jupyter.widget-state+json": {
    "state": {},
    "version_major": 2,
    "version_minor": 0
   }
  }
 },
 "nbformat": 4,
 "nbformat_minor": 4
}
