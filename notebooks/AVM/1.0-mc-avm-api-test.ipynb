{
 "cells": [
  {
   "cell_type": "markdown",
   "metadata": {},
   "source": [
    "# API Tests"
   ]
  },
  {
   "cell_type": "code",
   "execution_count": null,
   "metadata": {},
   "outputs": [
    {
     "name": "stderr",
     "output_type": "stream",
     "text": [
      "`should_run_async` will not call `transform_cell` automatically in the future. Please pass the result to `transformed_cell` argument and any exception that happen during thetransform in `preprocessing_exc_tuple` in IPython 7.17 and above.\n"
     ]
    },
    {
     "name": "stdout",
     "output_type": "stream",
     "text": [
      "             Number of Features\n",
      "Categorical                   3\n",
      "Numeric                       7\n",
      "\n",
      "Number of training examples: 97\n",
      "Targets\n",
      "840000     3.09%\n",
      "520000     2.06%\n",
      "800000     2.06%\n",
      "450000     2.06%\n",
      "575000     2.06%\n",
      "           ...  \n",
      "1420250    1.03%\n",
      "4050000    1.03%\n",
      "321500     1.03%\n",
      "1375000    1.03%\n",
      "1200000    1.03%\n",
      "Name: PRICE, Length: 87, dtype: object\n",
      " * Serving Flask app \"price_microservice\" (lazy loading)\n",
      " * Environment: production\n",
      "\u001b[31m   WARNING: This is a development server. Do not use it in a production deployment.\u001b[0m\n",
      "\u001b[2m   Use a production WSGI server instead.\u001b[0m\n",
      " * Debug mode: on\n",
      " * Running on http://0.0.0.0:5000/ (Press CTRL+C to quit)\n",
      " * Restarting with stat\n",
      "             Number of Features\n",
      "Categorical                   3\n",
      "Numeric                       7\n",
      "\n",
      "Number of training examples: 97\n",
      "Targets\n",
      "840000     3.09%\n",
      "520000     2.06%\n",
      "800000     2.06%\n",
      "450000     2.06%\n",
      "575000     2.06%\n",
      "           ...  \n",
      "1420250    1.03%\n",
      "4050000    1.03%\n",
      "321500     1.03%\n",
      "1375000    1.03%\n",
      "1200000    1.03%\n",
      "Name: PRICE, Length: 87, dtype: object\n",
      " * Debugger is active!\n",
      " * Debugger PIN: 222-280-962\n",
      "127.0.0.1 - - [11/Oct/2020 09:10:27] \"\u001b[37mGET / HTTP/1.1\u001b[0m\" 200 -\n",
      "127.0.0.1 - - [11/Oct/2020 09:10:27] \"\u001b[37mGET /swagger.json HTTP/1.1\u001b[0m\" 200 -\n"
     ]
    }
   ],
   "source": [
    "#to run the api locally use\n",
    "! cd ../../src; python price_microservice.py"
   ]
  },
  {
   "cell_type": "markdown",
   "metadata": {},
   "source": [
    "# Below code was used for basic testing only, see ../../src/price_microservice.py for details"
   ]
  },
  {
   "cell_type": "code",
   "execution_count": 4,
   "metadata": {},
   "outputs": [],
   "source": [
    "import numpy as np\n",
    "import pandas as pd\n",
    "import joblib, pickle, json, requests, evalml, glob, os, urllib\n",
    "from evalml.preprocessing import load_data\n"
   ]
  },
  {
   "cell_type": "code",
   "execution_count": 3,
   "metadata": {},
   "outputs": [
    {
     "data": {
      "text/html": [
       "<div>\n",
       "<style scoped>\n",
       "    .dataframe tbody tr th:only-of-type {\n",
       "        vertical-align: middle;\n",
       "    }\n",
       "\n",
       "    .dataframe tbody tr th {\n",
       "        vertical-align: top;\n",
       "    }\n",
       "\n",
       "    .dataframe thead th {\n",
       "        text-align: right;\n",
       "    }\n",
       "</style>\n",
       "<table border=\"1\" class=\"dataframe\">\n",
       "  <thead>\n",
       "    <tr style=\"text-align: right;\">\n",
       "      <th></th>\n",
       "      <th>POSTCODE</th>\n",
       "      <th>TOTAL_FLOOR_AREA</th>\n",
       "      <th>LONG</th>\n",
       "      <th>LAT</th>\n",
       "      <th>FLOOR_LEVEL</th>\n",
       "      <th>FLAT_TOP_STOREY</th>\n",
       "      <th>FLAT_STOREY_COUNT</th>\n",
       "      <th>PROPERTY_TYPE</th>\n",
       "      <th>NUMBER_HABITABLE_ROOMS</th>\n",
       "      <th>NUMBER_HEATED_ROOMS</th>\n",
       "      <th>PRICE</th>\n",
       "    </tr>\n",
       "  </thead>\n",
       "  <tbody>\n",
       "    <tr>\n",
       "      <th>0</th>\n",
       "      <td>EC3R 8DR</td>\n",
       "      <td>121.05</td>\n",
       "      <td>-0.084334</td>\n",
       "      <td>51.510177</td>\n",
       "      <td>mid floor</td>\n",
       "      <td>NaN</td>\n",
       "      <td>NaN</td>\n",
       "      <td>Flat</td>\n",
       "      <td>NaN</td>\n",
       "      <td>NaN</td>\n",
       "      <td>575000</td>\n",
       "    </tr>\n",
       "    <tr>\n",
       "      <th>1</th>\n",
       "      <td>EC1A 9PN</td>\n",
       "      <td>54.90</td>\n",
       "      <td>-0.098967</td>\n",
       "      <td>51.519788</td>\n",
       "      <td>5th</td>\n",
       "      <td>Y</td>\n",
       "      <td>6.0</td>\n",
       "      <td>Flat</td>\n",
       "      <td>2.0</td>\n",
       "      <td>2.0</td>\n",
       "      <td>765820</td>\n",
       "    </tr>\n",
       "    <tr>\n",
       "      <th>2</th>\n",
       "      <td>EC2Y 5AG</td>\n",
       "      <td>38.00</td>\n",
       "      <td>-0.092970</td>\n",
       "      <td>51.518357</td>\n",
       "      <td>mid floor</td>\n",
       "      <td>NaN</td>\n",
       "      <td>NaN</td>\n",
       "      <td>Flat</td>\n",
       "      <td>NaN</td>\n",
       "      <td>NaN</td>\n",
       "      <td>1200000</td>\n",
       "    </tr>\n",
       "    <tr>\n",
       "      <th>3</th>\n",
       "      <td>EC3R 8BT</td>\n",
       "      <td>45.00</td>\n",
       "      <td>-0.084754</td>\n",
       "      <td>51.509780</td>\n",
       "      <td>2nd</td>\n",
       "      <td>N</td>\n",
       "      <td>NaN</td>\n",
       "      <td>Flat</td>\n",
       "      <td>2.0</td>\n",
       "      <td>2.0</td>\n",
       "      <td>735000</td>\n",
       "    </tr>\n",
       "    <tr>\n",
       "      <th>4</th>\n",
       "      <td>EC1A 4HU</td>\n",
       "      <td>60.00</td>\n",
       "      <td>-0.097239</td>\n",
       "      <td>51.518301</td>\n",
       "      <td>2nd</td>\n",
       "      <td>N</td>\n",
       "      <td>NaN</td>\n",
       "      <td>Flat</td>\n",
       "      <td>3.0</td>\n",
       "      <td>3.0</td>\n",
       "      <td>690000</td>\n",
       "    </tr>\n",
       "    <tr>\n",
       "      <th>...</th>\n",
       "      <td>...</td>\n",
       "      <td>...</td>\n",
       "      <td>...</td>\n",
       "      <td>...</td>\n",
       "      <td>...</td>\n",
       "      <td>...</td>\n",
       "      <td>...</td>\n",
       "      <td>...</td>\n",
       "      <td>...</td>\n",
       "      <td>...</td>\n",
       "      <td>...</td>\n",
       "    </tr>\n",
       "    <tr>\n",
       "      <th>92</th>\n",
       "      <td>LU7 3AF</td>\n",
       "      <td>67.50</td>\n",
       "      <td>-0.654746</td>\n",
       "      <td>51.927030</td>\n",
       "      <td>NO DATA!</td>\n",
       "      <td>NaN</td>\n",
       "      <td>NaN</td>\n",
       "      <td>House</td>\n",
       "      <td>NaN</td>\n",
       "      <td>NaN</td>\n",
       "      <td>331500</td>\n",
       "    </tr>\n",
       "    <tr>\n",
       "      <th>93</th>\n",
       "      <td>EC2Y 9BA</td>\n",
       "      <td>39.00</td>\n",
       "      <td>-0.090181</td>\n",
       "      <td>51.519913</td>\n",
       "      <td>21st or above</td>\n",
       "      <td>N</td>\n",
       "      <td>NaN</td>\n",
       "      <td>Flat</td>\n",
       "      <td>1.0</td>\n",
       "      <td>1.0</td>\n",
       "      <td>1280000</td>\n",
       "    </tr>\n",
       "    <tr>\n",
       "      <th>94</th>\n",
       "      <td>EC1A 7LS</td>\n",
       "      <td>42.00</td>\n",
       "      <td>-0.100163</td>\n",
       "      <td>51.519115</td>\n",
       "      <td>top floor</td>\n",
       "      <td>NaN</td>\n",
       "      <td>NaN</td>\n",
       "      <td>Maisonette</td>\n",
       "      <td>NaN</td>\n",
       "      <td>NaN</td>\n",
       "      <td>565000</td>\n",
       "    </tr>\n",
       "    <tr>\n",
       "      <th>95</th>\n",
       "      <td>EC4R 0DR</td>\n",
       "      <td>76.00</td>\n",
       "      <td>-0.087556</td>\n",
       "      <td>51.510662</td>\n",
       "      <td>1st</td>\n",
       "      <td>N</td>\n",
       "      <td>NaN</td>\n",
       "      <td>Flat</td>\n",
       "      <td>4.0</td>\n",
       "      <td>4.0</td>\n",
       "      <td>800000</td>\n",
       "    </tr>\n",
       "    <tr>\n",
       "      <th>96</th>\n",
       "      <td>EC4A 3EA</td>\n",
       "      <td>28.72</td>\n",
       "      <td>-0.108378</td>\n",
       "      <td>51.514902</td>\n",
       "      <td>2nd</td>\n",
       "      <td>N</td>\n",
       "      <td>4.0</td>\n",
       "      <td>Flat</td>\n",
       "      <td>2.0</td>\n",
       "      <td>2.0</td>\n",
       "      <td>715000</td>\n",
       "    </tr>\n",
       "  </tbody>\n",
       "</table>\n",
       "<p>97 rows × 11 columns</p>\n",
       "</div>"
      ],
      "text/plain": [
       "    POSTCODE  TOTAL_FLOOR_AREA      LONG        LAT    FLOOR_LEVEL  \\\n",
       "0   EC3R 8DR            121.05 -0.084334  51.510177      mid floor   \n",
       "1   EC1A 9PN             54.90 -0.098967  51.519788            5th   \n",
       "2   EC2Y 5AG             38.00 -0.092970  51.518357      mid floor   \n",
       "3   EC3R 8BT             45.00 -0.084754  51.509780            2nd   \n",
       "4   EC1A 4HU             60.00 -0.097239  51.518301            2nd   \n",
       "..       ...               ...       ...        ...            ...   \n",
       "92   LU7 3AF             67.50 -0.654746  51.927030       NO DATA!   \n",
       "93  EC2Y 9BA             39.00 -0.090181  51.519913  21st or above   \n",
       "94  EC1A 7LS             42.00 -0.100163  51.519115      top floor   \n",
       "95  EC4R 0DR             76.00 -0.087556  51.510662            1st   \n",
       "96  EC4A 3EA             28.72 -0.108378  51.514902            2nd   \n",
       "\n",
       "   FLAT_TOP_STOREY  FLAT_STOREY_COUNT PROPERTY_TYPE  NUMBER_HABITABLE_ROOMS  \\\n",
       "0              NaN                NaN          Flat                     NaN   \n",
       "1                Y                6.0          Flat                     2.0   \n",
       "2              NaN                NaN          Flat                     NaN   \n",
       "3                N                NaN          Flat                     2.0   \n",
       "4                N                NaN          Flat                     3.0   \n",
       "..             ...                ...           ...                     ...   \n",
       "92             NaN                NaN         House                     NaN   \n",
       "93               N                NaN          Flat                     1.0   \n",
       "94             NaN                NaN    Maisonette                     NaN   \n",
       "95               N                NaN          Flat                     4.0   \n",
       "96               N                4.0          Flat                     2.0   \n",
       "\n",
       "    NUMBER_HEATED_ROOMS    PRICE  \n",
       "0                   NaN   575000  \n",
       "1                   2.0   765820  \n",
       "2                   NaN  1200000  \n",
       "3                   2.0   735000  \n",
       "4                   3.0   690000  \n",
       "..                  ...      ...  \n",
       "92                  NaN   331500  \n",
       "93                  1.0  1280000  \n",
       "94                  NaN   565000  \n",
       "95                  4.0   800000  \n",
       "96                  2.0   715000  \n",
       "\n",
       "[97 rows x 11 columns]"
      ]
     },
     "execution_count": 3,
     "metadata": {},
     "output_type": "execute_result"
    }
   ],
   "source": [
    "data = pd.read_csv('../../data/processed/train.csv').drop('Unnamed: 0',axis=1)\n",
    "data"
   ]
  },
  {
   "cell_type": "code",
   "execution_count": 5,
   "metadata": {},
   "outputs": [
    {
     "name": "stdout",
     "output_type": "stream",
     "text": [
      "             Number of Features\n",
      "Categorical                   3\n",
      "Numeric                       7\n",
      "\n",
      "Number of training examples: 97\n",
      "Targets\n",
      "840000     3.09%\n",
      "520000     2.06%\n",
      "800000     2.06%\n",
      "450000     2.06%\n",
      "575000     2.06%\n",
      "           ...  \n",
      "1420250    1.03%\n",
      "4050000    1.03%\n",
      "321500     1.03%\n",
      "1375000    1.03%\n",
      "1200000    1.03%\n",
      "Name: PRICE, Length: 87, dtype: object\n"
     ]
    },
    {
     "data": {
      "text/plain": [
       "(          TOTAL_FLOOR_AREA      LONG        LAT    FLOOR_LEVEL  \\\n",
       " POSTCODE                                                         \n",
       " EC3R 8DR            121.05 -0.084334  51.510177      mid floor   \n",
       " EC1A 9PN             54.90 -0.098967  51.519788            5th   \n",
       " EC2Y 5AG             38.00 -0.092970  51.518357      mid floor   \n",
       " EC3R 8BT             45.00 -0.084754  51.509780            2nd   \n",
       " EC1A 4HU             60.00 -0.097239  51.518301            2nd   \n",
       " ...                    ...       ...        ...            ...   \n",
       " LU7 3AF              67.50 -0.654746  51.927030       NO DATA!   \n",
       " EC2Y 9BA             39.00 -0.090181  51.519913  21st or above   \n",
       " EC1A 7LS             42.00 -0.100163  51.519115      top floor   \n",
       " EC4R 0DR             76.00 -0.087556  51.510662            1st   \n",
       " EC4A 3EA             28.72 -0.108378  51.514902            2nd   \n",
       " \n",
       "          FLAT_TOP_STOREY  FLAT_STOREY_COUNT PROPERTY_TYPE  \\\n",
       " POSTCODE                                                    \n",
       " EC3R 8DR             NaN                NaN          Flat   \n",
       " EC1A 9PN               Y                6.0          Flat   \n",
       " EC2Y 5AG             NaN                NaN          Flat   \n",
       " EC3R 8BT               N                NaN          Flat   \n",
       " EC1A 4HU               N                NaN          Flat   \n",
       " ...                  ...                ...           ...   \n",
       " LU7 3AF              NaN                NaN         House   \n",
       " EC2Y 9BA               N                NaN          Flat   \n",
       " EC1A 7LS             NaN                NaN    Maisonette   \n",
       " EC4R 0DR               N                NaN          Flat   \n",
       " EC4A 3EA               N                4.0          Flat   \n",
       " \n",
       "           NUMBER_HABITABLE_ROOMS  NUMBER_HEATED_ROOMS  \n",
       " POSTCODE                                               \n",
       " EC3R 8DR                     NaN                  NaN  \n",
       " EC1A 9PN                     2.0                  2.0  \n",
       " EC2Y 5AG                     NaN                  NaN  \n",
       " EC3R 8BT                     2.0                  2.0  \n",
       " EC1A 4HU                     3.0                  3.0  \n",
       " ...                          ...                  ...  \n",
       " LU7 3AF                      NaN                  NaN  \n",
       " EC2Y 9BA                     1.0                  1.0  \n",
       " EC1A 7LS                     NaN                  NaN  \n",
       " EC4R 0DR                     4.0                  4.0  \n",
       " EC4A 3EA                     2.0                  2.0  \n",
       " \n",
       " [97 rows x 9 columns],\n",
       " POSTCODE\n",
       " EC3R 8DR     575000\n",
       " EC1A 9PN     765820\n",
       " EC2Y 5AG    1200000\n",
       " EC3R 8BT     735000\n",
       " EC1A 4HU     690000\n",
       "              ...   \n",
       " LU7 3AF      331500\n",
       " EC2Y 9BA    1280000\n",
       " EC1A 7LS     565000\n",
       " EC4R 0DR     800000\n",
       " EC4A 3EA     715000\n",
       " Name: PRICE, Length: 97, dtype: int64)"
      ]
     },
     "execution_count": 5,
     "metadata": {},
     "output_type": "execute_result"
    }
   ],
   "source": [
    "X, y = load_data('../../data/processed/train.csv',index='POSTCODE',target='PRICE')\n",
    "X = X.drop('Unnamed: 0',axis=1)\n",
    "X, y"
   ]
  },
  {
   "cell_type": "code",
   "execution_count": 10,
   "metadata": {},
   "outputs": [
    {
     "data": {
      "text/plain": [
       "XGBoostRegressor(eta=0.1, max_depth=6, min_child_weight=1, n_estimators=100)"
      ]
     },
     "execution_count": 10,
     "metadata": {},
     "output_type": "execute_result"
    }
   ],
   "source": [
    "# load the model from disk\n",
    "modelfile = '../../data/pipeline.pkl'\n",
    "model = joblib.load(modelfile)\n",
    "model"
   ]
  },
  {
   "cell_type": "code",
   "execution_count": 11,
   "metadata": {},
   "outputs": [
    {
     "data": {
      "text/plain": [
       "{'Imputer': {'categorical_impute_strategy': 'most_frequent',\n",
       "  'numeric_impute_strategy': 'mean',\n",
       "  'categorical_fill_value': None,\n",
       "  'numeric_fill_value': None},\n",
       " 'One Hot Encoder': {'top_n': 10,\n",
       "  'categories': None,\n",
       "  'drop': None,\n",
       "  'handle_unknown': 'ignore',\n",
       "  'handle_missing': 'error'},\n",
       " 'XGBoost Regressor': {'eta': 0.1,\n",
       "  'max_depth': 6,\n",
       "  'min_child_weight': 1,\n",
       "  'n_estimators': 100}}"
      ]
     },
     "execution_count": 11,
     "metadata": {},
     "output_type": "execute_result"
    }
   ],
   "source": [
    "\n",
    "\n",
    "with open('../../data/params.json') as f:\n",
    "    params = json.load(f)\n",
    "params\n"
   ]
  },
  {
   "cell_type": "code",
   "execution_count": 15,
   "metadata": {},
   "outputs": [
    {
     "name": "stderr",
     "output_type": "stream",
     "text": [
      "`should_run_async` will not call `transform_cell` automatically in the future. Please pass the result to `transformed_cell` argument and any exception that happen during thetransform in `preprocessing_exc_tuple` in IPython 7.17 and above.\n"
     ]
    },
    {
     "data": {
      "text/plain": [
       "{'Imputer': ['TOTAL_FLOOR_AREA',\n",
       "  'LONG',\n",
       "  'LAT',\n",
       "  'FLOOR_LEVEL',\n",
       "  'FLAT_TOP_STOREY',\n",
       "  'FLAT_STOREY_COUNT',\n",
       "  'PROPERTY_TYPE',\n",
       "  'NUMBER_HABITABLE_ROOMS',\n",
       "  'NUMBER_HEATED_ROOMS'],\n",
       " 'One Hot Encoder': ['TOTAL_FLOOR_AREA',\n",
       "  'LONG',\n",
       "  'LAT',\n",
       "  'FLOOR_LEVEL',\n",
       "  'FLAT_TOP_STOREY',\n",
       "  'FLAT_STOREY_COUNT',\n",
       "  'PROPERTY_TYPE',\n",
       "  'NUMBER_HABITABLE_ROOMS',\n",
       "  'NUMBER_HEATED_ROOMS'],\n",
       " 'XGBoost Regressor': ['TOTAL_FLOOR_AREA',\n",
       "  'LONG',\n",
       "  'LAT',\n",
       "  'FLAT_STOREY_COUNT',\n",
       "  'NUMBER_HABITABLE_ROOMS',\n",
       "  'NUMBER_HEATED_ROOMS',\n",
       "  'FLOOR_LEVEL_1st',\n",
       "  'FLOOR_LEVEL_21st or above',\n",
       "  'FLOOR_LEVEL_2nd',\n",
       "  'FLOOR_LEVEL_3rd',\n",
       "  'FLOOR_LEVEL_4th',\n",
       "  'FLOOR_LEVEL_5th',\n",
       "  'FLOOR_LEVEL_6th',\n",
       "  'FLOOR_LEVEL_Ground',\n",
       "  'FLOOR_LEVEL_NO DATA!',\n",
       "  'FLOOR_LEVEL_mid floor',\n",
       "  'FLAT_TOP_STOREY_N',\n",
       "  'FLAT_TOP_STOREY_Y',\n",
       "  'PROPERTY_TYPE_Flat',\n",
       "  'PROPERTY_TYPE_House',\n",
       "  'PROPERTY_TYPE_Maisonette']}"
      ]
     },
     "execution_count": 15,
     "metadata": {},
     "output_type": "execute_result"
    }
   ],
   "source": [
    "with open('../../data/input_feature_names.json') as f:\n",
    "    input_feature_names = json.load(f)\n",
    "input_feature_names"
   ]
  },
  {
   "cell_type": "code",
   "execution_count": 12,
   "metadata": {},
   "outputs": [
    {
     "data": {
      "text/plain": [
       "['Imputer', 'One Hot Encoder', 'XGBoost Regressor']"
      ]
     },
     "execution_count": 12,
     "metadata": {},
     "output_type": "execute_result"
    }
   ],
   "source": [
    "component_graph = [x for x in params]\n",
    "component_graph"
   ]
  },
  {
   "cell_type": "code",
   "execution_count": 16,
   "metadata": {},
   "outputs": [
    {
     "name": "stdout",
     "output_type": "stream",
     "text": [
      "XGBoost Regressor\n"
     ]
    },
    {
     "name": "stderr",
     "output_type": "stream",
     "text": [
      "`should_run_async` will not call `transform_cell` automatically in the future. Please pass the result to `transformed_cell` argument and any exception that happen during thetransform in `preprocessing_exc_tuple` in IPython 7.17 and above.\n"
     ]
    }
   ],
   "source": [
    "from evalml.pipelines import RegressionPipeline\n",
    "\n",
    "class CustomPipeline(RegressionPipeline):\n",
    "    component_graph = component_graph\n",
    "    custom_name = component_graph[2]\n",
    "    input_feature_names = input_feature_names\n",
    "\n",
    "print(CustomPipeline.name)"
   ]
  },
  {
   "cell_type": "code",
   "execution_count": 27,
   "metadata": {},
   "outputs": [
    {
     "name": "stderr",
     "output_type": "stream",
     "text": [
      "`should_run_async` will not call `transform_cell` automatically in the future. Please pass the result to `transformed_cell` argument and any exception that happen during thetransform in `preprocessing_exc_tuple` in IPython 7.17 and above.\n"
     ]
    },
    {
     "data": {
      "text/plain": [
       "CustomPipeline(parameters={'Imputer':{'categorical_impute_strategy': 'most_frequent', 'numeric_impute_strategy': 'mean', 'categorical_fill_value': None, 'numeric_fill_value': None}, 'One Hot Encoder':{'top_n': 10, 'categories': None, 'drop': None, 'handle_unknown': 'ignore', 'handle_missing': 'error'}, 'XGBoost Regressor':{'eta': 0.1, 'max_depth': 6, 'min_child_weight': 1, 'n_estimators': 100},})"
      ]
     },
     "execution_count": 27,
     "metadata": {},
     "output_type": "execute_result"
    }
   ],
   "source": [
    "cp = CustomPipeline(parameters=params, random_state=5)\n",
    "cp.fit(X,y)"
   ]
  },
  {
   "cell_type": "code",
   "execution_count": 28,
   "metadata": {},
   "outputs": [
    {
     "name": "stderr",
     "output_type": "stream",
     "text": [
      "`should_run_async` will not call `transform_cell` automatically in the future. Please pass the result to `transformed_cell` argument and any exception that happen during thetransform in `preprocessing_exc_tuple` in IPython 7.17 and above.\n"
     ]
    },
    {
     "data": {
      "text/plain": [
       "0     7.241216e+05\n",
       "1     7.330283e+05\n",
       "2     1.133702e+06\n",
       "3     7.529206e+05\n",
       "4     7.278196e+05\n",
       "          ...     \n",
       "92    3.278286e+05\n",
       "93    9.463255e+05\n",
       "94    6.922146e+05\n",
       "95    7.658100e+05\n",
       "96    7.209893e+05\n",
       "Length: 97, dtype: float32"
      ]
     },
     "execution_count": 28,
     "metadata": {},
     "output_type": "execute_result"
    }
   ],
   "source": [
    "preds = cp.predict(X)\n",
    "preds"
   ]
  },
  {
   "cell_type": "code",
   "execution_count": 43,
   "metadata": {},
   "outputs": [
    {
     "name": "stderr",
     "output_type": "stream",
     "text": [
      "`should_run_async` will not call `transform_cell` automatically in the future. Please pass the result to `transformed_cell` argument and any exception that happen during thetransform in `preprocessing_exc_tuple` in IPython 7.17 and above.\n",
      "unclosed file <_io.BufferedReader name='../../data/pipeline.pkl'>\n"
     ]
    },
    {
     "data": {
      "text/html": [
       "<div>\n",
       "<style scoped>\n",
       "    .dataframe tbody tr th:only-of-type {\n",
       "        vertical-align: middle;\n",
       "    }\n",
       "\n",
       "    .dataframe tbody tr th {\n",
       "        vertical-align: top;\n",
       "    }\n",
       "\n",
       "    .dataframe thead th {\n",
       "        text-align: right;\n",
       "    }\n",
       "</style>\n",
       "<table border=\"1\" class=\"dataframe\">\n",
       "  <thead>\n",
       "    <tr style=\"text-align: right;\">\n",
       "      <th></th>\n",
       "      <th>POSTCODE</th>\n",
       "      <th>AVM</th>\n",
       "    </tr>\n",
       "  </thead>\n",
       "  <tbody>\n",
       "    <tr>\n",
       "      <th>0</th>\n",
       "      <td>EC3R 8DR</td>\n",
       "      <td>724122.0</td>\n",
       "    </tr>\n",
       "    <tr>\n",
       "      <th>1</th>\n",
       "      <td>EC1A 9PN</td>\n",
       "      <td>733028.0</td>\n",
       "    </tr>\n",
       "    <tr>\n",
       "      <th>2</th>\n",
       "      <td>EC2Y 5AG</td>\n",
       "      <td>1133702.0</td>\n",
       "    </tr>\n",
       "    <tr>\n",
       "      <th>3</th>\n",
       "      <td>EC3R 8BT</td>\n",
       "      <td>752921.0</td>\n",
       "    </tr>\n",
       "    <tr>\n",
       "      <th>4</th>\n",
       "      <td>EC1A 4HU</td>\n",
       "      <td>727820.0</td>\n",
       "    </tr>\n",
       "    <tr>\n",
       "      <th>...</th>\n",
       "      <td>...</td>\n",
       "      <td>...</td>\n",
       "    </tr>\n",
       "    <tr>\n",
       "      <th>92</th>\n",
       "      <td>LU7 3AF</td>\n",
       "      <td>327829.0</td>\n",
       "    </tr>\n",
       "    <tr>\n",
       "      <th>93</th>\n",
       "      <td>EC2Y 9BA</td>\n",
       "      <td>946326.0</td>\n",
       "    </tr>\n",
       "    <tr>\n",
       "      <th>94</th>\n",
       "      <td>EC1A 7LS</td>\n",
       "      <td>692215.0</td>\n",
       "    </tr>\n",
       "    <tr>\n",
       "      <th>95</th>\n",
       "      <td>EC4R 0DR</td>\n",
       "      <td>765810.0</td>\n",
       "    </tr>\n",
       "    <tr>\n",
       "      <th>96</th>\n",
       "      <td>EC4A 3EA</td>\n",
       "      <td>720989.0</td>\n",
       "    </tr>\n",
       "  </tbody>\n",
       "</table>\n",
       "<p>97 rows × 2 columns</p>\n",
       "</div>"
      ],
      "text/plain": [
       "    POSTCODE        AVM\n",
       "0   EC3R 8DR   724122.0\n",
       "1   EC1A 9PN   733028.0\n",
       "2   EC2Y 5AG  1133702.0\n",
       "3   EC3R 8BT   752921.0\n",
       "4   EC1A 4HU   727820.0\n",
       "..       ...        ...\n",
       "92   LU7 3AF   327829.0\n",
       "93  EC2Y 9BA   946326.0\n",
       "94  EC1A 7LS   692215.0\n",
       "95  EC4R 0DR   765810.0\n",
       "96  EC4A 3EA   720989.0\n",
       "\n",
       "[97 rows x 2 columns]"
      ]
     },
     "execution_count": 43,
     "metadata": {},
     "output_type": "execute_result"
    }
   ],
   "source": [
    "def AVM(dfs, drop=None):\n",
    "    \n",
    "    # load the model from disk\n",
    "    modelfile = '../../data/pipeline.pkl'\n",
    "    model = pickle.load(open(modelfile, \"rb\"))\n",
    "    \n",
    "    # load the pipeline params from disk\n",
    "    with open('../../data/params.json') as f:\n",
    "        params = json.load(f)\n",
    "        \n",
    "    # load the input_feature_names from disk\n",
    "    with open('../../data/input_feature_names.json') as f:\n",
    "        input_feature_names = json.load(f)\n",
    "        \n",
    "    # configure avm pipeline\n",
    "    class AVMPipeline(RegressionPipeline):\n",
    "        component_graph = component_graph\n",
    "        custom_name = component_graph[2]\n",
    "        input_feature_names = input_feature_names\n",
    "        estimator = model\n",
    "\n",
    "    avm = AVMPipeline(parameters=params, random_state=5).fit(X,y)\n",
    "    POSTCODE = dfs['POSTCODE']\n",
    "    dfs = dfs.set_index('POSTCODE')\n",
    "    prediction = avm.predict(dfs)\n",
    "    resp = {'POSTCODE':POSTCODE, 'AVM':round(prediction)}\n",
    "    return resp\n",
    "\n",
    "dic = AVM(X.reset_index(), drop=None)\n",
    "preds_df = pd.DataFrame(dic)\n",
    "preds_df"
   ]
  },
  {
   "cell_type": "code",
   "execution_count": 37,
   "metadata": {},
   "outputs": [
    {
     "name": "stderr",
     "output_type": "stream",
     "text": [
      "`should_run_async` will not call `transform_cell` automatically in the future. Please pass the result to `transformed_cell` argument and any exception that happen during thetransform in `preprocessing_exc_tuple` in IPython 7.17 and above.\n"
     ]
    },
    {
     "data": {
      "text/plain": [
       "AVMPipeline(parameters={'Imputer':{'categorical_impute_strategy': 'most_frequent', 'numeric_impute_strategy': 'mean', 'categorical_fill_value': None, 'numeric_fill_value': None}, 'One Hot Encoder':{'top_n': 10, 'categories': None, 'drop': None, 'handle_unknown': 'ignore', 'handle_missing': 'error'}, 'XGBoost Regressor':{'eta': 0.1, 'max_depth': 6, 'min_child_weight': 1, 'n_estimators': 100},})"
      ]
     },
     "execution_count": 37,
     "metadata": {},
     "output_type": "execute_result"
    }
   ],
   "source": [
    "# configure avm pipeline\n",
    "class AVMPipeline(RegressionPipeline):\n",
    "    component_graph = component_graph\n",
    "    custom_name = component_graph[2]\n",
    "    input_feature_names = input_feature_names\n",
    "    estimator = model\n",
    "\n",
    "avm = AVMPipeline(parameters=params, random_state=5).fit(X,y)\n",
    "avm"
   ]
  },
  {
   "cell_type": "code",
   "execution_count": 38,
   "metadata": {},
   "outputs": [
    {
     "name": "stderr",
     "output_type": "stream",
     "text": [
      "`should_run_async` will not call `transform_cell` automatically in the future. Please pass the result to `transformed_cell` argument and any exception that happen during thetransform in `preprocessing_exc_tuple` in IPython 7.17 and above.\n"
     ]
    },
    {
     "data": {
      "text/plain": [
       "0     7.241216e+05\n",
       "1     7.330283e+05\n",
       "2     1.133702e+06\n",
       "3     7.529206e+05\n",
       "4     7.278196e+05\n",
       "          ...     \n",
       "92    3.278286e+05\n",
       "93    9.463255e+05\n",
       "94    6.922146e+05\n",
       "95    7.658100e+05\n",
       "96    7.209893e+05\n",
       "Length: 97, dtype: float32"
      ]
     },
     "execution_count": 38,
     "metadata": {},
     "output_type": "execute_result"
    }
   ],
   "source": [
    "avm.predict(X)"
   ]
  },
  {
   "cell_type": "code",
   "execution_count": 44,
   "metadata": {},
   "outputs": [
    {
     "name": "stderr",
     "output_type": "stream",
     "text": [
      "`should_run_async` will not call `transform_cell` automatically in the future. Please pass the result to `transformed_cell` argument and any exception that happen during thetransform in `preprocessing_exc_tuple` in IPython 7.17 and above.\n"
     ]
    },
    {
     "data": {
      "text/plain": [
       "{'Imputer': ['TOTAL_FLOOR_AREA',\n",
       "  'LONG',\n",
       "  'LAT',\n",
       "  'FLOOR_LEVEL',\n",
       "  'FLAT_TOP_STOREY',\n",
       "  'FLAT_STOREY_COUNT',\n",
       "  'PROPERTY_TYPE',\n",
       "  'NUMBER_HABITABLE_ROOMS',\n",
       "  'NUMBER_HEATED_ROOMS'],\n",
       " 'One Hot Encoder': ['TOTAL_FLOOR_AREA',\n",
       "  'LONG',\n",
       "  'LAT',\n",
       "  'FLOOR_LEVEL',\n",
       "  'FLAT_TOP_STOREY',\n",
       "  'FLAT_STOREY_COUNT',\n",
       "  'PROPERTY_TYPE',\n",
       "  'NUMBER_HABITABLE_ROOMS',\n",
       "  'NUMBER_HEATED_ROOMS'],\n",
       " 'XGBoost Regressor': ['TOTAL_FLOOR_AREA',\n",
       "  'LONG',\n",
       "  'LAT',\n",
       "  'FLAT_STOREY_COUNT',\n",
       "  'NUMBER_HABITABLE_ROOMS',\n",
       "  'NUMBER_HEATED_ROOMS',\n",
       "  'FLOOR_LEVEL_1st',\n",
       "  'FLOOR_LEVEL_2nd',\n",
       "  'FLOOR_LEVEL_3rd',\n",
       "  'FLOOR_LEVEL_4th',\n",
       "  'FLOOR_LEVEL_5th',\n",
       "  'FLOOR_LEVEL_6th',\n",
       "  'FLOOR_LEVEL_Ground',\n",
       "  'FLOOR_LEVEL_NO DATA!',\n",
       "  'FLOOR_LEVEL_mid floor',\n",
       "  'FLOOR_LEVEL_top floor',\n",
       "  'FLAT_TOP_STOREY_N',\n",
       "  'FLAT_TOP_STOREY_Y',\n",
       "  'PROPERTY_TYPE_Flat',\n",
       "  'PROPERTY_TYPE_House',\n",
       "  'PROPERTY_TYPE_Maisonette']}"
      ]
     },
     "execution_count": 44,
     "metadata": {},
     "output_type": "execute_result"
    }
   ],
   "source": [
    "avm.input_feature_names"
   ]
  },
  {
   "cell_type": "code",
   "execution_count": null,
   "metadata": {},
   "outputs": [],
   "source": []
  }
 ],
 "metadata": {
  "kernelspec": {
   "display_name": "microservice_price_env",
   "language": "python",
   "name": "microservice_price_env"
  },
  "language_info": {
   "codemirror_mode": {
    "name": "ipython",
    "version": 3
   },
   "file_extension": ".py",
   "mimetype": "text/x-python",
   "name": "python",
   "nbconvert_exporter": "python",
   "pygments_lexer": "ipython3",
   "version": "3.7.9"
  },
  "latex_envs": {
   "LaTeX_envs_menu_present": true,
   "autoclose": false,
   "autocomplete": true,
   "bibliofile": "biblio.bib",
   "cite_by": "apalike",
   "current_citInitial": 1,
   "eqLabelWithNumbers": true,
   "eqNumInitial": 1,
   "hotkeys": {
    "equation": "Ctrl-E",
    "itemize": "Ctrl-I"
   },
   "labels_anchors": false,
   "latex_user_defs": false,
   "report_style_numbering": false,
   "user_envs_cfg": false
  },
  "toc": {
   "base_numbering": 1,
   "nav_menu": {},
   "number_sections": true,
   "sideBar": true,
   "skip_h1_title": false,
   "title_cell": "Table of Contents",
   "title_sidebar": "Contents",
   "toc_cell": false,
   "toc_position": {},
   "toc_section_display": true,
   "toc_window_display": false
  }
 },
 "nbformat": 4,
 "nbformat_minor": 1
}
