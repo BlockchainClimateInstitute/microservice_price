{
 "cells": [
  {
   "cell_type": "markdown",
   "metadata": {},
   "source": [
    "# Automated Valuation Model\n",
    "\n",
    "#### Automated Valuation Model (AVM) is a term for a service that uses mathematical modeling combined with databases of existing properties and transactions to calculate real estate values. The majority of automated valuation models (AVMs) compare the values of similar properties at the same point in time. Many appraisers, and even Wall Street institutions, use this type of model to value residential properties. (see [What is an AVM](https://www.investopedia.com/terms/a/automated-valuation-model.asp) Investopedia.com)\n",
    "\n",
    "\n",
    "#### Why do real estate business use AVMs?\n",
    "- Real estate companies often use Real Estate AVMs to capture the contact information of potential home-sellers.  Home sellers are valuable leads in the real estate industry and the assumption is that people looking to learn the value of a home might want to sell that home.  Many solution providers sell versions of AVM (the most well-known example is the Zillow Zestimate).  Companies take those AVMs, put them on their website or page and try to identify people in their area who will likely enter the real estate market.\n",
    "\n",
    "\n",
    "#### Popular Commercial AVM's\n",
    "* [Zestimate](https://www.zillow.com/zestimate/) - The Zestimate® home valuation model is Zillow’s estimate of a home's market value. The Zestimate incorporates public and user-submitted data, taking into account home facts, location and market conditions.\n",
    "\n",
    "* [Core Logic](https://www.corelogic.com/landing-pages/automated-valuation-models.aspx) -  CoreLogic® is the chosen AVM provider for 8 of the top 10 U.S. mortgage lenders. \n",
    "\n",
    "* [House Canary](https://www.housecanary.com/products/data-points/) - We compute instant valuations spanning property and land values, home equity, and more, and report on the data density behind our conclusions. Gain speed and reduce errors with values and context exactly when and where you need them most.\n",
    "\n",
    "* [Attom Data](https://www.attomdata.com/data/analytics-derived-data/avm-property-valuations/) - Utilizing more than 80 million homes in our property database across all 50 states and representing 99% of the US population, and valuation software developed by Automated Valuation Model Analytics\n",
    "\n",
    "### Valuation Process\n",
    "<img src=\"https://github.com/BlockchainClimateInstitute/microservice_price/develop/notebooks/AVM/valuation_process.png\" height=\"120\" >\n",
    "\n",
    "### Interesting GitHub Repositories related to AVM's\n",
    "* [Zillow-Kaggle](https://github.com/junjiedong/Zillow-Kaggle/blob/master/README.md) - This repo tackles the first round of Zillow’s Home Value Prediction Competition, which challenges competitors to predict the log error between Zestimate and the actual sale price of houses. And the submissions are evaluated based on Mean Absolute Error between the predicted log error and the actual log error. The competition was hosted from May 2017 to October 2017 on Kaggle, and the final private leaderboard was revealed after the evaluation period ended in January 2018.\n",
    "\n",
    "* [AutomatedValuationModel](https://github.com/jayshah5696/AutomaticValuationModel/blob/master/notebooks/Final_notebook.ipynb) -  Automated valuation model (AVM) is the name given to a service that can provide real estate property valuations using mathematical modelling combined with a database. Most AVMs calculate a property’s value at a specific point in time by analyzing values of comparable properties. Some also take into account previous surveyor valuations, historica…\n",
    "\n",
    "* [Lots more on Kaggle](https://www.kaggle.com/c/zillow-prize-1/notebooks) - The Zillow Prize contest competition, sponsored by Zillow, Inc. (“Sponsor”) is open to all individuals over the age of 18 at the time of entry. The competition will contain two rounds, one public and one private.. Each round will have separate datasets, submission deadlines and instructions on how to participate. The instructions on how to participate in each round are listed below. Capitalized terms used but not defined herein have the meanings assigned to them in the Zillow Prize competition Official Rules.\n",
    "\n",
    "### Other interesting articles\n",
    "* [towardsdatascience.com](https://towardsdatascience.com/automated-valuation-model-how-it-works-in-real-estate-industry-8d082757e1ed) - Automated Valuation Model — How It Works in Real Estate Industry?\n",
    "\n",
    "### How does it relate to BCI Risk Modeling?\n",
    "<img src=\"https://github.com/BlockchainClimateInstitute/microservice_price/edit/develop/notebooks/AVM/bci_flowchart_2.png\" height=\"120\" >\n",
    "\n",
    "### Interesting cross-over companies using AVM technology in the context of climate risk modeling\n",
    "* [Jupiter Intelligence](https://jupiterintel.com) - Predicting Risk in a Changing Climate: Jupiter’s AI and Scientific Models Deliver Unrivaled Power\n",
    "\n",
    "### Development Plan\n",
    "- EDA on golden dataset (due by July 1st) - volunteers? email mike.casale@blockchainclimate.org\n",
    "- Basic machine learning studies of different models (due by July 8th) - volunteers? email mike.casale@blockchainclimate.org\n",
    "- Hypertuning & final analysis of machine learning studies (due by July 8th) - volunteers? email mike.casale@blockchainclimate.org\n",
    "- Completed AVM modeling and pipeline + integrate with AWS microservice (due by Aug 1st) - volunteers? email mike.casale@blockchainclimate.org"
   ]
  },
  {
   "cell_type": "markdown",
   "metadata": {},
   "source": [
    "# AutoML in EvalML"
   ]
  },
  {
   "cell_type": "code",
   "execution_count": 60,
   "metadata": {},
   "outputs": [],
   "source": [
    "import evalml, glob, os\n",
    "from evalml.preprocessing import load_data\n",
    "import pandas as pd\n",
    "import urllib\n",
    "import requests, json\n",
    "import numpy as np\n",
    "import pandas as pd"
   ]
  },
  {
   "cell_type": "markdown",
   "metadata": {},
   "source": [
    "# LOAD EPC_PRICE SAMPLE"
   ]
  },
  {
   "cell_type": "code",
   "execution_count": 61,
   "metadata": {},
   "outputs": [
    {
     "data": {
      "text/html": [
       "<div>\n",
       "<style scoped>\n",
       "    .dataframe tbody tr th:only-of-type {\n",
       "        vertical-align: middle;\n",
       "    }\n",
       "\n",
       "    .dataframe tbody tr th {\n",
       "        vertical-align: top;\n",
       "    }\n",
       "\n",
       "    .dataframe thead th {\n",
       "        text-align: right;\n",
       "    }\n",
       "</style>\n",
       "<table border=\"1\" class=\"dataframe\">\n",
       "  <thead>\n",
       "    <tr style=\"text-align: right;\">\n",
       "      <th></th>\n",
       "      <th>index</th>\n",
       "      <th>Postcode</th>\n",
       "      <th>PriceAddress</th>\n",
       "      <th>EpcAddress</th>\n",
       "      <th>JaroDistance</th>\n",
       "      <th>Price</th>\n",
       "      <th>PurchaseDate</th>\n",
       "      <th>PropertyType</th>\n",
       "      <th>New</th>\n",
       "      <th>Duration</th>\n",
       "      <th>...</th>\n",
       "      <th>PotentialEnergyRating</th>\n",
       "      <th>CurrentEnergyEfficiency</th>\n",
       "      <th>PotentialEnergyEfficiency</th>\n",
       "      <th>EpcInspectionDate</th>\n",
       "      <th>GlazedArea</th>\n",
       "      <th>HabitableRooms</th>\n",
       "      <th>HeatedRooms</th>\n",
       "      <th>FlatStoreyCount</th>\n",
       "      <th>TotalFloorArea</th>\n",
       "      <th>FloorLevel</th>\n",
       "    </tr>\n",
       "  </thead>\n",
       "  <tbody>\n",
       "    <tr>\n",
       "      <th>0</th>\n",
       "      <td>0</td>\n",
       "      <td>WV69QH</td>\n",
       "      <td>142, CODSALL ROAD,</td>\n",
       "      <td>142, Codsall Road,</td>\n",
       "      <td>1.00</td>\n",
       "      <td>437500</td>\n",
       "      <td>5/20/20 0:00</td>\n",
       "      <td>D</td>\n",
       "      <td>N</td>\n",
       "      <td>F</td>\n",
       "      <td>...</td>\n",
       "      <td>C</td>\n",
       "      <td>55</td>\n",
       "      <td>75</td>\n",
       "      <td>6/24/13</td>\n",
       "      <td>Normal</td>\n",
       "      <td>8.0</td>\n",
       "      <td>8.0</td>\n",
       "      <td>NaN</td>\n",
       "      <td>348.0</td>\n",
       "      <td>NODATA!</td>\n",
       "    </tr>\n",
       "    <tr>\n",
       "      <th>1</th>\n",
       "      <td>1</td>\n",
       "      <td>WV108AB</td>\n",
       "      <td>49, CARISBROOKE ROAD,</td>\n",
       "      <td>49, Carisbrooke Road, Bushbury,</td>\n",
       "      <td>0.94</td>\n",
       "      <td>140000</td>\n",
       "      <td>2/7/20 0:00</td>\n",
       "      <td>S</td>\n",
       "      <td>N</td>\n",
       "      <td>F</td>\n",
       "      <td>...</td>\n",
       "      <td>B</td>\n",
       "      <td>81</td>\n",
       "      <td>85</td>\n",
       "      <td>6/17/16</td>\n",
       "      <td>Normal</td>\n",
       "      <td>5.0</td>\n",
       "      <td>4.0</td>\n",
       "      <td>NaN</td>\n",
       "      <td>84.0</td>\n",
       "      <td>NODATA!</td>\n",
       "    </tr>\n",
       "    <tr>\n",
       "      <th>2</th>\n",
       "      <td>2</td>\n",
       "      <td>WV46BJ</td>\n",
       "      <td>56, GREENOCK CRESCENT,</td>\n",
       "      <td>56, Greenock Crescent,</td>\n",
       "      <td>1.00</td>\n",
       "      <td>102000</td>\n",
       "      <td>3/11/20 0:00</td>\n",
       "      <td>F</td>\n",
       "      <td>N</td>\n",
       "      <td>L</td>\n",
       "      <td>...</td>\n",
       "      <td>C</td>\n",
       "      <td>78</td>\n",
       "      <td>79</td>\n",
       "      <td>5/2/12</td>\n",
       "      <td>Normal</td>\n",
       "      <td>3.0</td>\n",
       "      <td>3.0</td>\n",
       "      <td>NaN</td>\n",
       "      <td>77.0</td>\n",
       "      <td>2nd</td>\n",
       "    </tr>\n",
       "    <tr>\n",
       "      <th>3</th>\n",
       "      <td>3</td>\n",
       "      <td>WV112QQ</td>\n",
       "      <td>21, RYAN AVENUE,</td>\n",
       "      <td>21, Ryan Avenue,</td>\n",
       "      <td>1.00</td>\n",
       "      <td>141000</td>\n",
       "      <td>5/18/20 0:00</td>\n",
       "      <td>S</td>\n",
       "      <td>N</td>\n",
       "      <td>F</td>\n",
       "      <td>...</td>\n",
       "      <td>C</td>\n",
       "      <td>62</td>\n",
       "      <td>79</td>\n",
       "      <td>10/30/19</td>\n",
       "      <td>Normal</td>\n",
       "      <td>5.0</td>\n",
       "      <td>5.0</td>\n",
       "      <td>NaN</td>\n",
       "      <td>77.0</td>\n",
       "      <td>NODATA!</td>\n",
       "    </tr>\n",
       "    <tr>\n",
       "      <th>4</th>\n",
       "      <td>4</td>\n",
       "      <td>WV147AP</td>\n",
       "      <td>34, MARBURY DRIVE,</td>\n",
       "      <td>34, Marbury Drive,</td>\n",
       "      <td>1.00</td>\n",
       "      <td>122000</td>\n",
       "      <td>3/13/20 0:00</td>\n",
       "      <td>S</td>\n",
       "      <td>N</td>\n",
       "      <td>L</td>\n",
       "      <td>...</td>\n",
       "      <td>C</td>\n",
       "      <td>75</td>\n",
       "      <td>75</td>\n",
       "      <td>9/29/11</td>\n",
       "      <td>Normal</td>\n",
       "      <td>3.0</td>\n",
       "      <td>3.0</td>\n",
       "      <td>NaN</td>\n",
       "      <td>56.5</td>\n",
       "      <td>NODATA!</td>\n",
       "    </tr>\n",
       "    <tr>\n",
       "      <th>...</th>\n",
       "      <td>...</td>\n",
       "      <td>...</td>\n",
       "      <td>...</td>\n",
       "      <td>...</td>\n",
       "      <td>...</td>\n",
       "      <td>...</td>\n",
       "      <td>...</td>\n",
       "      <td>...</td>\n",
       "      <td>...</td>\n",
       "      <td>...</td>\n",
       "      <td>...</td>\n",
       "      <td>...</td>\n",
       "      <td>...</td>\n",
       "      <td>...</td>\n",
       "      <td>...</td>\n",
       "      <td>...</td>\n",
       "      <td>...</td>\n",
       "      <td>...</td>\n",
       "      <td>...</td>\n",
       "      <td>...</td>\n",
       "      <td>...</td>\n",
       "    </tr>\n",
       "    <tr>\n",
       "      <th>1116</th>\n",
       "      <td>1116</td>\n",
       "      <td>WV22AW</td>\n",
       "      <td>116 - 126, STEELHOUSE LANE,</td>\n",
       "      <td>100, Steelhouse Lane,</td>\n",
       "      <td>0.75</td>\n",
       "      <td>280000</td>\n",
       "      <td>5/26/20 0:00</td>\n",
       "      <td>O</td>\n",
       "      <td>N</td>\n",
       "      <td>F</td>\n",
       "      <td>...</td>\n",
       "      <td>A</td>\n",
       "      <td>96</td>\n",
       "      <td>97</td>\n",
       "      <td>1/31/20</td>\n",
       "      <td>NO DATA!</td>\n",
       "      <td>NaN</td>\n",
       "      <td>NaN</td>\n",
       "      <td>NaN</td>\n",
       "      <td>107.0</td>\n",
       "      <td>NO DATA!</td>\n",
       "    </tr>\n",
       "    <tr>\n",
       "      <th>1117</th>\n",
       "      <td>1117</td>\n",
       "      <td>WV108RP</td>\n",
       "      <td>55, PRIMROSE LANE,</td>\n",
       "      <td>55, Primrose Lane,</td>\n",
       "      <td>1.00</td>\n",
       "      <td>162000</td>\n",
       "      <td>2/7/20 0:00</td>\n",
       "      <td>S</td>\n",
       "      <td>N</td>\n",
       "      <td>F</td>\n",
       "      <td>...</td>\n",
       "      <td>B</td>\n",
       "      <td>72</td>\n",
       "      <td>85</td>\n",
       "      <td>9/16/19</td>\n",
       "      <td>Normal</td>\n",
       "      <td>5.0</td>\n",
       "      <td>5.0</td>\n",
       "      <td>NaN</td>\n",
       "      <td>102.0</td>\n",
       "      <td>NODATA!</td>\n",
       "    </tr>\n",
       "    <tr>\n",
       "      <th>1118</th>\n",
       "      <td>1118</td>\n",
       "      <td>WV106BA</td>\n",
       "      <td>12, THREE TUNS PARADE,</td>\n",
       "      <td>Flat, 12a, Three Tuns Parade,</td>\n",
       "      <td>0.76</td>\n",
       "      <td>150000</td>\n",
       "      <td>6/24/20 0:00</td>\n",
       "      <td>O</td>\n",
       "      <td>N</td>\n",
       "      <td>F</td>\n",
       "      <td>...</td>\n",
       "      <td>C</td>\n",
       "      <td>57</td>\n",
       "      <td>72</td>\n",
       "      <td>4/11/19</td>\n",
       "      <td>Normal</td>\n",
       "      <td>3.0</td>\n",
       "      <td>3.0</td>\n",
       "      <td>NaN</td>\n",
       "      <td>67.0</td>\n",
       "      <td>Ground</td>\n",
       "    </tr>\n",
       "    <tr>\n",
       "      <th>1119</th>\n",
       "      <td>1119</td>\n",
       "      <td>WV38NA</td>\n",
       "      <td>201, CASTLECROFT ROAD,</td>\n",
       "      <td>201, Castlecroft Road,</td>\n",
       "      <td>1.00</td>\n",
       "      <td>470000</td>\n",
       "      <td>4/6/20 0:00</td>\n",
       "      <td>D</td>\n",
       "      <td>N</td>\n",
       "      <td>F</td>\n",
       "      <td>...</td>\n",
       "      <td>C</td>\n",
       "      <td>56</td>\n",
       "      <td>75</td>\n",
       "      <td>5/22/14</td>\n",
       "      <td>Normal</td>\n",
       "      <td>7.0</td>\n",
       "      <td>7.0</td>\n",
       "      <td>NaN</td>\n",
       "      <td>229.0</td>\n",
       "      <td>NODATA!</td>\n",
       "    </tr>\n",
       "    <tr>\n",
       "      <th>1120</th>\n",
       "      <td>1120</td>\n",
       "      <td>WV11HN</td>\n",
       "      <td>COACH HOUSE, 6, WHEELERS FOLD,</td>\n",
       "      <td>The Coach House, 6 Wheelers Fold,</td>\n",
       "      <td>0.79</td>\n",
       "      <td>220000</td>\n",
       "      <td>6/15/20 0:00</td>\n",
       "      <td>O</td>\n",
       "      <td>N</td>\n",
       "      <td>F</td>\n",
       "      <td>...</td>\n",
       "      <td>C</td>\n",
       "      <td>56</td>\n",
       "      <td>77</td>\n",
       "      <td>1/21/20</td>\n",
       "      <td>Normal</td>\n",
       "      <td>7.0</td>\n",
       "      <td>7.0</td>\n",
       "      <td>NaN</td>\n",
       "      <td>97.0</td>\n",
       "      <td>NODATA!</td>\n",
       "    </tr>\n",
       "  </tbody>\n",
       "</table>\n",
       "<p>1121 rows × 21 columns</p>\n",
       "</div>"
      ],
      "text/plain": [
       "      index Postcode                     PriceAddress  \\\n",
       "0         0   WV69QH              142, CODSALL ROAD,    \n",
       "1         1  WV108AB           49, CARISBROOKE ROAD,    \n",
       "2         2   WV46BJ          56, GREENOCK CRESCENT,    \n",
       "3         3  WV112QQ                21, RYAN AVENUE,    \n",
       "4         4  WV147AP              34, MARBURY DRIVE,    \n",
       "...     ...      ...                              ...   \n",
       "1116   1116   WV22AW     116 - 126, STEELHOUSE LANE,    \n",
       "1117   1117  WV108RP              55, PRIMROSE LANE,    \n",
       "1118   1118  WV106BA          12, THREE TUNS PARADE,    \n",
       "1119   1119   WV38NA          201, CASTLECROFT ROAD,    \n",
       "1120   1120   WV11HN  COACH HOUSE, 6, WHEELERS FOLD,    \n",
       "\n",
       "                              EpcAddress  JaroDistance   Price  PurchaseDate  \\\n",
       "0                    142, Codsall Road,           1.00  437500  5/20/20 0:00   \n",
       "1       49, Carisbrooke Road, Bushbury,           0.94  140000   2/7/20 0:00   \n",
       "2                56, Greenock Crescent,           1.00  102000  3/11/20 0:00   \n",
       "3                      21, Ryan Avenue,           1.00  141000  5/18/20 0:00   \n",
       "4                    34, Marbury Drive,           1.00  122000  3/13/20 0:00   \n",
       "...                                  ...           ...     ...           ...   \n",
       "1116              100, Steelhouse Lane,           0.75  280000  5/26/20 0:00   \n",
       "1117                 55, Primrose Lane,           1.00  162000   2/7/20 0:00   \n",
       "1118      Flat, 12a, Three Tuns Parade,           0.76  150000  6/24/20 0:00   \n",
       "1119             201, Castlecroft Road,           1.00  470000   4/6/20 0:00   \n",
       "1120  The Coach House, 6 Wheelers Fold,           0.79  220000  6/15/20 0:00   \n",
       "\n",
       "     PropertyType New Duration  ... PotentialEnergyRating  \\\n",
       "0               D   N        F  ...                     C   \n",
       "1               S   N        F  ...                     B   \n",
       "2               F   N        L  ...                     C   \n",
       "3               S   N        F  ...                     C   \n",
       "4               S   N        L  ...                     C   \n",
       "...           ...  ..      ...  ...                   ...   \n",
       "1116            O   N        F  ...                     A   \n",
       "1117            S   N        F  ...                     B   \n",
       "1118            O   N        F  ...                     C   \n",
       "1119            D   N        F  ...                     C   \n",
       "1120            O   N        F  ...                     C   \n",
       "\n",
       "     CurrentEnergyEfficiency  PotentialEnergyEfficiency  EpcInspectionDate  \\\n",
       "0                         55                         75            6/24/13   \n",
       "1                         81                         85            6/17/16   \n",
       "2                         78                         79             5/2/12   \n",
       "3                         62                         79           10/30/19   \n",
       "4                         75                         75            9/29/11   \n",
       "...                      ...                        ...                ...   \n",
       "1116                      96                         97            1/31/20   \n",
       "1117                      72                         85            9/16/19   \n",
       "1118                      57                         72            4/11/19   \n",
       "1119                      56                         75            5/22/14   \n",
       "1120                      56                         77            1/21/20   \n",
       "\n",
       "     GlazedArea HabitableRooms  HeatedRooms  FlatStoreyCount  TotalFloorArea  \\\n",
       "0        Normal            8.0          8.0              NaN           348.0   \n",
       "1        Normal            5.0          4.0              NaN            84.0   \n",
       "2        Normal            3.0          3.0              NaN            77.0   \n",
       "3        Normal            5.0          5.0              NaN            77.0   \n",
       "4        Normal            3.0          3.0              NaN            56.5   \n",
       "...         ...            ...          ...              ...             ...   \n",
       "1116   NO DATA!            NaN          NaN              NaN           107.0   \n",
       "1117     Normal            5.0          5.0              NaN           102.0   \n",
       "1118     Normal            3.0          3.0              NaN            67.0   \n",
       "1119     Normal            7.0          7.0              NaN           229.0   \n",
       "1120     Normal            7.0          7.0              NaN            97.0   \n",
       "\n",
       "      FloorLevel  \n",
       "0        NODATA!  \n",
       "1        NODATA!  \n",
       "2            2nd  \n",
       "3        NODATA!  \n",
       "4        NODATA!  \n",
       "...          ...  \n",
       "1116    NO DATA!  \n",
       "1117     NODATA!  \n",
       "1118      Ground  \n",
       "1119     NODATA!  \n",
       "1120     NODATA!  \n",
       "\n",
       "[1121 rows x 21 columns]"
      ]
     },
     "execution_count": 61,
     "metadata": {},
     "output_type": "execute_result"
    }
   ],
   "source": [
    "datapath = '../../data/processed/sample_EPC_Price_merged.csv'\n",
    "data = pd.read_csv(datapath)\n",
    "data = data.reset_index()\n",
    "data"
   ]
  },
  {
   "cell_type": "markdown",
   "metadata": {},
   "source": [
    "# Handle Date Features "
   ]
  },
  {
   "cell_type": "code",
   "execution_count": 62,
   "metadata": {},
   "outputs": [
    {
     "data": {
      "text/html": [
       "<div>\n",
       "<style scoped>\n",
       "    .dataframe tbody tr th:only-of-type {\n",
       "        vertical-align: middle;\n",
       "    }\n",
       "\n",
       "    .dataframe tbody tr th {\n",
       "        vertical-align: top;\n",
       "    }\n",
       "\n",
       "    .dataframe thead th {\n",
       "        text-align: right;\n",
       "    }\n",
       "</style>\n",
       "<table border=\"1\" class=\"dataframe\">\n",
       "  <thead>\n",
       "    <tr style=\"text-align: right;\">\n",
       "      <th></th>\n",
       "      <th>index</th>\n",
       "      <th>PurchaseDate_year</th>\n",
       "      <th>PurchaseDate_month</th>\n",
       "      <th>PurchaseDate_day_of_week</th>\n",
       "      <th>PurchaseDate_hour</th>\n",
       "      <th>EpcInspectionDate_year</th>\n",
       "      <th>EpcInspectionDate_month</th>\n",
       "      <th>EpcInspectionDate_day_of_week</th>\n",
       "      <th>EpcInspectionDate_hour</th>\n",
       "    </tr>\n",
       "  </thead>\n",
       "  <tbody>\n",
       "    <tr>\n",
       "      <th>0</th>\n",
       "      <td>0</td>\n",
       "      <td>2020</td>\n",
       "      <td>May</td>\n",
       "      <td>Wednesday</td>\n",
       "      <td>0</td>\n",
       "      <td>2013</td>\n",
       "      <td>June</td>\n",
       "      <td>Monday</td>\n",
       "      <td>0</td>\n",
       "    </tr>\n",
       "    <tr>\n",
       "      <th>1</th>\n",
       "      <td>1</td>\n",
       "      <td>2020</td>\n",
       "      <td>February</td>\n",
       "      <td>Friday</td>\n",
       "      <td>0</td>\n",
       "      <td>2016</td>\n",
       "      <td>June</td>\n",
       "      <td>Friday</td>\n",
       "      <td>0</td>\n",
       "    </tr>\n",
       "    <tr>\n",
       "      <th>2</th>\n",
       "      <td>2</td>\n",
       "      <td>2020</td>\n",
       "      <td>March</td>\n",
       "      <td>Wednesday</td>\n",
       "      <td>0</td>\n",
       "      <td>2012</td>\n",
       "      <td>May</td>\n",
       "      <td>Wednesday</td>\n",
       "      <td>0</td>\n",
       "    </tr>\n",
       "    <tr>\n",
       "      <th>3</th>\n",
       "      <td>3</td>\n",
       "      <td>2020</td>\n",
       "      <td>May</td>\n",
       "      <td>Monday</td>\n",
       "      <td>0</td>\n",
       "      <td>2019</td>\n",
       "      <td>October</td>\n",
       "      <td>Wednesday</td>\n",
       "      <td>0</td>\n",
       "    </tr>\n",
       "    <tr>\n",
       "      <th>4</th>\n",
       "      <td>4</td>\n",
       "      <td>2020</td>\n",
       "      <td>March</td>\n",
       "      <td>Friday</td>\n",
       "      <td>0</td>\n",
       "      <td>2011</td>\n",
       "      <td>September</td>\n",
       "      <td>Thursday</td>\n",
       "      <td>0</td>\n",
       "    </tr>\n",
       "    <tr>\n",
       "      <th>...</th>\n",
       "      <td>...</td>\n",
       "      <td>...</td>\n",
       "      <td>...</td>\n",
       "      <td>...</td>\n",
       "      <td>...</td>\n",
       "      <td>...</td>\n",
       "      <td>...</td>\n",
       "      <td>...</td>\n",
       "      <td>...</td>\n",
       "    </tr>\n",
       "    <tr>\n",
       "      <th>1116</th>\n",
       "      <td>1116</td>\n",
       "      <td>2020</td>\n",
       "      <td>May</td>\n",
       "      <td>Tuesday</td>\n",
       "      <td>0</td>\n",
       "      <td>2020</td>\n",
       "      <td>January</td>\n",
       "      <td>Friday</td>\n",
       "      <td>0</td>\n",
       "    </tr>\n",
       "    <tr>\n",
       "      <th>1117</th>\n",
       "      <td>1117</td>\n",
       "      <td>2020</td>\n",
       "      <td>February</td>\n",
       "      <td>Friday</td>\n",
       "      <td>0</td>\n",
       "      <td>2019</td>\n",
       "      <td>September</td>\n",
       "      <td>Monday</td>\n",
       "      <td>0</td>\n",
       "    </tr>\n",
       "    <tr>\n",
       "      <th>1118</th>\n",
       "      <td>1118</td>\n",
       "      <td>2020</td>\n",
       "      <td>June</td>\n",
       "      <td>Wednesday</td>\n",
       "      <td>0</td>\n",
       "      <td>2019</td>\n",
       "      <td>April</td>\n",
       "      <td>Thursday</td>\n",
       "      <td>0</td>\n",
       "    </tr>\n",
       "    <tr>\n",
       "      <th>1119</th>\n",
       "      <td>1119</td>\n",
       "      <td>2020</td>\n",
       "      <td>April</td>\n",
       "      <td>Monday</td>\n",
       "      <td>0</td>\n",
       "      <td>2014</td>\n",
       "      <td>May</td>\n",
       "      <td>Thursday</td>\n",
       "      <td>0</td>\n",
       "    </tr>\n",
       "    <tr>\n",
       "      <th>1120</th>\n",
       "      <td>1120</td>\n",
       "      <td>2020</td>\n",
       "      <td>June</td>\n",
       "      <td>Monday</td>\n",
       "      <td>0</td>\n",
       "      <td>2020</td>\n",
       "      <td>January</td>\n",
       "      <td>Tuesday</td>\n",
       "      <td>0</td>\n",
       "    </tr>\n",
       "  </tbody>\n",
       "</table>\n",
       "<p>1121 rows × 9 columns</p>\n",
       "</div>"
      ],
      "text/plain": [
       "      index  PurchaseDate_year PurchaseDate_month PurchaseDate_day_of_week  \\\n",
       "0         0               2020                May                Wednesday   \n",
       "1         1               2020           February                   Friday   \n",
       "2         2               2020              March                Wednesday   \n",
       "3         3               2020                May                   Monday   \n",
       "4         4               2020              March                   Friday   \n",
       "...     ...                ...                ...                      ...   \n",
       "1116   1116               2020                May                  Tuesday   \n",
       "1117   1117               2020           February                   Friday   \n",
       "1118   1118               2020               June                Wednesday   \n",
       "1119   1119               2020              April                   Monday   \n",
       "1120   1120               2020               June                   Monday   \n",
       "\n",
       "      PurchaseDate_hour  EpcInspectionDate_year EpcInspectionDate_month  \\\n",
       "0                     0                    2013                    June   \n",
       "1                     0                    2016                    June   \n",
       "2                     0                    2012                     May   \n",
       "3                     0                    2019                 October   \n",
       "4                     0                    2011               September   \n",
       "...                 ...                     ...                     ...   \n",
       "1116                  0                    2020                 January   \n",
       "1117                  0                    2019               September   \n",
       "1118                  0                    2019                   April   \n",
       "1119                  0                    2014                     May   \n",
       "1120                  0                    2020                 January   \n",
       "\n",
       "     EpcInspectionDate_day_of_week  EpcInspectionDate_hour  \n",
       "0                           Monday                       0  \n",
       "1                           Friday                       0  \n",
       "2                        Wednesday                       0  \n",
       "3                        Wednesday                       0  \n",
       "4                         Thursday                       0  \n",
       "...                            ...                     ...  \n",
       "1116                        Friday                       0  \n",
       "1117                        Monday                       0  \n",
       "1118                      Thursday                       0  \n",
       "1119                      Thursday                       0  \n",
       "1120                       Tuesday                       0  \n",
       "\n",
       "[1121 rows x 9 columns]"
      ]
     },
     "execution_count": 62,
     "metadata": {},
     "output_type": "execute_result"
    }
   ],
   "source": [
    "#handle datefields\n",
    "from evalml.pipelines.components.transformers import DateTimeFeaturizer\n",
    "\n",
    "dtf = DateTimeFeaturizer(features_to_extract = [\"year\", \"month\", \"day_of_week\", \"hour\"])\n",
    "datefields = ['PurchaseDate','EpcInspectionDate']\n",
    "data[datefields[0]] = pd.to_datetime(data[datefields[0]])\n",
    "data[datefields[1]] = pd.to_datetime(data[datefields[1]])\n",
    "Xdates = data[datefields]\n",
    "dtf.fit(Xdates)\n",
    "Xdates = dtf.transform(Xdates)\n",
    "Xdates = Xdates.reset_index()\n",
    "Xdates\n"
   ]
  },
  {
   "cell_type": "code",
   "execution_count": 63,
   "metadata": {},
   "outputs": [],
   "source": [
    "data_t = pd.merge(data, Xdates, on='index')\n",
    "data_t = data_t.drop(datefields,axis=1)\n",
    "data_t = data_t.drop('index',axis=1)\n",
    "t_datapath = datapath.replace('.csv','_t.csv')\n",
    "data_t.to_csv(t_datapath,index=False)\n"
   ]
  },
  {
   "cell_type": "code",
   "execution_count": 64,
   "metadata": {},
   "outputs": [
    {
     "name": "stdout",
     "output_type": "stream",
     "text": [
      "             Number of Features\n",
      "Categorical                  11\n",
      "Numeric                      10\n",
      "\n",
      "Number of training examples: 1121\n",
      "Targets\n",
      "130000    2.14%\n",
      "140000    1.96%\n",
      "125000    1.69%\n",
      "90000     1.61%\n",
      "155000    1.61%\n",
      "          ...  \n",
      "234500    0.09%\n",
      "277500    0.09%\n",
      "257000    0.09%\n",
      "236500    0.09%\n",
      "256000    0.09%\n",
      "Name: Price, Length: 380, dtype: object\n"
     ]
    },
    {
     "data": {
      "text/plain": [
       "(                                                                                         PropertyType  \\\n",
       " Postcode PriceAddress                    EpcAddress                         JaroDistance                \n",
       " WV69QH   142, CODSALL ROAD,              142, Codsall Road,                 1.00                    D   \n",
       " WV108AB  49, CARISBROOKE ROAD,           49, Carisbrooke Road, Bushbury,    0.94                    S   \n",
       " WV46BJ   56, GREENOCK CRESCENT,          56, Greenock Crescent,             1.00                    F   \n",
       " WV112QQ  21, RYAN AVENUE,                21, Ryan Avenue,                   1.00                    S   \n",
       " WV147AP  34, MARBURY DRIVE,              34, Marbury Drive,                 1.00                    S   \n",
       " ...                                                                                               ...   \n",
       " WV22AW   116 - 126, STEELHOUSE LANE,     100, Steelhouse Lane,              0.75                    O   \n",
       " WV108RP  55, PRIMROSE LANE,              55, Primrose Lane,                 1.00                    S   \n",
       " WV106BA  12, THREE TUNS PARADE,          Flat, 12a, Three Tuns Parade,      0.76                    O   \n",
       " WV38NA   201, CASTLECROFT ROAD,          201, Castlecroft Road,             1.00                    D   \n",
       " WV11HN   COACH HOUSE, 6, WHEELERS FOLD,  The Coach House, 6 Wheelers Fold,  0.79                    O   \n",
       " \n",
       "                                                                                          New  \\\n",
       " Postcode PriceAddress                    EpcAddress                         JaroDistance       \n",
       " WV69QH   142, CODSALL ROAD,              142, Codsall Road,                 1.00           N   \n",
       " WV108AB  49, CARISBROOKE ROAD,           49, Carisbrooke Road, Bushbury,    0.94           N   \n",
       " WV46BJ   56, GREENOCK CRESCENT,          56, Greenock Crescent,             1.00           N   \n",
       " WV112QQ  21, RYAN AVENUE,                21, Ryan Avenue,                   1.00           N   \n",
       " WV147AP  34, MARBURY DRIVE,              34, Marbury Drive,                 1.00           N   \n",
       " ...                                                                                       ..   \n",
       " WV22AW   116 - 126, STEELHOUSE LANE,     100, Steelhouse Lane,              0.75           N   \n",
       " WV108RP  55, PRIMROSE LANE,              55, Primrose Lane,                 1.00           N   \n",
       " WV106BA  12, THREE TUNS PARADE,          Flat, 12a, Three Tuns Parade,      0.76           N   \n",
       " WV38NA   201, CASTLECROFT ROAD,          201, Castlecroft Road,             1.00           N   \n",
       " WV11HN   COACH HOUSE, 6, WHEELERS FOLD,  The Coach House, 6 Wheelers Fold,  0.79           N   \n",
       " \n",
       "                                                                                          Duration  \\\n",
       " Postcode PriceAddress                    EpcAddress                         JaroDistance            \n",
       " WV69QH   142, CODSALL ROAD,              142, Codsall Road,                 1.00                F   \n",
       " WV108AB  49, CARISBROOKE ROAD,           49, Carisbrooke Road, Bushbury,    0.94                F   \n",
       " WV46BJ   56, GREENOCK CRESCENT,          56, Greenock Crescent,             1.00                L   \n",
       " WV112QQ  21, RYAN AVENUE,                21, Ryan Avenue,                   1.00                F   \n",
       " WV147AP  34, MARBURY DRIVE,              34, Marbury Drive,                 1.00                L   \n",
       " ...                                                                                           ...   \n",
       " WV22AW   116 - 126, STEELHOUSE LANE,     100, Steelhouse Lane,              0.75                F   \n",
       " WV108RP  55, PRIMROSE LANE,              55, Primrose Lane,                 1.00                F   \n",
       " WV106BA  12, THREE TUNS PARADE,          Flat, 12a, Three Tuns Parade,      0.76                F   \n",
       " WV38NA   201, CASTLECROFT ROAD,          201, Castlecroft Road,             1.00                F   \n",
       " WV11HN   COACH HOUSE, 6, WHEELERS FOLD,  The Coach House, 6 Wheelers Fold,  0.79                F   \n",
       " \n",
       "                                                                                          CurrentEnergyRating  \\\n",
       " Postcode PriceAddress                    EpcAddress                         JaroDistance                       \n",
       " WV69QH   142, CODSALL ROAD,              142, Codsall Road,                 1.00                           D   \n",
       " WV108AB  49, CARISBROOKE ROAD,           49, Carisbrooke Road, Bushbury,    0.94                           B   \n",
       " WV46BJ   56, GREENOCK CRESCENT,          56, Greenock Crescent,             1.00                           C   \n",
       " WV112QQ  21, RYAN AVENUE,                21, Ryan Avenue,                   1.00                           D   \n",
       " WV147AP  34, MARBURY DRIVE,              34, Marbury Drive,                 1.00                           C   \n",
       " ...                                                                                                      ...   \n",
       " WV22AW   116 - 126, STEELHOUSE LANE,     100, Steelhouse Lane,              0.75                           A   \n",
       " WV108RP  55, PRIMROSE LANE,              55, Primrose Lane,                 1.00                           C   \n",
       " WV106BA  12, THREE TUNS PARADE,          Flat, 12a, Three Tuns Parade,      0.76                           D   \n",
       " WV38NA   201, CASTLECROFT ROAD,          201, Castlecroft Road,             1.00                           D   \n",
       " WV11HN   COACH HOUSE, 6, WHEELERS FOLD,  The Coach House, 6 Wheelers Fold,  0.79                           D   \n",
       " \n",
       "                                                                                          PotentialEnergyRating  \\\n",
       " Postcode PriceAddress                    EpcAddress                         JaroDistance                         \n",
       " WV69QH   142, CODSALL ROAD,              142, Codsall Road,                 1.00                             C   \n",
       " WV108AB  49, CARISBROOKE ROAD,           49, Carisbrooke Road, Bushbury,    0.94                             B   \n",
       " WV46BJ   56, GREENOCK CRESCENT,          56, Greenock Crescent,             1.00                             C   \n",
       " WV112QQ  21, RYAN AVENUE,                21, Ryan Avenue,                   1.00                             C   \n",
       " WV147AP  34, MARBURY DRIVE,              34, Marbury Drive,                 1.00                             C   \n",
       " ...                                                                                                        ...   \n",
       " WV22AW   116 - 126, STEELHOUSE LANE,     100, Steelhouse Lane,              0.75                             A   \n",
       " WV108RP  55, PRIMROSE LANE,              55, Primrose Lane,                 1.00                             B   \n",
       " WV106BA  12, THREE TUNS PARADE,          Flat, 12a, Three Tuns Parade,      0.76                             C   \n",
       " WV38NA   201, CASTLECROFT ROAD,          201, Castlecroft Road,             1.00                             C   \n",
       " WV11HN   COACH HOUSE, 6, WHEELERS FOLD,  The Coach House, 6 Wheelers Fold,  0.79                             C   \n",
       " \n",
       "                                                                                           CurrentEnergyEfficiency  \\\n",
       " Postcode PriceAddress                    EpcAddress                         JaroDistance                            \n",
       " WV69QH   142, CODSALL ROAD,              142, Codsall Road,                 1.00                               55   \n",
       " WV108AB  49, CARISBROOKE ROAD,           49, Carisbrooke Road, Bushbury,    0.94                               81   \n",
       " WV46BJ   56, GREENOCK CRESCENT,          56, Greenock Crescent,             1.00                               78   \n",
       " WV112QQ  21, RYAN AVENUE,                21, Ryan Avenue,                   1.00                               62   \n",
       " WV147AP  34, MARBURY DRIVE,              34, Marbury Drive,                 1.00                               75   \n",
       " ...                                                                                                           ...   \n",
       " WV22AW   116 - 126, STEELHOUSE LANE,     100, Steelhouse Lane,              0.75                               96   \n",
       " WV108RP  55, PRIMROSE LANE,              55, Primrose Lane,                 1.00                               72   \n",
       " WV106BA  12, THREE TUNS PARADE,          Flat, 12a, Three Tuns Parade,      0.76                               57   \n",
       " WV38NA   201, CASTLECROFT ROAD,          201, Castlecroft Road,             1.00                               56   \n",
       " WV11HN   COACH HOUSE, 6, WHEELERS FOLD,  The Coach House, 6 Wheelers Fold,  0.79                               56   \n",
       " \n",
       "                                                                                           PotentialEnergyEfficiency  \\\n",
       " Postcode PriceAddress                    EpcAddress                         JaroDistance                              \n",
       " WV69QH   142, CODSALL ROAD,              142, Codsall Road,                 1.00                                 75   \n",
       " WV108AB  49, CARISBROOKE ROAD,           49, Carisbrooke Road, Bushbury,    0.94                                 85   \n",
       " WV46BJ   56, GREENOCK CRESCENT,          56, Greenock Crescent,             1.00                                 79   \n",
       " WV112QQ  21, RYAN AVENUE,                21, Ryan Avenue,                   1.00                                 79   \n",
       " WV147AP  34, MARBURY DRIVE,              34, Marbury Drive,                 1.00                                 75   \n",
       " ...                                                                                                             ...   \n",
       " WV22AW   116 - 126, STEELHOUSE LANE,     100, Steelhouse Lane,              0.75                                 97   \n",
       " WV108RP  55, PRIMROSE LANE,              55, Primrose Lane,                 1.00                                 85   \n",
       " WV106BA  12, THREE TUNS PARADE,          Flat, 12a, Three Tuns Parade,      0.76                                 72   \n",
       " WV38NA   201, CASTLECROFT ROAD,          201, Castlecroft Road,             1.00                                 75   \n",
       " WV11HN   COACH HOUSE, 6, WHEELERS FOLD,  The Coach House, 6 Wheelers Fold,  0.79                                 77   \n",
       " \n",
       "                                                                                          GlazedArea  \\\n",
       " Postcode PriceAddress                    EpcAddress                         JaroDistance              \n",
       " WV69QH   142, CODSALL ROAD,              142, Codsall Road,                 1.00             Normal   \n",
       " WV108AB  49, CARISBROOKE ROAD,           49, Carisbrooke Road, Bushbury,    0.94             Normal   \n",
       " WV46BJ   56, GREENOCK CRESCENT,          56, Greenock Crescent,             1.00             Normal   \n",
       " WV112QQ  21, RYAN AVENUE,                21, Ryan Avenue,                   1.00             Normal   \n",
       " WV147AP  34, MARBURY DRIVE,              34, Marbury Drive,                 1.00             Normal   \n",
       " ...                                                                                             ...   \n",
       " WV22AW   116 - 126, STEELHOUSE LANE,     100, Steelhouse Lane,              0.75           NO DATA!   \n",
       " WV108RP  55, PRIMROSE LANE,              55, Primrose Lane,                 1.00             Normal   \n",
       " WV106BA  12, THREE TUNS PARADE,          Flat, 12a, Three Tuns Parade,      0.76             Normal   \n",
       " WV38NA   201, CASTLECROFT ROAD,          201, Castlecroft Road,             1.00             Normal   \n",
       " WV11HN   COACH HOUSE, 6, WHEELERS FOLD,  The Coach House, 6 Wheelers Fold,  0.79             Normal   \n",
       " \n",
       "                                                                                           HabitableRooms  \\\n",
       " Postcode PriceAddress                    EpcAddress                         JaroDistance                   \n",
       " WV69QH   142, CODSALL ROAD,              142, Codsall Road,                 1.00                     8.0   \n",
       " WV108AB  49, CARISBROOKE ROAD,           49, Carisbrooke Road, Bushbury,    0.94                     5.0   \n",
       " WV46BJ   56, GREENOCK CRESCENT,          56, Greenock Crescent,             1.00                     3.0   \n",
       " WV112QQ  21, RYAN AVENUE,                21, Ryan Avenue,                   1.00                     5.0   \n",
       " WV147AP  34, MARBURY DRIVE,              34, Marbury Drive,                 1.00                     3.0   \n",
       " ...                                                                                                  ...   \n",
       " WV22AW   116 - 126, STEELHOUSE LANE,     100, Steelhouse Lane,              0.75                     NaN   \n",
       " WV108RP  55, PRIMROSE LANE,              55, Primrose Lane,                 1.00                     5.0   \n",
       " WV106BA  12, THREE TUNS PARADE,          Flat, 12a, Three Tuns Parade,      0.76                     3.0   \n",
       " WV38NA   201, CASTLECROFT ROAD,          201, Castlecroft Road,             1.00                     7.0   \n",
       " WV11HN   COACH HOUSE, 6, WHEELERS FOLD,  The Coach House, 6 Wheelers Fold,  0.79                     7.0   \n",
       " \n",
       "                                                                                           HeatedRooms  \\\n",
       " Postcode PriceAddress                    EpcAddress                         JaroDistance                \n",
       " WV69QH   142, CODSALL ROAD,              142, Codsall Road,                 1.00                  8.0   \n",
       " WV108AB  49, CARISBROOKE ROAD,           49, Carisbrooke Road, Bushbury,    0.94                  4.0   \n",
       " WV46BJ   56, GREENOCK CRESCENT,          56, Greenock Crescent,             1.00                  3.0   \n",
       " WV112QQ  21, RYAN AVENUE,                21, Ryan Avenue,                   1.00                  5.0   \n",
       " WV147AP  34, MARBURY DRIVE,              34, Marbury Drive,                 1.00                  3.0   \n",
       " ...                                                                                               ...   \n",
       " WV22AW   116 - 126, STEELHOUSE LANE,     100, Steelhouse Lane,              0.75                  NaN   \n",
       " WV108RP  55, PRIMROSE LANE,              55, Primrose Lane,                 1.00                  5.0   \n",
       " WV106BA  12, THREE TUNS PARADE,          Flat, 12a, Three Tuns Parade,      0.76                  3.0   \n",
       " WV38NA   201, CASTLECROFT ROAD,          201, Castlecroft Road,             1.00                  7.0   \n",
       " WV11HN   COACH HOUSE, 6, WHEELERS FOLD,  The Coach House, 6 Wheelers Fold,  0.79                  7.0   \n",
       " \n",
       "                                                                                           ...  \\\n",
       " Postcode PriceAddress                    EpcAddress                         JaroDistance  ...   \n",
       " WV69QH   142, CODSALL ROAD,              142, Codsall Road,                 1.00          ...   \n",
       " WV108AB  49, CARISBROOKE ROAD,           49, Carisbrooke Road, Bushbury,    0.94          ...   \n",
       " WV46BJ   56, GREENOCK CRESCENT,          56, Greenock Crescent,             1.00          ...   \n",
       " WV112QQ  21, RYAN AVENUE,                21, Ryan Avenue,                   1.00          ...   \n",
       " WV147AP  34, MARBURY DRIVE,              34, Marbury Drive,                 1.00          ...   \n",
       " ...                                                                                       ...   \n",
       " WV22AW   116 - 126, STEELHOUSE LANE,     100, Steelhouse Lane,              0.75          ...   \n",
       " WV108RP  55, PRIMROSE LANE,              55, Primrose Lane,                 1.00          ...   \n",
       " WV106BA  12, THREE TUNS PARADE,          Flat, 12a, Three Tuns Parade,      0.76          ...   \n",
       " WV38NA   201, CASTLECROFT ROAD,          201, Castlecroft Road,             1.00          ...   \n",
       " WV11HN   COACH HOUSE, 6, WHEELERS FOLD,  The Coach House, 6 Wheelers Fold,  0.79          ...   \n",
       " \n",
       "                                                                                           TotalFloorArea  \\\n",
       " Postcode PriceAddress                    EpcAddress                         JaroDistance                   \n",
       " WV69QH   142, CODSALL ROAD,              142, Codsall Road,                 1.00                   348.0   \n",
       " WV108AB  49, CARISBROOKE ROAD,           49, Carisbrooke Road, Bushbury,    0.94                    84.0   \n",
       " WV46BJ   56, GREENOCK CRESCENT,          56, Greenock Crescent,             1.00                    77.0   \n",
       " WV112QQ  21, RYAN AVENUE,                21, Ryan Avenue,                   1.00                    77.0   \n",
       " WV147AP  34, MARBURY DRIVE,              34, Marbury Drive,                 1.00                    56.5   \n",
       " ...                                                                                                  ...   \n",
       " WV22AW   116 - 126, STEELHOUSE LANE,     100, Steelhouse Lane,              0.75                   107.0   \n",
       " WV108RP  55, PRIMROSE LANE,              55, Primrose Lane,                 1.00                   102.0   \n",
       " WV106BA  12, THREE TUNS PARADE,          Flat, 12a, Three Tuns Parade,      0.76                    67.0   \n",
       " WV38NA   201, CASTLECROFT ROAD,          201, Castlecroft Road,             1.00                   229.0   \n",
       " WV11HN   COACH HOUSE, 6, WHEELERS FOLD,  The Coach House, 6 Wheelers Fold,  0.79                    97.0   \n",
       " \n",
       "                                                                                           FloorLevel  \\\n",
       " Postcode PriceAddress                    EpcAddress                         JaroDistance               \n",
       " WV69QH   142, CODSALL ROAD,              142, Codsall Road,                 1.00             NODATA!   \n",
       " WV108AB  49, CARISBROOKE ROAD,           49, Carisbrooke Road, Bushbury,    0.94             NODATA!   \n",
       " WV46BJ   56, GREENOCK CRESCENT,          56, Greenock Crescent,             1.00                 2nd   \n",
       " WV112QQ  21, RYAN AVENUE,                21, Ryan Avenue,                   1.00             NODATA!   \n",
       " WV147AP  34, MARBURY DRIVE,              34, Marbury Drive,                 1.00             NODATA!   \n",
       " ...                                                                                              ...   \n",
       " WV22AW   116 - 126, STEELHOUSE LANE,     100, Steelhouse Lane,              0.75            NO DATA!   \n",
       " WV108RP  55, PRIMROSE LANE,              55, Primrose Lane,                 1.00             NODATA!   \n",
       " WV106BA  12, THREE TUNS PARADE,          Flat, 12a, Three Tuns Parade,      0.76              Ground   \n",
       " WV38NA   201, CASTLECROFT ROAD,          201, Castlecroft Road,             1.00             NODATA!   \n",
       " WV11HN   COACH HOUSE, 6, WHEELERS FOLD,  The Coach House, 6 Wheelers Fold,  0.79             NODATA!   \n",
       " \n",
       "                                                                                          PurchaseDate_year  \\\n",
       " Postcode PriceAddress                    EpcAddress                         JaroDistance                     \n",
       " WV69QH   142, CODSALL ROAD,              142, Codsall Road,                 1.00                      2020   \n",
       " WV108AB  49, CARISBROOKE ROAD,           49, Carisbrooke Road, Bushbury,    0.94                      2020   \n",
       " WV46BJ   56, GREENOCK CRESCENT,          56, Greenock Crescent,             1.00                      2020   \n",
       " WV112QQ  21, RYAN AVENUE,                21, Ryan Avenue,                   1.00                      2020   \n",
       " WV147AP  34, MARBURY DRIVE,              34, Marbury Drive,                 1.00                      2020   \n",
       " ...                                                                                                    ...   \n",
       " WV22AW   116 - 126, STEELHOUSE LANE,     100, Steelhouse Lane,              0.75                      2020   \n",
       " WV108RP  55, PRIMROSE LANE,              55, Primrose Lane,                 1.00                      2020   \n",
       " WV106BA  12, THREE TUNS PARADE,          Flat, 12a, Three Tuns Parade,      0.76                      2020   \n",
       " WV38NA   201, CASTLECROFT ROAD,          201, Castlecroft Road,             1.00                      2020   \n",
       " WV11HN   COACH HOUSE, 6, WHEELERS FOLD,  The Coach House, 6 Wheelers Fold,  0.79                      2020   \n",
       " \n",
       "                                                                                           PurchaseDate_month  \\\n",
       " Postcode PriceAddress                    EpcAddress                         JaroDistance                       \n",
       " WV69QH   142, CODSALL ROAD,              142, Codsall Road,                 1.00                         May   \n",
       " WV108AB  49, CARISBROOKE ROAD,           49, Carisbrooke Road, Bushbury,    0.94                    February   \n",
       " WV46BJ   56, GREENOCK CRESCENT,          56, Greenock Crescent,             1.00                       March   \n",
       " WV112QQ  21, RYAN AVENUE,                21, Ryan Avenue,                   1.00                         May   \n",
       " WV147AP  34, MARBURY DRIVE,              34, Marbury Drive,                 1.00                       March   \n",
       " ...                                                                                                      ...   \n",
       " WV22AW   116 - 126, STEELHOUSE LANE,     100, Steelhouse Lane,              0.75                         May   \n",
       " WV108RP  55, PRIMROSE LANE,              55, Primrose Lane,                 1.00                    February   \n",
       " WV106BA  12, THREE TUNS PARADE,          Flat, 12a, Three Tuns Parade,      0.76                        June   \n",
       " WV38NA   201, CASTLECROFT ROAD,          201, Castlecroft Road,             1.00                       April   \n",
       " WV11HN   COACH HOUSE, 6, WHEELERS FOLD,  The Coach House, 6 Wheelers Fold,  0.79                        June   \n",
       " \n",
       "                                                                                          PurchaseDate_day_of_week  \\\n",
       " Postcode PriceAddress                    EpcAddress                         JaroDistance                            \n",
       " WV69QH   142, CODSALL ROAD,              142, Codsall Road,                 1.00                        Wednesday   \n",
       " WV108AB  49, CARISBROOKE ROAD,           49, Carisbrooke Road, Bushbury,    0.94                           Friday   \n",
       " WV46BJ   56, GREENOCK CRESCENT,          56, Greenock Crescent,             1.00                        Wednesday   \n",
       " WV112QQ  21, RYAN AVENUE,                21, Ryan Avenue,                   1.00                           Monday   \n",
       " WV147AP  34, MARBURY DRIVE,              34, Marbury Drive,                 1.00                           Friday   \n",
       " ...                                                                                                           ...   \n",
       " WV22AW   116 - 126, STEELHOUSE LANE,     100, Steelhouse Lane,              0.75                          Tuesday   \n",
       " WV108RP  55, PRIMROSE LANE,              55, Primrose Lane,                 1.00                           Friday   \n",
       " WV106BA  12, THREE TUNS PARADE,          Flat, 12a, Three Tuns Parade,      0.76                        Wednesday   \n",
       " WV38NA   201, CASTLECROFT ROAD,          201, Castlecroft Road,             1.00                           Monday   \n",
       " WV11HN   COACH HOUSE, 6, WHEELERS FOLD,  The Coach House, 6 Wheelers Fold,  0.79                           Monday   \n",
       " \n",
       "                                                                                          PurchaseDate_hour  \\\n",
       " Postcode PriceAddress                    EpcAddress                         JaroDistance                     \n",
       " WV69QH   142, CODSALL ROAD,              142, Codsall Road,                 1.00                         0   \n",
       " WV108AB  49, CARISBROOKE ROAD,           49, Carisbrooke Road, Bushbury,    0.94                         0   \n",
       " WV46BJ   56, GREENOCK CRESCENT,          56, Greenock Crescent,             1.00                         0   \n",
       " WV112QQ  21, RYAN AVENUE,                21, Ryan Avenue,                   1.00                         0   \n",
       " WV147AP  34, MARBURY DRIVE,              34, Marbury Drive,                 1.00                         0   \n",
       " ...                                                                                                    ...   \n",
       " WV22AW   116 - 126, STEELHOUSE LANE,     100, Steelhouse Lane,              0.75                         0   \n",
       " WV108RP  55, PRIMROSE LANE,              55, Primrose Lane,                 1.00                         0   \n",
       " WV106BA  12, THREE TUNS PARADE,          Flat, 12a, Three Tuns Parade,      0.76                         0   \n",
       " WV38NA   201, CASTLECROFT ROAD,          201, Castlecroft Road,             1.00                         0   \n",
       " WV11HN   COACH HOUSE, 6, WHEELERS FOLD,  The Coach House, 6 Wheelers Fold,  0.79                         0   \n",
       " \n",
       "                                                                                           EpcInspectionDate_year  \\\n",
       " Postcode PriceAddress                    EpcAddress                         JaroDistance                           \n",
       " WV69QH   142, CODSALL ROAD,              142, Codsall Road,                 1.00                            2013   \n",
       " WV108AB  49, CARISBROOKE ROAD,           49, Carisbrooke Road, Bushbury,    0.94                            2016   \n",
       " WV46BJ   56, GREENOCK CRESCENT,          56, Greenock Crescent,             1.00                            2012   \n",
       " WV112QQ  21, RYAN AVENUE,                21, Ryan Avenue,                   1.00                            2019   \n",
       " WV147AP  34, MARBURY DRIVE,              34, Marbury Drive,                 1.00                            2011   \n",
       " ...                                                                                                          ...   \n",
       " WV22AW   116 - 126, STEELHOUSE LANE,     100, Steelhouse Lane,              0.75                            2020   \n",
       " WV108RP  55, PRIMROSE LANE,              55, Primrose Lane,                 1.00                            2019   \n",
       " WV106BA  12, THREE TUNS PARADE,          Flat, 12a, Three Tuns Parade,      0.76                            2019   \n",
       " WV38NA   201, CASTLECROFT ROAD,          201, Castlecroft Road,             1.00                            2014   \n",
       " WV11HN   COACH HOUSE, 6, WHEELERS FOLD,  The Coach House, 6 Wheelers Fold,  0.79                            2020   \n",
       " \n",
       "                                                                                           EpcInspectionDate_month  \\\n",
       " Postcode PriceAddress                    EpcAddress                         JaroDistance                            \n",
       " WV69QH   142, CODSALL ROAD,              142, Codsall Road,                 1.00                             June   \n",
       " WV108AB  49, CARISBROOKE ROAD,           49, Carisbrooke Road, Bushbury,    0.94                             June   \n",
       " WV46BJ   56, GREENOCK CRESCENT,          56, Greenock Crescent,             1.00                              May   \n",
       " WV112QQ  21, RYAN AVENUE,                21, Ryan Avenue,                   1.00                          October   \n",
       " WV147AP  34, MARBURY DRIVE,              34, Marbury Drive,                 1.00                        September   \n",
       " ...                                                                                                           ...   \n",
       " WV22AW   116 - 126, STEELHOUSE LANE,     100, Steelhouse Lane,              0.75                          January   \n",
       " WV108RP  55, PRIMROSE LANE,              55, Primrose Lane,                 1.00                        September   \n",
       " WV106BA  12, THREE TUNS PARADE,          Flat, 12a, Three Tuns Parade,      0.76                            April   \n",
       " WV38NA   201, CASTLECROFT ROAD,          201, Castlecroft Road,             1.00                              May   \n",
       " WV11HN   COACH HOUSE, 6, WHEELERS FOLD,  The Coach House, 6 Wheelers Fold,  0.79                          January   \n",
       " \n",
       "                                                                                          EpcInspectionDate_day_of_week  \\\n",
       " Postcode PriceAddress                    EpcAddress                         JaroDistance                                 \n",
       " WV69QH   142, CODSALL ROAD,              142, Codsall Road,                 1.00                                Monday   \n",
       " WV108AB  49, CARISBROOKE ROAD,           49, Carisbrooke Road, Bushbury,    0.94                                Friday   \n",
       " WV46BJ   56, GREENOCK CRESCENT,          56, Greenock Crescent,             1.00                             Wednesday   \n",
       " WV112QQ  21, RYAN AVENUE,                21, Ryan Avenue,                   1.00                             Wednesday   \n",
       " WV147AP  34, MARBURY DRIVE,              34, Marbury Drive,                 1.00                              Thursday   \n",
       " ...                                                                                                                ...   \n",
       " WV22AW   116 - 126, STEELHOUSE LANE,     100, Steelhouse Lane,              0.75                                Friday   \n",
       " WV108RP  55, PRIMROSE LANE,              55, Primrose Lane,                 1.00                                Monday   \n",
       " WV106BA  12, THREE TUNS PARADE,          Flat, 12a, Three Tuns Parade,      0.76                              Thursday   \n",
       " WV38NA   201, CASTLECROFT ROAD,          201, Castlecroft Road,             1.00                              Thursday   \n",
       " WV11HN   COACH HOUSE, 6, WHEELERS FOLD,  The Coach House, 6 Wheelers Fold,  0.79                               Tuesday   \n",
       " \n",
       "                                                                                          EpcInspectionDate_hour  \n",
       " Postcode PriceAddress                    EpcAddress                         JaroDistance                         \n",
       " WV69QH   142, CODSALL ROAD,              142, Codsall Road,                 1.00                              0  \n",
       " WV108AB  49, CARISBROOKE ROAD,           49, Carisbrooke Road, Bushbury,    0.94                              0  \n",
       " WV46BJ   56, GREENOCK CRESCENT,          56, Greenock Crescent,             1.00                              0  \n",
       " WV112QQ  21, RYAN AVENUE,                21, Ryan Avenue,                   1.00                              0  \n",
       " WV147AP  34, MARBURY DRIVE,              34, Marbury Drive,                 1.00                              0  \n",
       " ...                                                                                                         ...  \n",
       " WV22AW   116 - 126, STEELHOUSE LANE,     100, Steelhouse Lane,              0.75                              0  \n",
       " WV108RP  55, PRIMROSE LANE,              55, Primrose Lane,                 1.00                              0  \n",
       " WV106BA  12, THREE TUNS PARADE,          Flat, 12a, Three Tuns Parade,      0.76                              0  \n",
       " WV38NA   201, CASTLECROFT ROAD,          201, Castlecroft Road,             1.00                              0  \n",
       " WV11HN   COACH HOUSE, 6, WHEELERS FOLD,  The Coach House, 6 Wheelers Fold,  0.79                              0  \n",
       " \n",
       " [1121 rows x 21 columns],\n",
       " Postcode  PriceAddress                     EpcAddress                          JaroDistance\n",
       " WV69QH    142, CODSALL ROAD,               142, Codsall Road,                  1.00            437500\n",
       " WV108AB   49, CARISBROOKE ROAD,            49, Carisbrooke Road, Bushbury,     0.94            140000\n",
       " WV46BJ    56, GREENOCK CRESCENT,           56, Greenock Crescent,              1.00            102000\n",
       " WV112QQ   21, RYAN AVENUE,                 21, Ryan Avenue,                    1.00            141000\n",
       " WV147AP   34, MARBURY DRIVE,               34, Marbury Drive,                  1.00            122000\n",
       "                                                                                                 ...  \n",
       " WV22AW    116 - 126, STEELHOUSE LANE,      100, Steelhouse Lane,               0.75            280000\n",
       " WV108RP   55, PRIMROSE LANE,               55, Primrose Lane,                  1.00            162000\n",
       " WV106BA   12, THREE TUNS PARADE,           Flat, 12a, Three Tuns Parade,       0.76            150000\n",
       " WV38NA    201, CASTLECROFT ROAD,           201, Castlecroft Road,              1.00            470000\n",
       " WV11HN    COACH HOUSE, 6, WHEELERS FOLD,   The Coach House, 6 Wheelers Fold,   0.79            220000\n",
       " Name: Price, Length: 1121, dtype: int64)"
      ]
     },
     "execution_count": 64,
     "metadata": {},
     "output_type": "execute_result"
    }
   ],
   "source": [
    "from evalml.preprocessing import load_data\n",
    "index_fields = ['Postcode','PriceAddress','EpcAddress','JaroDistance']\n",
    "X, y = load_data(t_datapath,index=index_fields,target='Price')\n",
    "X, y"
   ]
  },
  {
   "cell_type": "markdown",
   "metadata": {},
   "source": [
    "# Find the relevent \"real estate\" related features"
   ]
  },
  {
   "cell_type": "code",
   "execution_count": 65,
   "metadata": {},
   "outputs": [
    {
     "data": {
      "text/html": [
       "<div>\n",
       "<style scoped>\n",
       "    .dataframe tbody tr th:only-of-type {\n",
       "        vertical-align: middle;\n",
       "    }\n",
       "\n",
       "    .dataframe tbody tr th {\n",
       "        vertical-align: top;\n",
       "    }\n",
       "\n",
       "    .dataframe thead th {\n",
       "        text-align: right;\n",
       "    }\n",
       "</style>\n",
       "<table border=\"1\" class=\"dataframe\">\n",
       "  <thead>\n",
       "    <tr style=\"text-align: right;\">\n",
       "      <th></th>\n",
       "      <th></th>\n",
       "      <th></th>\n",
       "      <th></th>\n",
       "      <th>PropertyType</th>\n",
       "      <th>New</th>\n",
       "      <th>Duration</th>\n",
       "      <th>CurrentEnergyRating</th>\n",
       "      <th>PotentialEnergyRating</th>\n",
       "      <th>CurrentEnergyEfficiency</th>\n",
       "      <th>PotentialEnergyEfficiency</th>\n",
       "      <th>GlazedArea</th>\n",
       "      <th>HabitableRooms</th>\n",
       "      <th>HeatedRooms</th>\n",
       "      <th>...</th>\n",
       "      <th>TotalFloorArea</th>\n",
       "      <th>FloorLevel</th>\n",
       "      <th>PurchaseDate_year</th>\n",
       "      <th>PurchaseDate_month</th>\n",
       "      <th>PurchaseDate_day_of_week</th>\n",
       "      <th>PurchaseDate_hour</th>\n",
       "      <th>EpcInspectionDate_year</th>\n",
       "      <th>EpcInspectionDate_month</th>\n",
       "      <th>EpcInspectionDate_day_of_week</th>\n",
       "      <th>EpcInspectionDate_hour</th>\n",
       "    </tr>\n",
       "    <tr>\n",
       "      <th>Postcode</th>\n",
       "      <th>PriceAddress</th>\n",
       "      <th>EpcAddress</th>\n",
       "      <th>JaroDistance</th>\n",
       "      <th></th>\n",
       "      <th></th>\n",
       "      <th></th>\n",
       "      <th></th>\n",
       "      <th></th>\n",
       "      <th></th>\n",
       "      <th></th>\n",
       "      <th></th>\n",
       "      <th></th>\n",
       "      <th></th>\n",
       "      <th></th>\n",
       "      <th></th>\n",
       "      <th></th>\n",
       "      <th></th>\n",
       "      <th></th>\n",
       "      <th></th>\n",
       "      <th></th>\n",
       "      <th></th>\n",
       "      <th></th>\n",
       "      <th></th>\n",
       "      <th></th>\n",
       "    </tr>\n",
       "  </thead>\n",
       "  <tbody>\n",
       "    <tr>\n",
       "      <th>WV69QH</th>\n",
       "      <th>142, CODSALL ROAD,</th>\n",
       "      <th>142, Codsall Road,</th>\n",
       "      <th>1.00</th>\n",
       "      <td>D</td>\n",
       "      <td>N</td>\n",
       "      <td>F</td>\n",
       "      <td>D</td>\n",
       "      <td>C</td>\n",
       "      <td>55</td>\n",
       "      <td>75</td>\n",
       "      <td>Normal</td>\n",
       "      <td>8.0</td>\n",
       "      <td>8.0</td>\n",
       "      <td>...</td>\n",
       "      <td>348.0</td>\n",
       "      <td>NODATA!</td>\n",
       "      <td>2020</td>\n",
       "      <td>May</td>\n",
       "      <td>Wednesday</td>\n",
       "      <td>0</td>\n",
       "      <td>2013</td>\n",
       "      <td>June</td>\n",
       "      <td>Monday</td>\n",
       "      <td>0</td>\n",
       "    </tr>\n",
       "    <tr>\n",
       "      <th>WV108AB</th>\n",
       "      <th>49, CARISBROOKE ROAD,</th>\n",
       "      <th>49, Carisbrooke Road, Bushbury,</th>\n",
       "      <th>0.94</th>\n",
       "      <td>S</td>\n",
       "      <td>N</td>\n",
       "      <td>F</td>\n",
       "      <td>B</td>\n",
       "      <td>B</td>\n",
       "      <td>81</td>\n",
       "      <td>85</td>\n",
       "      <td>Normal</td>\n",
       "      <td>5.0</td>\n",
       "      <td>4.0</td>\n",
       "      <td>...</td>\n",
       "      <td>84.0</td>\n",
       "      <td>NODATA!</td>\n",
       "      <td>2020</td>\n",
       "      <td>February</td>\n",
       "      <td>Friday</td>\n",
       "      <td>0</td>\n",
       "      <td>2016</td>\n",
       "      <td>June</td>\n",
       "      <td>Friday</td>\n",
       "      <td>0</td>\n",
       "    </tr>\n",
       "    <tr>\n",
       "      <th>WV46BJ</th>\n",
       "      <th>56, GREENOCK CRESCENT,</th>\n",
       "      <th>56, Greenock Crescent,</th>\n",
       "      <th>1.00</th>\n",
       "      <td>F</td>\n",
       "      <td>N</td>\n",
       "      <td>L</td>\n",
       "      <td>C</td>\n",
       "      <td>C</td>\n",
       "      <td>78</td>\n",
       "      <td>79</td>\n",
       "      <td>Normal</td>\n",
       "      <td>3.0</td>\n",
       "      <td>3.0</td>\n",
       "      <td>...</td>\n",
       "      <td>77.0</td>\n",
       "      <td>2nd</td>\n",
       "      <td>2020</td>\n",
       "      <td>March</td>\n",
       "      <td>Wednesday</td>\n",
       "      <td>0</td>\n",
       "      <td>2012</td>\n",
       "      <td>May</td>\n",
       "      <td>Wednesday</td>\n",
       "      <td>0</td>\n",
       "    </tr>\n",
       "    <tr>\n",
       "      <th>WV112QQ</th>\n",
       "      <th>21, RYAN AVENUE,</th>\n",
       "      <th>21, Ryan Avenue,</th>\n",
       "      <th>1.00</th>\n",
       "      <td>S</td>\n",
       "      <td>N</td>\n",
       "      <td>F</td>\n",
       "      <td>D</td>\n",
       "      <td>C</td>\n",
       "      <td>62</td>\n",
       "      <td>79</td>\n",
       "      <td>Normal</td>\n",
       "      <td>5.0</td>\n",
       "      <td>5.0</td>\n",
       "      <td>...</td>\n",
       "      <td>77.0</td>\n",
       "      <td>NODATA!</td>\n",
       "      <td>2020</td>\n",
       "      <td>May</td>\n",
       "      <td>Monday</td>\n",
       "      <td>0</td>\n",
       "      <td>2019</td>\n",
       "      <td>October</td>\n",
       "      <td>Wednesday</td>\n",
       "      <td>0</td>\n",
       "    </tr>\n",
       "    <tr>\n",
       "      <th>WV147AP</th>\n",
       "      <th>34, MARBURY DRIVE,</th>\n",
       "      <th>34, Marbury Drive,</th>\n",
       "      <th>1.00</th>\n",
       "      <td>S</td>\n",
       "      <td>N</td>\n",
       "      <td>L</td>\n",
       "      <td>C</td>\n",
       "      <td>C</td>\n",
       "      <td>75</td>\n",
       "      <td>75</td>\n",
       "      <td>Normal</td>\n",
       "      <td>3.0</td>\n",
       "      <td>3.0</td>\n",
       "      <td>...</td>\n",
       "      <td>56.5</td>\n",
       "      <td>NODATA!</td>\n",
       "      <td>2020</td>\n",
       "      <td>March</td>\n",
       "      <td>Friday</td>\n",
       "      <td>0</td>\n",
       "      <td>2011</td>\n",
       "      <td>September</td>\n",
       "      <td>Thursday</td>\n",
       "      <td>0</td>\n",
       "    </tr>\n",
       "    <tr>\n",
       "      <th>...</th>\n",
       "      <th>...</th>\n",
       "      <th>...</th>\n",
       "      <th>...</th>\n",
       "      <td>...</td>\n",
       "      <td>...</td>\n",
       "      <td>...</td>\n",
       "      <td>...</td>\n",
       "      <td>...</td>\n",
       "      <td>...</td>\n",
       "      <td>...</td>\n",
       "      <td>...</td>\n",
       "      <td>...</td>\n",
       "      <td>...</td>\n",
       "      <td>...</td>\n",
       "      <td>...</td>\n",
       "      <td>...</td>\n",
       "      <td>...</td>\n",
       "      <td>...</td>\n",
       "      <td>...</td>\n",
       "      <td>...</td>\n",
       "      <td>...</td>\n",
       "      <td>...</td>\n",
       "      <td>...</td>\n",
       "      <td>...</td>\n",
       "    </tr>\n",
       "    <tr>\n",
       "      <th>WV22AW</th>\n",
       "      <th>116 - 126, STEELHOUSE LANE,</th>\n",
       "      <th>100, Steelhouse Lane,</th>\n",
       "      <th>0.75</th>\n",
       "      <td>O</td>\n",
       "      <td>N</td>\n",
       "      <td>F</td>\n",
       "      <td>A</td>\n",
       "      <td>A</td>\n",
       "      <td>96</td>\n",
       "      <td>97</td>\n",
       "      <td>NO DATA!</td>\n",
       "      <td>NaN</td>\n",
       "      <td>NaN</td>\n",
       "      <td>...</td>\n",
       "      <td>107.0</td>\n",
       "      <td>NO DATA!</td>\n",
       "      <td>2020</td>\n",
       "      <td>May</td>\n",
       "      <td>Tuesday</td>\n",
       "      <td>0</td>\n",
       "      <td>2020</td>\n",
       "      <td>January</td>\n",
       "      <td>Friday</td>\n",
       "      <td>0</td>\n",
       "    </tr>\n",
       "    <tr>\n",
       "      <th>WV108RP</th>\n",
       "      <th>55, PRIMROSE LANE,</th>\n",
       "      <th>55, Primrose Lane,</th>\n",
       "      <th>1.00</th>\n",
       "      <td>S</td>\n",
       "      <td>N</td>\n",
       "      <td>F</td>\n",
       "      <td>C</td>\n",
       "      <td>B</td>\n",
       "      <td>72</td>\n",
       "      <td>85</td>\n",
       "      <td>Normal</td>\n",
       "      <td>5.0</td>\n",
       "      <td>5.0</td>\n",
       "      <td>...</td>\n",
       "      <td>102.0</td>\n",
       "      <td>NODATA!</td>\n",
       "      <td>2020</td>\n",
       "      <td>February</td>\n",
       "      <td>Friday</td>\n",
       "      <td>0</td>\n",
       "      <td>2019</td>\n",
       "      <td>September</td>\n",
       "      <td>Monday</td>\n",
       "      <td>0</td>\n",
       "    </tr>\n",
       "    <tr>\n",
       "      <th>WV106BA</th>\n",
       "      <th>12, THREE TUNS PARADE,</th>\n",
       "      <th>Flat, 12a, Three Tuns Parade,</th>\n",
       "      <th>0.76</th>\n",
       "      <td>O</td>\n",
       "      <td>N</td>\n",
       "      <td>F</td>\n",
       "      <td>D</td>\n",
       "      <td>C</td>\n",
       "      <td>57</td>\n",
       "      <td>72</td>\n",
       "      <td>Normal</td>\n",
       "      <td>3.0</td>\n",
       "      <td>3.0</td>\n",
       "      <td>...</td>\n",
       "      <td>67.0</td>\n",
       "      <td>Ground</td>\n",
       "      <td>2020</td>\n",
       "      <td>June</td>\n",
       "      <td>Wednesday</td>\n",
       "      <td>0</td>\n",
       "      <td>2019</td>\n",
       "      <td>April</td>\n",
       "      <td>Thursday</td>\n",
       "      <td>0</td>\n",
       "    </tr>\n",
       "    <tr>\n",
       "      <th>WV38NA</th>\n",
       "      <th>201, CASTLECROFT ROAD,</th>\n",
       "      <th>201, Castlecroft Road,</th>\n",
       "      <th>1.00</th>\n",
       "      <td>D</td>\n",
       "      <td>N</td>\n",
       "      <td>F</td>\n",
       "      <td>D</td>\n",
       "      <td>C</td>\n",
       "      <td>56</td>\n",
       "      <td>75</td>\n",
       "      <td>Normal</td>\n",
       "      <td>7.0</td>\n",
       "      <td>7.0</td>\n",
       "      <td>...</td>\n",
       "      <td>229.0</td>\n",
       "      <td>NODATA!</td>\n",
       "      <td>2020</td>\n",
       "      <td>April</td>\n",
       "      <td>Monday</td>\n",
       "      <td>0</td>\n",
       "      <td>2014</td>\n",
       "      <td>May</td>\n",
       "      <td>Thursday</td>\n",
       "      <td>0</td>\n",
       "    </tr>\n",
       "    <tr>\n",
       "      <th>WV11HN</th>\n",
       "      <th>COACH HOUSE, 6, WHEELERS FOLD,</th>\n",
       "      <th>The Coach House, 6 Wheelers Fold,</th>\n",
       "      <th>0.79</th>\n",
       "      <td>O</td>\n",
       "      <td>N</td>\n",
       "      <td>F</td>\n",
       "      <td>D</td>\n",
       "      <td>C</td>\n",
       "      <td>56</td>\n",
       "      <td>77</td>\n",
       "      <td>Normal</td>\n",
       "      <td>7.0</td>\n",
       "      <td>7.0</td>\n",
       "      <td>...</td>\n",
       "      <td>97.0</td>\n",
       "      <td>NODATA!</td>\n",
       "      <td>2020</td>\n",
       "      <td>June</td>\n",
       "      <td>Monday</td>\n",
       "      <td>0</td>\n",
       "      <td>2020</td>\n",
       "      <td>January</td>\n",
       "      <td>Tuesday</td>\n",
       "      <td>0</td>\n",
       "    </tr>\n",
       "  </tbody>\n",
       "</table>\n",
       "<p>1121 rows × 21 columns</p>\n",
       "</div>"
      ],
      "text/plain": [
       "                                                                                         PropertyType  \\\n",
       "Postcode PriceAddress                    EpcAddress                         JaroDistance                \n",
       "WV69QH   142, CODSALL ROAD,              142, Codsall Road,                 1.00                    D   \n",
       "WV108AB  49, CARISBROOKE ROAD,           49, Carisbrooke Road, Bushbury,    0.94                    S   \n",
       "WV46BJ   56, GREENOCK CRESCENT,          56, Greenock Crescent,             1.00                    F   \n",
       "WV112QQ  21, RYAN AVENUE,                21, Ryan Avenue,                   1.00                    S   \n",
       "WV147AP  34, MARBURY DRIVE,              34, Marbury Drive,                 1.00                    S   \n",
       "...                                                                                               ...   \n",
       "WV22AW   116 - 126, STEELHOUSE LANE,     100, Steelhouse Lane,              0.75                    O   \n",
       "WV108RP  55, PRIMROSE LANE,              55, Primrose Lane,                 1.00                    S   \n",
       "WV106BA  12, THREE TUNS PARADE,          Flat, 12a, Three Tuns Parade,      0.76                    O   \n",
       "WV38NA   201, CASTLECROFT ROAD,          201, Castlecroft Road,             1.00                    D   \n",
       "WV11HN   COACH HOUSE, 6, WHEELERS FOLD,  The Coach House, 6 Wheelers Fold,  0.79                    O   \n",
       "\n",
       "                                                                                         New  \\\n",
       "Postcode PriceAddress                    EpcAddress                         JaroDistance       \n",
       "WV69QH   142, CODSALL ROAD,              142, Codsall Road,                 1.00           N   \n",
       "WV108AB  49, CARISBROOKE ROAD,           49, Carisbrooke Road, Bushbury,    0.94           N   \n",
       "WV46BJ   56, GREENOCK CRESCENT,          56, Greenock Crescent,             1.00           N   \n",
       "WV112QQ  21, RYAN AVENUE,                21, Ryan Avenue,                   1.00           N   \n",
       "WV147AP  34, MARBURY DRIVE,              34, Marbury Drive,                 1.00           N   \n",
       "...                                                                                       ..   \n",
       "WV22AW   116 - 126, STEELHOUSE LANE,     100, Steelhouse Lane,              0.75           N   \n",
       "WV108RP  55, PRIMROSE LANE,              55, Primrose Lane,                 1.00           N   \n",
       "WV106BA  12, THREE TUNS PARADE,          Flat, 12a, Three Tuns Parade,      0.76           N   \n",
       "WV38NA   201, CASTLECROFT ROAD,          201, Castlecroft Road,             1.00           N   \n",
       "WV11HN   COACH HOUSE, 6, WHEELERS FOLD,  The Coach House, 6 Wheelers Fold,  0.79           N   \n",
       "\n",
       "                                                                                         Duration  \\\n",
       "Postcode PriceAddress                    EpcAddress                         JaroDistance            \n",
       "WV69QH   142, CODSALL ROAD,              142, Codsall Road,                 1.00                F   \n",
       "WV108AB  49, CARISBROOKE ROAD,           49, Carisbrooke Road, Bushbury,    0.94                F   \n",
       "WV46BJ   56, GREENOCK CRESCENT,          56, Greenock Crescent,             1.00                L   \n",
       "WV112QQ  21, RYAN AVENUE,                21, Ryan Avenue,                   1.00                F   \n",
       "WV147AP  34, MARBURY DRIVE,              34, Marbury Drive,                 1.00                L   \n",
       "...                                                                                           ...   \n",
       "WV22AW   116 - 126, STEELHOUSE LANE,     100, Steelhouse Lane,              0.75                F   \n",
       "WV108RP  55, PRIMROSE LANE,              55, Primrose Lane,                 1.00                F   \n",
       "WV106BA  12, THREE TUNS PARADE,          Flat, 12a, Three Tuns Parade,      0.76                F   \n",
       "WV38NA   201, CASTLECROFT ROAD,          201, Castlecroft Road,             1.00                F   \n",
       "WV11HN   COACH HOUSE, 6, WHEELERS FOLD,  The Coach House, 6 Wheelers Fold,  0.79                F   \n",
       "\n",
       "                                                                                         CurrentEnergyRating  \\\n",
       "Postcode PriceAddress                    EpcAddress                         JaroDistance                       \n",
       "WV69QH   142, CODSALL ROAD,              142, Codsall Road,                 1.00                           D   \n",
       "WV108AB  49, CARISBROOKE ROAD,           49, Carisbrooke Road, Bushbury,    0.94                           B   \n",
       "WV46BJ   56, GREENOCK CRESCENT,          56, Greenock Crescent,             1.00                           C   \n",
       "WV112QQ  21, RYAN AVENUE,                21, Ryan Avenue,                   1.00                           D   \n",
       "WV147AP  34, MARBURY DRIVE,              34, Marbury Drive,                 1.00                           C   \n",
       "...                                                                                                      ...   \n",
       "WV22AW   116 - 126, STEELHOUSE LANE,     100, Steelhouse Lane,              0.75                           A   \n",
       "WV108RP  55, PRIMROSE LANE,              55, Primrose Lane,                 1.00                           C   \n",
       "WV106BA  12, THREE TUNS PARADE,          Flat, 12a, Three Tuns Parade,      0.76                           D   \n",
       "WV38NA   201, CASTLECROFT ROAD,          201, Castlecroft Road,             1.00                           D   \n",
       "WV11HN   COACH HOUSE, 6, WHEELERS FOLD,  The Coach House, 6 Wheelers Fold,  0.79                           D   \n",
       "\n",
       "                                                                                         PotentialEnergyRating  \\\n",
       "Postcode PriceAddress                    EpcAddress                         JaroDistance                         \n",
       "WV69QH   142, CODSALL ROAD,              142, Codsall Road,                 1.00                             C   \n",
       "WV108AB  49, CARISBROOKE ROAD,           49, Carisbrooke Road, Bushbury,    0.94                             B   \n",
       "WV46BJ   56, GREENOCK CRESCENT,          56, Greenock Crescent,             1.00                             C   \n",
       "WV112QQ  21, RYAN AVENUE,                21, Ryan Avenue,                   1.00                             C   \n",
       "WV147AP  34, MARBURY DRIVE,              34, Marbury Drive,                 1.00                             C   \n",
       "...                                                                                                        ...   \n",
       "WV22AW   116 - 126, STEELHOUSE LANE,     100, Steelhouse Lane,              0.75                             A   \n",
       "WV108RP  55, PRIMROSE LANE,              55, Primrose Lane,                 1.00                             B   \n",
       "WV106BA  12, THREE TUNS PARADE,          Flat, 12a, Three Tuns Parade,      0.76                             C   \n",
       "WV38NA   201, CASTLECROFT ROAD,          201, Castlecroft Road,             1.00                             C   \n",
       "WV11HN   COACH HOUSE, 6, WHEELERS FOLD,  The Coach House, 6 Wheelers Fold,  0.79                             C   \n",
       "\n",
       "                                                                                          CurrentEnergyEfficiency  \\\n",
       "Postcode PriceAddress                    EpcAddress                         JaroDistance                            \n",
       "WV69QH   142, CODSALL ROAD,              142, Codsall Road,                 1.00                               55   \n",
       "WV108AB  49, CARISBROOKE ROAD,           49, Carisbrooke Road, Bushbury,    0.94                               81   \n",
       "WV46BJ   56, GREENOCK CRESCENT,          56, Greenock Crescent,             1.00                               78   \n",
       "WV112QQ  21, RYAN AVENUE,                21, Ryan Avenue,                   1.00                               62   \n",
       "WV147AP  34, MARBURY DRIVE,              34, Marbury Drive,                 1.00                               75   \n",
       "...                                                                                                           ...   \n",
       "WV22AW   116 - 126, STEELHOUSE LANE,     100, Steelhouse Lane,              0.75                               96   \n",
       "WV108RP  55, PRIMROSE LANE,              55, Primrose Lane,                 1.00                               72   \n",
       "WV106BA  12, THREE TUNS PARADE,          Flat, 12a, Three Tuns Parade,      0.76                               57   \n",
       "WV38NA   201, CASTLECROFT ROAD,          201, Castlecroft Road,             1.00                               56   \n",
       "WV11HN   COACH HOUSE, 6, WHEELERS FOLD,  The Coach House, 6 Wheelers Fold,  0.79                               56   \n",
       "\n",
       "                                                                                          PotentialEnergyEfficiency  \\\n",
       "Postcode PriceAddress                    EpcAddress                         JaroDistance                              \n",
       "WV69QH   142, CODSALL ROAD,              142, Codsall Road,                 1.00                                 75   \n",
       "WV108AB  49, CARISBROOKE ROAD,           49, Carisbrooke Road, Bushbury,    0.94                                 85   \n",
       "WV46BJ   56, GREENOCK CRESCENT,          56, Greenock Crescent,             1.00                                 79   \n",
       "WV112QQ  21, RYAN AVENUE,                21, Ryan Avenue,                   1.00                                 79   \n",
       "WV147AP  34, MARBURY DRIVE,              34, Marbury Drive,                 1.00                                 75   \n",
       "...                                                                                                             ...   \n",
       "WV22AW   116 - 126, STEELHOUSE LANE,     100, Steelhouse Lane,              0.75                                 97   \n",
       "WV108RP  55, PRIMROSE LANE,              55, Primrose Lane,                 1.00                                 85   \n",
       "WV106BA  12, THREE TUNS PARADE,          Flat, 12a, Three Tuns Parade,      0.76                                 72   \n",
       "WV38NA   201, CASTLECROFT ROAD,          201, Castlecroft Road,             1.00                                 75   \n",
       "WV11HN   COACH HOUSE, 6, WHEELERS FOLD,  The Coach House, 6 Wheelers Fold,  0.79                                 77   \n",
       "\n",
       "                                                                                         GlazedArea  \\\n",
       "Postcode PriceAddress                    EpcAddress                         JaroDistance              \n",
       "WV69QH   142, CODSALL ROAD,              142, Codsall Road,                 1.00             Normal   \n",
       "WV108AB  49, CARISBROOKE ROAD,           49, Carisbrooke Road, Bushbury,    0.94             Normal   \n",
       "WV46BJ   56, GREENOCK CRESCENT,          56, Greenock Crescent,             1.00             Normal   \n",
       "WV112QQ  21, RYAN AVENUE,                21, Ryan Avenue,                   1.00             Normal   \n",
       "WV147AP  34, MARBURY DRIVE,              34, Marbury Drive,                 1.00             Normal   \n",
       "...                                                                                             ...   \n",
       "WV22AW   116 - 126, STEELHOUSE LANE,     100, Steelhouse Lane,              0.75           NO DATA!   \n",
       "WV108RP  55, PRIMROSE LANE,              55, Primrose Lane,                 1.00             Normal   \n",
       "WV106BA  12, THREE TUNS PARADE,          Flat, 12a, Three Tuns Parade,      0.76             Normal   \n",
       "WV38NA   201, CASTLECROFT ROAD,          201, Castlecroft Road,             1.00             Normal   \n",
       "WV11HN   COACH HOUSE, 6, WHEELERS FOLD,  The Coach House, 6 Wheelers Fold,  0.79             Normal   \n",
       "\n",
       "                                                                                          HabitableRooms  \\\n",
       "Postcode PriceAddress                    EpcAddress                         JaroDistance                   \n",
       "WV69QH   142, CODSALL ROAD,              142, Codsall Road,                 1.00                     8.0   \n",
       "WV108AB  49, CARISBROOKE ROAD,           49, Carisbrooke Road, Bushbury,    0.94                     5.0   \n",
       "WV46BJ   56, GREENOCK CRESCENT,          56, Greenock Crescent,             1.00                     3.0   \n",
       "WV112QQ  21, RYAN AVENUE,                21, Ryan Avenue,                   1.00                     5.0   \n",
       "WV147AP  34, MARBURY DRIVE,              34, Marbury Drive,                 1.00                     3.0   \n",
       "...                                                                                                  ...   \n",
       "WV22AW   116 - 126, STEELHOUSE LANE,     100, Steelhouse Lane,              0.75                     NaN   \n",
       "WV108RP  55, PRIMROSE LANE,              55, Primrose Lane,                 1.00                     5.0   \n",
       "WV106BA  12, THREE TUNS PARADE,          Flat, 12a, Three Tuns Parade,      0.76                     3.0   \n",
       "WV38NA   201, CASTLECROFT ROAD,          201, Castlecroft Road,             1.00                     7.0   \n",
       "WV11HN   COACH HOUSE, 6, WHEELERS FOLD,  The Coach House, 6 Wheelers Fold,  0.79                     7.0   \n",
       "\n",
       "                                                                                          HeatedRooms  \\\n",
       "Postcode PriceAddress                    EpcAddress                         JaroDistance                \n",
       "WV69QH   142, CODSALL ROAD,              142, Codsall Road,                 1.00                  8.0   \n",
       "WV108AB  49, CARISBROOKE ROAD,           49, Carisbrooke Road, Bushbury,    0.94                  4.0   \n",
       "WV46BJ   56, GREENOCK CRESCENT,          56, Greenock Crescent,             1.00                  3.0   \n",
       "WV112QQ  21, RYAN AVENUE,                21, Ryan Avenue,                   1.00                  5.0   \n",
       "WV147AP  34, MARBURY DRIVE,              34, Marbury Drive,                 1.00                  3.0   \n",
       "...                                                                                               ...   \n",
       "WV22AW   116 - 126, STEELHOUSE LANE,     100, Steelhouse Lane,              0.75                  NaN   \n",
       "WV108RP  55, PRIMROSE LANE,              55, Primrose Lane,                 1.00                  5.0   \n",
       "WV106BA  12, THREE TUNS PARADE,          Flat, 12a, Three Tuns Parade,      0.76                  3.0   \n",
       "WV38NA   201, CASTLECROFT ROAD,          201, Castlecroft Road,             1.00                  7.0   \n",
       "WV11HN   COACH HOUSE, 6, WHEELERS FOLD,  The Coach House, 6 Wheelers Fold,  0.79                  7.0   \n",
       "\n",
       "                                                                                          ...  \\\n",
       "Postcode PriceAddress                    EpcAddress                         JaroDistance  ...   \n",
       "WV69QH   142, CODSALL ROAD,              142, Codsall Road,                 1.00          ...   \n",
       "WV108AB  49, CARISBROOKE ROAD,           49, Carisbrooke Road, Bushbury,    0.94          ...   \n",
       "WV46BJ   56, GREENOCK CRESCENT,          56, Greenock Crescent,             1.00          ...   \n",
       "WV112QQ  21, RYAN AVENUE,                21, Ryan Avenue,                   1.00          ...   \n",
       "WV147AP  34, MARBURY DRIVE,              34, Marbury Drive,                 1.00          ...   \n",
       "...                                                                                       ...   \n",
       "WV22AW   116 - 126, STEELHOUSE LANE,     100, Steelhouse Lane,              0.75          ...   \n",
       "WV108RP  55, PRIMROSE LANE,              55, Primrose Lane,                 1.00          ...   \n",
       "WV106BA  12, THREE TUNS PARADE,          Flat, 12a, Three Tuns Parade,      0.76          ...   \n",
       "WV38NA   201, CASTLECROFT ROAD,          201, Castlecroft Road,             1.00          ...   \n",
       "WV11HN   COACH HOUSE, 6, WHEELERS FOLD,  The Coach House, 6 Wheelers Fold,  0.79          ...   \n",
       "\n",
       "                                                                                          TotalFloorArea  \\\n",
       "Postcode PriceAddress                    EpcAddress                         JaroDistance                   \n",
       "WV69QH   142, CODSALL ROAD,              142, Codsall Road,                 1.00                   348.0   \n",
       "WV108AB  49, CARISBROOKE ROAD,           49, Carisbrooke Road, Bushbury,    0.94                    84.0   \n",
       "WV46BJ   56, GREENOCK CRESCENT,          56, Greenock Crescent,             1.00                    77.0   \n",
       "WV112QQ  21, RYAN AVENUE,                21, Ryan Avenue,                   1.00                    77.0   \n",
       "WV147AP  34, MARBURY DRIVE,              34, Marbury Drive,                 1.00                    56.5   \n",
       "...                                                                                                  ...   \n",
       "WV22AW   116 - 126, STEELHOUSE LANE,     100, Steelhouse Lane,              0.75                   107.0   \n",
       "WV108RP  55, PRIMROSE LANE,              55, Primrose Lane,                 1.00                   102.0   \n",
       "WV106BA  12, THREE TUNS PARADE,          Flat, 12a, Three Tuns Parade,      0.76                    67.0   \n",
       "WV38NA   201, CASTLECROFT ROAD,          201, Castlecroft Road,             1.00                   229.0   \n",
       "WV11HN   COACH HOUSE, 6, WHEELERS FOLD,  The Coach House, 6 Wheelers Fold,  0.79                    97.0   \n",
       "\n",
       "                                                                                          FloorLevel  \\\n",
       "Postcode PriceAddress                    EpcAddress                         JaroDistance               \n",
       "WV69QH   142, CODSALL ROAD,              142, Codsall Road,                 1.00             NODATA!   \n",
       "WV108AB  49, CARISBROOKE ROAD,           49, Carisbrooke Road, Bushbury,    0.94             NODATA!   \n",
       "WV46BJ   56, GREENOCK CRESCENT,          56, Greenock Crescent,             1.00                 2nd   \n",
       "WV112QQ  21, RYAN AVENUE,                21, Ryan Avenue,                   1.00             NODATA!   \n",
       "WV147AP  34, MARBURY DRIVE,              34, Marbury Drive,                 1.00             NODATA!   \n",
       "...                                                                                              ...   \n",
       "WV22AW   116 - 126, STEELHOUSE LANE,     100, Steelhouse Lane,              0.75            NO DATA!   \n",
       "WV108RP  55, PRIMROSE LANE,              55, Primrose Lane,                 1.00             NODATA!   \n",
       "WV106BA  12, THREE TUNS PARADE,          Flat, 12a, Three Tuns Parade,      0.76              Ground   \n",
       "WV38NA   201, CASTLECROFT ROAD,          201, Castlecroft Road,             1.00             NODATA!   \n",
       "WV11HN   COACH HOUSE, 6, WHEELERS FOLD,  The Coach House, 6 Wheelers Fold,  0.79             NODATA!   \n",
       "\n",
       "                                                                                         PurchaseDate_year  \\\n",
       "Postcode PriceAddress                    EpcAddress                         JaroDistance                     \n",
       "WV69QH   142, CODSALL ROAD,              142, Codsall Road,                 1.00                      2020   \n",
       "WV108AB  49, CARISBROOKE ROAD,           49, Carisbrooke Road, Bushbury,    0.94                      2020   \n",
       "WV46BJ   56, GREENOCK CRESCENT,          56, Greenock Crescent,             1.00                      2020   \n",
       "WV112QQ  21, RYAN AVENUE,                21, Ryan Avenue,                   1.00                      2020   \n",
       "WV147AP  34, MARBURY DRIVE,              34, Marbury Drive,                 1.00                      2020   \n",
       "...                                                                                                    ...   \n",
       "WV22AW   116 - 126, STEELHOUSE LANE,     100, Steelhouse Lane,              0.75                      2020   \n",
       "WV108RP  55, PRIMROSE LANE,              55, Primrose Lane,                 1.00                      2020   \n",
       "WV106BA  12, THREE TUNS PARADE,          Flat, 12a, Three Tuns Parade,      0.76                      2020   \n",
       "WV38NA   201, CASTLECROFT ROAD,          201, Castlecroft Road,             1.00                      2020   \n",
       "WV11HN   COACH HOUSE, 6, WHEELERS FOLD,  The Coach House, 6 Wheelers Fold,  0.79                      2020   \n",
       "\n",
       "                                                                                          PurchaseDate_month  \\\n",
       "Postcode PriceAddress                    EpcAddress                         JaroDistance                       \n",
       "WV69QH   142, CODSALL ROAD,              142, Codsall Road,                 1.00                         May   \n",
       "WV108AB  49, CARISBROOKE ROAD,           49, Carisbrooke Road, Bushbury,    0.94                    February   \n",
       "WV46BJ   56, GREENOCK CRESCENT,          56, Greenock Crescent,             1.00                       March   \n",
       "WV112QQ  21, RYAN AVENUE,                21, Ryan Avenue,                   1.00                         May   \n",
       "WV147AP  34, MARBURY DRIVE,              34, Marbury Drive,                 1.00                       March   \n",
       "...                                                                                                      ...   \n",
       "WV22AW   116 - 126, STEELHOUSE LANE,     100, Steelhouse Lane,              0.75                         May   \n",
       "WV108RP  55, PRIMROSE LANE,              55, Primrose Lane,                 1.00                    February   \n",
       "WV106BA  12, THREE TUNS PARADE,          Flat, 12a, Three Tuns Parade,      0.76                        June   \n",
       "WV38NA   201, CASTLECROFT ROAD,          201, Castlecroft Road,             1.00                       April   \n",
       "WV11HN   COACH HOUSE, 6, WHEELERS FOLD,  The Coach House, 6 Wheelers Fold,  0.79                        June   \n",
       "\n",
       "                                                                                         PurchaseDate_day_of_week  \\\n",
       "Postcode PriceAddress                    EpcAddress                         JaroDistance                            \n",
       "WV69QH   142, CODSALL ROAD,              142, Codsall Road,                 1.00                        Wednesday   \n",
       "WV108AB  49, CARISBROOKE ROAD,           49, Carisbrooke Road, Bushbury,    0.94                           Friday   \n",
       "WV46BJ   56, GREENOCK CRESCENT,          56, Greenock Crescent,             1.00                        Wednesday   \n",
       "WV112QQ  21, RYAN AVENUE,                21, Ryan Avenue,                   1.00                           Monday   \n",
       "WV147AP  34, MARBURY DRIVE,              34, Marbury Drive,                 1.00                           Friday   \n",
       "...                                                                                                           ...   \n",
       "WV22AW   116 - 126, STEELHOUSE LANE,     100, Steelhouse Lane,              0.75                          Tuesday   \n",
       "WV108RP  55, PRIMROSE LANE,              55, Primrose Lane,                 1.00                           Friday   \n",
       "WV106BA  12, THREE TUNS PARADE,          Flat, 12a, Three Tuns Parade,      0.76                        Wednesday   \n",
       "WV38NA   201, CASTLECROFT ROAD,          201, Castlecroft Road,             1.00                           Monday   \n",
       "WV11HN   COACH HOUSE, 6, WHEELERS FOLD,  The Coach House, 6 Wheelers Fold,  0.79                           Monday   \n",
       "\n",
       "                                                                                         PurchaseDate_hour  \\\n",
       "Postcode PriceAddress                    EpcAddress                         JaroDistance                     \n",
       "WV69QH   142, CODSALL ROAD,              142, Codsall Road,                 1.00                         0   \n",
       "WV108AB  49, CARISBROOKE ROAD,           49, Carisbrooke Road, Bushbury,    0.94                         0   \n",
       "WV46BJ   56, GREENOCK CRESCENT,          56, Greenock Crescent,             1.00                         0   \n",
       "WV112QQ  21, RYAN AVENUE,                21, Ryan Avenue,                   1.00                         0   \n",
       "WV147AP  34, MARBURY DRIVE,              34, Marbury Drive,                 1.00                         0   \n",
       "...                                                                                                    ...   \n",
       "WV22AW   116 - 126, STEELHOUSE LANE,     100, Steelhouse Lane,              0.75                         0   \n",
       "WV108RP  55, PRIMROSE LANE,              55, Primrose Lane,                 1.00                         0   \n",
       "WV106BA  12, THREE TUNS PARADE,          Flat, 12a, Three Tuns Parade,      0.76                         0   \n",
       "WV38NA   201, CASTLECROFT ROAD,          201, Castlecroft Road,             1.00                         0   \n",
       "WV11HN   COACH HOUSE, 6, WHEELERS FOLD,  The Coach House, 6 Wheelers Fold,  0.79                         0   \n",
       "\n",
       "                                                                                          EpcInspectionDate_year  \\\n",
       "Postcode PriceAddress                    EpcAddress                         JaroDistance                           \n",
       "WV69QH   142, CODSALL ROAD,              142, Codsall Road,                 1.00                            2013   \n",
       "WV108AB  49, CARISBROOKE ROAD,           49, Carisbrooke Road, Bushbury,    0.94                            2016   \n",
       "WV46BJ   56, GREENOCK CRESCENT,          56, Greenock Crescent,             1.00                            2012   \n",
       "WV112QQ  21, RYAN AVENUE,                21, Ryan Avenue,                   1.00                            2019   \n",
       "WV147AP  34, MARBURY DRIVE,              34, Marbury Drive,                 1.00                            2011   \n",
       "...                                                                                                          ...   \n",
       "WV22AW   116 - 126, STEELHOUSE LANE,     100, Steelhouse Lane,              0.75                            2020   \n",
       "WV108RP  55, PRIMROSE LANE,              55, Primrose Lane,                 1.00                            2019   \n",
       "WV106BA  12, THREE TUNS PARADE,          Flat, 12a, Three Tuns Parade,      0.76                            2019   \n",
       "WV38NA   201, CASTLECROFT ROAD,          201, Castlecroft Road,             1.00                            2014   \n",
       "WV11HN   COACH HOUSE, 6, WHEELERS FOLD,  The Coach House, 6 Wheelers Fold,  0.79                            2020   \n",
       "\n",
       "                                                                                          EpcInspectionDate_month  \\\n",
       "Postcode PriceAddress                    EpcAddress                         JaroDistance                            \n",
       "WV69QH   142, CODSALL ROAD,              142, Codsall Road,                 1.00                             June   \n",
       "WV108AB  49, CARISBROOKE ROAD,           49, Carisbrooke Road, Bushbury,    0.94                             June   \n",
       "WV46BJ   56, GREENOCK CRESCENT,          56, Greenock Crescent,             1.00                              May   \n",
       "WV112QQ  21, RYAN AVENUE,                21, Ryan Avenue,                   1.00                          October   \n",
       "WV147AP  34, MARBURY DRIVE,              34, Marbury Drive,                 1.00                        September   \n",
       "...                                                                                                           ...   \n",
       "WV22AW   116 - 126, STEELHOUSE LANE,     100, Steelhouse Lane,              0.75                          January   \n",
       "WV108RP  55, PRIMROSE LANE,              55, Primrose Lane,                 1.00                        September   \n",
       "WV106BA  12, THREE TUNS PARADE,          Flat, 12a, Three Tuns Parade,      0.76                            April   \n",
       "WV38NA   201, CASTLECROFT ROAD,          201, Castlecroft Road,             1.00                              May   \n",
       "WV11HN   COACH HOUSE, 6, WHEELERS FOLD,  The Coach House, 6 Wheelers Fold,  0.79                          January   \n",
       "\n",
       "                                                                                         EpcInspectionDate_day_of_week  \\\n",
       "Postcode PriceAddress                    EpcAddress                         JaroDistance                                 \n",
       "WV69QH   142, CODSALL ROAD,              142, Codsall Road,                 1.00                                Monday   \n",
       "WV108AB  49, CARISBROOKE ROAD,           49, Carisbrooke Road, Bushbury,    0.94                                Friday   \n",
       "WV46BJ   56, GREENOCK CRESCENT,          56, Greenock Crescent,             1.00                             Wednesday   \n",
       "WV112QQ  21, RYAN AVENUE,                21, Ryan Avenue,                   1.00                             Wednesday   \n",
       "WV147AP  34, MARBURY DRIVE,              34, Marbury Drive,                 1.00                              Thursday   \n",
       "...                                                                                                                ...   \n",
       "WV22AW   116 - 126, STEELHOUSE LANE,     100, Steelhouse Lane,              0.75                                Friday   \n",
       "WV108RP  55, PRIMROSE LANE,              55, Primrose Lane,                 1.00                                Monday   \n",
       "WV106BA  12, THREE TUNS PARADE,          Flat, 12a, Three Tuns Parade,      0.76                              Thursday   \n",
       "WV38NA   201, CASTLECROFT ROAD,          201, Castlecroft Road,             1.00                              Thursday   \n",
       "WV11HN   COACH HOUSE, 6, WHEELERS FOLD,  The Coach House, 6 Wheelers Fold,  0.79                               Tuesday   \n",
       "\n",
       "                                                                                         EpcInspectionDate_hour  \n",
       "Postcode PriceAddress                    EpcAddress                         JaroDistance                         \n",
       "WV69QH   142, CODSALL ROAD,              142, Codsall Road,                 1.00                              0  \n",
       "WV108AB  49, CARISBROOKE ROAD,           49, Carisbrooke Road, Bushbury,    0.94                              0  \n",
       "WV46BJ   56, GREENOCK CRESCENT,          56, Greenock Crescent,             1.00                              0  \n",
       "WV112QQ  21, RYAN AVENUE,                21, Ryan Avenue,                   1.00                              0  \n",
       "WV147AP  34, MARBURY DRIVE,              34, Marbury Drive,                 1.00                              0  \n",
       "...                                                                                                         ...  \n",
       "WV22AW   116 - 126, STEELHOUSE LANE,     100, Steelhouse Lane,              0.75                              0  \n",
       "WV108RP  55, PRIMROSE LANE,              55, Primrose Lane,                 1.00                              0  \n",
       "WV106BA  12, THREE TUNS PARADE,          Flat, 12a, Three Tuns Parade,      0.76                              0  \n",
       "WV38NA   201, CASTLECROFT ROAD,          201, Castlecroft Road,             1.00                              0  \n",
       "WV11HN   COACH HOUSE, 6, WHEELERS FOLD,  The Coach House, 6 Wheelers Fold,  0.79                              0  \n",
       "\n",
       "[1121 rows x 21 columns]"
      ]
     },
     "execution_count": 65,
     "metadata": {},
     "output_type": "execute_result"
    }
   ],
   "source": [
    "\n",
    "X\n"
   ]
  },
  {
   "cell_type": "markdown",
   "metadata": {},
   "source": [
    "# Construct the Price MicroService Pipeline"
   ]
  },
  {
   "cell_type": "code",
   "execution_count": 66,
   "metadata": {},
   "outputs": [
    {
     "data": {
      "text/plain": [
       "PriceMicroservicePipeline(parameters={'Imputer':{'categorical_impute_strategy': 'most_frequent', 'numeric_impute_strategy': 'mean', 'categorical_fill_value': None, 'numeric_fill_value': None}, 'DateTime Featurization Component':{}, 'One Hot Encoder':{'top_n': 10, 'categories': None, 'drop': None, 'handle_unknown': 'ignore', 'handle_missing': 'error'}, 'XGBoost Regressor':{'eta': 0.1, 'max_depth': 6, 'min_child_weight': 1, 'n_estimators': 100},})"
      ]
     },
     "execution_count": 66,
     "metadata": {},
     "output_type": "execute_result"
    }
   ],
   "source": [
    "from evalml.pipelines import RegressionPipeline\n",
    "\n",
    "class PriceMicroservicePipeline(RegressionPipeline):\n",
    "    component_graph = ['Imputer', 'DateTime Featurization Component', 'One Hot Encoder', 'XGBoost Regressor']\n",
    "    custom_name = 'Price Microservice Pipeline'\n",
    "    parameters = {'Imputer': {'categorical_impute_strategy': 'most_frequent',\n",
    "                                         'numeric_impute_strategy': 'mean',\n",
    "                                         'categorical_fill_value': None,\n",
    "                                         'numeric_fill_value': None\n",
    "                 },\n",
    "                 'DateTime Featurization Component':{},\n",
    "                 'One Hot Encoder': { 'top_n': 10,\n",
    "                                         'categories': None,\n",
    "                                         'drop': None,\n",
    "                                         'handle_unknown': 'ignore',\n",
    "                                         'handle_missing': 'error'\n",
    "                 },\n",
    "                 'XGBoost Regressor':{'eta': 0.1,\n",
    "                                         'max_depth': 6,\n",
    "                                         'min_child_weight': 1,\n",
    "                                         'n_estimators': 100\n",
    "             }\n",
    "        }\n",
    "\n",
    "price_microservice_pipeline = PriceMicroservicePipeline({})\n",
    "price_microservice_pipeline"
   ]
  },
  {
   "cell_type": "code",
   "execution_count": 67,
   "metadata": {},
   "outputs": [
    {
     "data": {
      "text/plain": [
       "((896, 21), (225, 21))"
      ]
     },
     "execution_count": 67,
     "metadata": {},
     "output_type": "execute_result"
    }
   ],
   "source": [
    "X_train, X_holdout, y_train, y_holdout = evalml.preprocessing.split_data(X, y, test_size=0.2, random_state=0, regression=True)\n",
    "X_train.shape, X_holdout.shape\n"
   ]
  },
  {
   "cell_type": "code",
   "execution_count": 68,
   "metadata": {},
   "outputs": [
    {
     "data": {
      "text/plain": [
       "PriceMicroservicePipeline(parameters={'Imputer':{'categorical_impute_strategy': 'most_frequent', 'numeric_impute_strategy': 'mean', 'categorical_fill_value': None, 'numeric_fill_value': None}, 'DateTime Featurization Component':{}, 'One Hot Encoder':{'top_n': 10, 'categories': None, 'drop': None, 'handle_unknown': 'ignore', 'handle_missing': 'error'}, 'XGBoost Regressor':{'eta': 0.1, 'max_depth': 6, 'min_child_weight': 1, 'n_estimators': 100},})"
      ]
     },
     "execution_count": 68,
     "metadata": {},
     "output_type": "execute_result"
    }
   ],
   "source": [
    "price_microservice_pipeline.fit(X_train, y_train)"
   ]
  },
  {
   "cell_type": "code",
   "execution_count": 89,
   "metadata": {},
   "outputs": [
    {
     "data": {
      "text/html": [
       "<div>\n",
       "<style scoped>\n",
       "    .dataframe tbody tr th:only-of-type {\n",
       "        vertical-align: middle;\n",
       "    }\n",
       "\n",
       "    .dataframe tbody tr th {\n",
       "        vertical-align: top;\n",
       "    }\n",
       "\n",
       "    .dataframe thead th {\n",
       "        text-align: right;\n",
       "    }\n",
       "</style>\n",
       "<table border=\"1\" class=\"dataframe\">\n",
       "  <thead>\n",
       "    <tr style=\"text-align: right;\">\n",
       "      <th></th>\n",
       "      <th>feature</th>\n",
       "      <th>importance</th>\n",
       "    </tr>\n",
       "  </thead>\n",
       "  <tbody>\n",
       "    <tr>\n",
       "      <th>0</th>\n",
       "      <td>CurrentEnergyRating_C</td>\n",
       "      <td>0.252885</td>\n",
       "    </tr>\n",
       "    <tr>\n",
       "      <th>1</th>\n",
       "      <td>PropertyType_D</td>\n",
       "      <td>0.250919</td>\n",
       "    </tr>\n",
       "    <tr>\n",
       "      <th>2</th>\n",
       "      <td>PropertyType_O</td>\n",
       "      <td>0.149751</td>\n",
       "    </tr>\n",
       "    <tr>\n",
       "      <th>3</th>\n",
       "      <td>FlatStoreyCount</td>\n",
       "      <td>0.030948</td>\n",
       "    </tr>\n",
       "    <tr>\n",
       "      <th>4</th>\n",
       "      <td>FloorLevel_Ground</td>\n",
       "      <td>0.030853</td>\n",
       "    </tr>\n",
       "    <tr>\n",
       "      <th>5</th>\n",
       "      <td>PurchaseDate_month_March</td>\n",
       "      <td>0.023917</td>\n",
       "    </tr>\n",
       "    <tr>\n",
       "      <th>6</th>\n",
       "      <td>TotalFloorArea</td>\n",
       "      <td>0.022414</td>\n",
       "    </tr>\n",
       "    <tr>\n",
       "      <th>7</th>\n",
       "      <td>PropertyType_S</td>\n",
       "      <td>0.021111</td>\n",
       "    </tr>\n",
       "    <tr>\n",
       "      <th>8</th>\n",
       "      <td>FloorLevel_1st</td>\n",
       "      <td>0.009803</td>\n",
       "    </tr>\n",
       "    <tr>\n",
       "      <th>9</th>\n",
       "      <td>EpcInspectionDate_month_March</td>\n",
       "      <td>0.009327</td>\n",
       "    </tr>\n",
       "    <tr>\n",
       "      <th>10</th>\n",
       "      <td>CurrentEnergyEfficiency</td>\n",
       "      <td>0.008407</td>\n",
       "    </tr>\n",
       "    <tr>\n",
       "      <th>11</th>\n",
       "      <td>GlazedArea_Normal</td>\n",
       "      <td>0.008165</td>\n",
       "    </tr>\n",
       "    <tr>\n",
       "      <th>12</th>\n",
       "      <td>PurchaseDate_day_of_week_Tuesday</td>\n",
       "      <td>0.007789</td>\n",
       "    </tr>\n",
       "    <tr>\n",
       "      <th>13</th>\n",
       "      <td>PropertyType_F</td>\n",
       "      <td>0.007537</td>\n",
       "    </tr>\n",
       "    <tr>\n",
       "      <th>14</th>\n",
       "      <td>PotentialEnergyRating_C</td>\n",
       "      <td>0.006643</td>\n",
       "    </tr>\n",
       "    <tr>\n",
       "      <th>15</th>\n",
       "      <td>CurrentEnergyRating_E</td>\n",
       "      <td>0.006328</td>\n",
       "    </tr>\n",
       "    <tr>\n",
       "      <th>16</th>\n",
       "      <td>FloorLevel_mid floor</td>\n",
       "      <td>0.005967</td>\n",
       "    </tr>\n",
       "    <tr>\n",
       "      <th>17</th>\n",
       "      <td>HeatedRooms</td>\n",
       "      <td>0.005953</td>\n",
       "    </tr>\n",
       "    <tr>\n",
       "      <th>18</th>\n",
       "      <td>Duration_F</td>\n",
       "      <td>0.005819</td>\n",
       "    </tr>\n",
       "    <tr>\n",
       "      <th>19</th>\n",
       "      <td>EpcInspectionDate_month_November</td>\n",
       "      <td>0.005797</td>\n",
       "    </tr>\n",
       "    <tr>\n",
       "      <th>20</th>\n",
       "      <td>EpcInspectionDate_day_of_week_Thursday</td>\n",
       "      <td>0.005736</td>\n",
       "    </tr>\n",
       "    <tr>\n",
       "      <th>21</th>\n",
       "      <td>PotentialEnergyRating_B</td>\n",
       "      <td>0.005707</td>\n",
       "    </tr>\n",
       "    <tr>\n",
       "      <th>22</th>\n",
       "      <td>PurchaseDate_day_of_week_Thursday</td>\n",
       "      <td>0.005264</td>\n",
       "    </tr>\n",
       "    <tr>\n",
       "      <th>23</th>\n",
       "      <td>EpcInspectionDate_month_February</td>\n",
       "      <td>0.005241</td>\n",
       "    </tr>\n",
       "    <tr>\n",
       "      <th>24</th>\n",
       "      <td>EpcInspectionDate_year</td>\n",
       "      <td>0.005240</td>\n",
       "    </tr>\n",
       "    <tr>\n",
       "      <th>25</th>\n",
       "      <td>GlazedArea_NO DATA!</td>\n",
       "      <td>0.005184</td>\n",
       "    </tr>\n",
       "    <tr>\n",
       "      <th>26</th>\n",
       "      <td>EpcInspectionDate_month_January</td>\n",
       "      <td>0.005035</td>\n",
       "    </tr>\n",
       "    <tr>\n",
       "      <th>27</th>\n",
       "      <td>EpcInspectionDate_day_of_week_Saturday</td>\n",
       "      <td>0.004951</td>\n",
       "    </tr>\n",
       "    <tr>\n",
       "      <th>28</th>\n",
       "      <td>HabitableRooms</td>\n",
       "      <td>0.004948</td>\n",
       "    </tr>\n",
       "    <tr>\n",
       "      <th>29</th>\n",
       "      <td>PurchaseDate_month_July</td>\n",
       "      <td>0.004730</td>\n",
       "    </tr>\n",
       "    <tr>\n",
       "      <th>30</th>\n",
       "      <td>CurrentEnergyRating_F</td>\n",
       "      <td>0.003911</td>\n",
       "    </tr>\n",
       "    <tr>\n",
       "      <th>31</th>\n",
       "      <td>FloorLevel_ground floor</td>\n",
       "      <td>0.003905</td>\n",
       "    </tr>\n",
       "    <tr>\n",
       "      <th>32</th>\n",
       "      <td>EpcInspectionDate_month_June</td>\n",
       "      <td>0.003903</td>\n",
       "    </tr>\n",
       "    <tr>\n",
       "      <th>33</th>\n",
       "      <td>PotentialEnergyRating_D</td>\n",
       "      <td>0.003674</td>\n",
       "    </tr>\n",
       "    <tr>\n",
       "      <th>34</th>\n",
       "      <td>EpcInspectionDate_day_of_week_Friday</td>\n",
       "      <td>0.003639</td>\n",
       "    </tr>\n",
       "    <tr>\n",
       "      <th>35</th>\n",
       "      <td>PotentialEnergyEfficiency</td>\n",
       "      <td>0.003557</td>\n",
       "    </tr>\n",
       "    <tr>\n",
       "      <th>36</th>\n",
       "      <td>PurchaseDate_month_January</td>\n",
       "      <td>0.003498</td>\n",
       "    </tr>\n",
       "    <tr>\n",
       "      <th>37</th>\n",
       "      <td>PurchaseDate_month_April</td>\n",
       "      <td>0.003355</td>\n",
       "    </tr>\n",
       "    <tr>\n",
       "      <th>38</th>\n",
       "      <td>EpcInspectionDate_day_of_week_Tuesday</td>\n",
       "      <td>0.003168</td>\n",
       "    </tr>\n",
       "    <tr>\n",
       "      <th>39</th>\n",
       "      <td>PurchaseDate_day_of_week_Monday</td>\n",
       "      <td>0.003014</td>\n",
       "    </tr>\n",
       "    <tr>\n",
       "      <th>40</th>\n",
       "      <td>PurchaseDate_month_February</td>\n",
       "      <td>0.002997</td>\n",
       "    </tr>\n",
       "    <tr>\n",
       "      <th>41</th>\n",
       "      <td>EpcInspectionDate_day_of_week_Sunday</td>\n",
       "      <td>0.002889</td>\n",
       "    </tr>\n",
       "    <tr>\n",
       "      <th>42</th>\n",
       "      <td>PurchaseDate_month_June</td>\n",
       "      <td>0.002835</td>\n",
       "    </tr>\n",
       "    <tr>\n",
       "      <th>43</th>\n",
       "      <td>EpcInspectionDate_day_of_week_Wednesday</td>\n",
       "      <td>0.002761</td>\n",
       "    </tr>\n",
       "    <tr>\n",
       "      <th>44</th>\n",
       "      <td>EpcInspectionDate_month_October</td>\n",
       "      <td>0.002705</td>\n",
       "    </tr>\n",
       "    <tr>\n",
       "      <th>45</th>\n",
       "      <td>PropertyType_T</td>\n",
       "      <td>0.002629</td>\n",
       "    </tr>\n",
       "    <tr>\n",
       "      <th>46</th>\n",
       "      <td>PurchaseDate_day_of_week_Wednesday</td>\n",
       "      <td>0.002570</td>\n",
       "    </tr>\n",
       "    <tr>\n",
       "      <th>47</th>\n",
       "      <td>EpcInspectionDate_day_of_week_Monday</td>\n",
       "      <td>0.002537</td>\n",
       "    </tr>\n",
       "    <tr>\n",
       "      <th>48</th>\n",
       "      <td>GlazedArea_More Than Typical</td>\n",
       "      <td>0.002392</td>\n",
       "    </tr>\n",
       "    <tr>\n",
       "      <th>49</th>\n",
       "      <td>FloorLevel_NODATA!</td>\n",
       "      <td>0.002363</td>\n",
       "    </tr>\n",
       "  </tbody>\n",
       "</table>\n",
       "</div>"
      ],
      "text/plain": [
       "                                    feature  importance\n",
       "0                     CurrentEnergyRating_C    0.252885\n",
       "1                            PropertyType_D    0.250919\n",
       "2                            PropertyType_O    0.149751\n",
       "3                           FlatStoreyCount    0.030948\n",
       "4                         FloorLevel_Ground    0.030853\n",
       "5                  PurchaseDate_month_March    0.023917\n",
       "6                            TotalFloorArea    0.022414\n",
       "7                            PropertyType_S    0.021111\n",
       "8                            FloorLevel_1st    0.009803\n",
       "9             EpcInspectionDate_month_March    0.009327\n",
       "10                  CurrentEnergyEfficiency    0.008407\n",
       "11                        GlazedArea_Normal    0.008165\n",
       "12         PurchaseDate_day_of_week_Tuesday    0.007789\n",
       "13                           PropertyType_F    0.007537\n",
       "14                  PotentialEnergyRating_C    0.006643\n",
       "15                    CurrentEnergyRating_E    0.006328\n",
       "16                     FloorLevel_mid floor    0.005967\n",
       "17                              HeatedRooms    0.005953\n",
       "18                               Duration_F    0.005819\n",
       "19         EpcInspectionDate_month_November    0.005797\n",
       "20   EpcInspectionDate_day_of_week_Thursday    0.005736\n",
       "21                  PotentialEnergyRating_B    0.005707\n",
       "22        PurchaseDate_day_of_week_Thursday    0.005264\n",
       "23         EpcInspectionDate_month_February    0.005241\n",
       "24                   EpcInspectionDate_year    0.005240\n",
       "25                      GlazedArea_NO DATA!    0.005184\n",
       "26          EpcInspectionDate_month_January    0.005035\n",
       "27   EpcInspectionDate_day_of_week_Saturday    0.004951\n",
       "28                           HabitableRooms    0.004948\n",
       "29                  PurchaseDate_month_July    0.004730\n",
       "30                    CurrentEnergyRating_F    0.003911\n",
       "31                  FloorLevel_ground floor    0.003905\n",
       "32             EpcInspectionDate_month_June    0.003903\n",
       "33                  PotentialEnergyRating_D    0.003674\n",
       "34     EpcInspectionDate_day_of_week_Friday    0.003639\n",
       "35                PotentialEnergyEfficiency    0.003557\n",
       "36               PurchaseDate_month_January    0.003498\n",
       "37                 PurchaseDate_month_April    0.003355\n",
       "38    EpcInspectionDate_day_of_week_Tuesday    0.003168\n",
       "39          PurchaseDate_day_of_week_Monday    0.003014\n",
       "40              PurchaseDate_month_February    0.002997\n",
       "41     EpcInspectionDate_day_of_week_Sunday    0.002889\n",
       "42                  PurchaseDate_month_June    0.002835\n",
       "43  EpcInspectionDate_day_of_week_Wednesday    0.002761\n",
       "44          EpcInspectionDate_month_October    0.002705\n",
       "45                           PropertyType_T    0.002629\n",
       "46       PurchaseDate_day_of_week_Wednesday    0.002570\n",
       "47     EpcInspectionDate_day_of_week_Monday    0.002537\n",
       "48             GlazedArea_More Than Typical    0.002392\n",
       "49                       FloorLevel_NODATA!    0.002363"
      ]
     },
     "execution_count": 89,
     "metadata": {},
     "output_type": "execute_result"
    }
   ],
   "source": [
    "feature_importance = price_microservice_pipeline.feature_importance\n",
    "feature_importance.head(50)"
   ]
  },
  {
   "cell_type": "markdown",
   "metadata": {},
   "source": [
    "<img src=\"https://github.com/BlockchainClimateInstitute/microservice_price/tree/develop/reports/figures/fi.png\" height=\"120\" >"
   ]
  },
  {
   "cell_type": "code",
   "execution_count": 69,
   "metadata": {},
   "outputs": [
    {
     "data": {
      "application/vnd.plotly.v1+json": {
       "config": {
        "plotlyServerURL": "https://plot.ly"
       },
       "data": [
        {
         "orientation": "h",
         "type": "bar",
         "x": [
          0,
          0,
          0,
          0,
          0,
          0,
          0,
          0,
          0,
          0,
          0,
          0,
          0,
          0,
          0,
          0,
          0,
          0.0006102336337789893,
          0.0009818108519539237,
          0.0011318164179101586,
          0.0011416790075600147,
          0.0011898907832801342,
          0.0015132407424971461,
          0.0015840139240026474,
          0.0016517146723344922,
          0.0017530146287754178,
          0.0018164593493565917,
          0.0019543820526450872,
          0.0023633758537471294,
          0.0023924645502120256,
          0.002537153661251068,
          0.002570198616012931,
          0.00262922840192914,
          0.0027051030192524195,
          0.002760941395536065,
          0.002835185034200549,
          0.0028888641390949488,
          0.0029965585563331842,
          0.0030139482114464045,
          0.003167911898344755,
          0.0033550893422216177,
          0.003498314879834652,
          0.00355689343996346,
          0.003639474045485258,
          0.0036741644144058228,
          0.0039030902553349733,
          0.003904535435140133,
          0.003911143634468317,
          0.004729517735540867,
          0.004948018118739128,
          0.004951258189976215,
          0.005034882575273514,
          0.00518372654914856,
          0.00523992208763957,
          0.0052411057986319065,
          0.005263738799840212,
          0.005706917028874159,
          0.005736066959798336,
          0.005797139368951321,
          0.005819236859679222,
          0.005952636245638132,
          0.0059668985195457935,
          0.00632764957845211,
          0.006643223110586405,
          0.007537259720265865,
          0.0077886213548481464,
          0.008164912462234497,
          0.008406592532992363,
          0.009327258914709091,
          0.009803230874240398,
          0.021110717207193375,
          0.022414401173591614,
          0.023917246609926224,
          0.03085285983979702,
          0.030947834253311157,
          0.1497509628534317,
          0.25091877579689026,
          0.2528853714466095
         ],
         "y": [
          "PurchaseDate_day_of_week_Sunday",
          "PurchaseDate_month_August",
          "FloorLevel_NO DATA!",
          "FloorLevel_5th",
          "FloorLevel_3rd",
          "PotentialEnergyRating_F",
          "PotentialEnergyRating_E",
          "PotentialEnergyRating_A",
          "CurrentEnergyRating_G",
          "CurrentEnergyRating_B",
          "CurrentEnergyRating_A",
          "Duration_L",
          "New_Y",
          "New_N",
          "EpcInspectionDate_hour",
          "PurchaseDate_hour",
          "PurchaseDate_year",
          "FloorLevel_top floor",
          "PurchaseDate_day_of_week_Saturday",
          "GlazedArea_Much More Than Typical",
          "CurrentEnergyRating_D",
          "FloorLevel_2nd",
          "EpcInspectionDate_month_September",
          "PurchaseDate_month_May",
          "PurchaseDate_day_of_week_Friday",
          "EpcInspectionDate_month_May",
          "EpcInspectionDate_month_April",
          "EpcInspectionDate_month_August",
          "FloorLevel_NODATA!",
          "GlazedArea_More Than Typical",
          "EpcInspectionDate_day_of_week_Monday",
          "PurchaseDate_day_of_week_Wednesday",
          "PropertyType_T",
          "EpcInspectionDate_month_October",
          "EpcInspectionDate_day_of_week_Wednesday",
          "PurchaseDate_month_June",
          "EpcInspectionDate_day_of_week_Sunday",
          "PurchaseDate_month_February",
          "PurchaseDate_day_of_week_Monday",
          "EpcInspectionDate_day_of_week_Tuesday",
          "PurchaseDate_month_April",
          "PurchaseDate_month_January",
          "PotentialEnergyEfficiency",
          "EpcInspectionDate_day_of_week_Friday",
          "PotentialEnergyRating_D",
          "EpcInspectionDate_month_June",
          "FloorLevel_ground floor",
          "CurrentEnergyRating_F",
          "PurchaseDate_month_July",
          "HabitableRooms",
          "EpcInspectionDate_day_of_week_Saturday",
          "EpcInspectionDate_month_January",
          "GlazedArea_NO DATA!",
          "EpcInspectionDate_year",
          "EpcInspectionDate_month_February",
          "PurchaseDate_day_of_week_Thursday",
          "PotentialEnergyRating_B",
          "EpcInspectionDate_day_of_week_Thursday",
          "EpcInspectionDate_month_November",
          "Duration_F",
          "HeatedRooms",
          "FloorLevel_mid floor",
          "CurrentEnergyRating_E",
          "PotentialEnergyRating_C",
          "PropertyType_F",
          "PurchaseDate_day_of_week_Tuesday",
          "GlazedArea_Normal",
          "CurrentEnergyEfficiency",
          "EpcInspectionDate_month_March",
          "FloorLevel_1st",
          "PropertyType_S",
          "TotalFloorArea",
          "PurchaseDate_month_March",
          "FloorLevel_Ground",
          "FlatStoreyCount",
          "PropertyType_O",
          "PropertyType_D",
          "CurrentEnergyRating_C"
         ]
        }
       ],
       "layout": {
        "height": 800,
        "template": {
         "data": {
          "bar": [
           {
            "error_x": {
             "color": "#2a3f5f"
            },
            "error_y": {
             "color": "#2a3f5f"
            },
            "marker": {
             "line": {
              "color": "#E5ECF6",
              "width": 0.5
             }
            },
            "type": "bar"
           }
          ],
          "barpolar": [
           {
            "marker": {
             "line": {
              "color": "#E5ECF6",
              "width": 0.5
             }
            },
            "type": "barpolar"
           }
          ],
          "carpet": [
           {
            "aaxis": {
             "endlinecolor": "#2a3f5f",
             "gridcolor": "white",
             "linecolor": "white",
             "minorgridcolor": "white",
             "startlinecolor": "#2a3f5f"
            },
            "baxis": {
             "endlinecolor": "#2a3f5f",
             "gridcolor": "white",
             "linecolor": "white",
             "minorgridcolor": "white",
             "startlinecolor": "#2a3f5f"
            },
            "type": "carpet"
           }
          ],
          "choropleth": [
           {
            "colorbar": {
             "outlinewidth": 0,
             "ticks": ""
            },
            "type": "choropleth"
           }
          ],
          "contour": [
           {
            "colorbar": {
             "outlinewidth": 0,
             "ticks": ""
            },
            "colorscale": [
             [
              0,
              "#0d0887"
             ],
             [
              0.1111111111111111,
              "#46039f"
             ],
             [
              0.2222222222222222,
              "#7201a8"
             ],
             [
              0.3333333333333333,
              "#9c179e"
             ],
             [
              0.4444444444444444,
              "#bd3786"
             ],
             [
              0.5555555555555556,
              "#d8576b"
             ],
             [
              0.6666666666666666,
              "#ed7953"
             ],
             [
              0.7777777777777778,
              "#fb9f3a"
             ],
             [
              0.8888888888888888,
              "#fdca26"
             ],
             [
              1,
              "#f0f921"
             ]
            ],
            "type": "contour"
           }
          ],
          "contourcarpet": [
           {
            "colorbar": {
             "outlinewidth": 0,
             "ticks": ""
            },
            "type": "contourcarpet"
           }
          ],
          "heatmap": [
           {
            "colorbar": {
             "outlinewidth": 0,
             "ticks": ""
            },
            "colorscale": [
             [
              0,
              "#0d0887"
             ],
             [
              0.1111111111111111,
              "#46039f"
             ],
             [
              0.2222222222222222,
              "#7201a8"
             ],
             [
              0.3333333333333333,
              "#9c179e"
             ],
             [
              0.4444444444444444,
              "#bd3786"
             ],
             [
              0.5555555555555556,
              "#d8576b"
             ],
             [
              0.6666666666666666,
              "#ed7953"
             ],
             [
              0.7777777777777778,
              "#fb9f3a"
             ],
             [
              0.8888888888888888,
              "#fdca26"
             ],
             [
              1,
              "#f0f921"
             ]
            ],
            "type": "heatmap"
           }
          ],
          "heatmapgl": [
           {
            "colorbar": {
             "outlinewidth": 0,
             "ticks": ""
            },
            "colorscale": [
             [
              0,
              "#0d0887"
             ],
             [
              0.1111111111111111,
              "#46039f"
             ],
             [
              0.2222222222222222,
              "#7201a8"
             ],
             [
              0.3333333333333333,
              "#9c179e"
             ],
             [
              0.4444444444444444,
              "#bd3786"
             ],
             [
              0.5555555555555556,
              "#d8576b"
             ],
             [
              0.6666666666666666,
              "#ed7953"
             ],
             [
              0.7777777777777778,
              "#fb9f3a"
             ],
             [
              0.8888888888888888,
              "#fdca26"
             ],
             [
              1,
              "#f0f921"
             ]
            ],
            "type": "heatmapgl"
           }
          ],
          "histogram": [
           {
            "marker": {
             "colorbar": {
              "outlinewidth": 0,
              "ticks": ""
             }
            },
            "type": "histogram"
           }
          ],
          "histogram2d": [
           {
            "colorbar": {
             "outlinewidth": 0,
             "ticks": ""
            },
            "colorscale": [
             [
              0,
              "#0d0887"
             ],
             [
              0.1111111111111111,
              "#46039f"
             ],
             [
              0.2222222222222222,
              "#7201a8"
             ],
             [
              0.3333333333333333,
              "#9c179e"
             ],
             [
              0.4444444444444444,
              "#bd3786"
             ],
             [
              0.5555555555555556,
              "#d8576b"
             ],
             [
              0.6666666666666666,
              "#ed7953"
             ],
             [
              0.7777777777777778,
              "#fb9f3a"
             ],
             [
              0.8888888888888888,
              "#fdca26"
             ],
             [
              1,
              "#f0f921"
             ]
            ],
            "type": "histogram2d"
           }
          ],
          "histogram2dcontour": [
           {
            "colorbar": {
             "outlinewidth": 0,
             "ticks": ""
            },
            "colorscale": [
             [
              0,
              "#0d0887"
             ],
             [
              0.1111111111111111,
              "#46039f"
             ],
             [
              0.2222222222222222,
              "#7201a8"
             ],
             [
              0.3333333333333333,
              "#9c179e"
             ],
             [
              0.4444444444444444,
              "#bd3786"
             ],
             [
              0.5555555555555556,
              "#d8576b"
             ],
             [
              0.6666666666666666,
              "#ed7953"
             ],
             [
              0.7777777777777778,
              "#fb9f3a"
             ],
             [
              0.8888888888888888,
              "#fdca26"
             ],
             [
              1,
              "#f0f921"
             ]
            ],
            "type": "histogram2dcontour"
           }
          ],
          "mesh3d": [
           {
            "colorbar": {
             "outlinewidth": 0,
             "ticks": ""
            },
            "type": "mesh3d"
           }
          ],
          "parcoords": [
           {
            "line": {
             "colorbar": {
              "outlinewidth": 0,
              "ticks": ""
             }
            },
            "type": "parcoords"
           }
          ],
          "pie": [
           {
            "automargin": true,
            "type": "pie"
           }
          ],
          "scatter": [
           {
            "marker": {
             "colorbar": {
              "outlinewidth": 0,
              "ticks": ""
             }
            },
            "type": "scatter"
           }
          ],
          "scatter3d": [
           {
            "line": {
             "colorbar": {
              "outlinewidth": 0,
              "ticks": ""
             }
            },
            "marker": {
             "colorbar": {
              "outlinewidth": 0,
              "ticks": ""
             }
            },
            "type": "scatter3d"
           }
          ],
          "scattercarpet": [
           {
            "marker": {
             "colorbar": {
              "outlinewidth": 0,
              "ticks": ""
             }
            },
            "type": "scattercarpet"
           }
          ],
          "scattergeo": [
           {
            "marker": {
             "colorbar": {
              "outlinewidth": 0,
              "ticks": ""
             }
            },
            "type": "scattergeo"
           }
          ],
          "scattergl": [
           {
            "marker": {
             "colorbar": {
              "outlinewidth": 0,
              "ticks": ""
             }
            },
            "type": "scattergl"
           }
          ],
          "scattermapbox": [
           {
            "marker": {
             "colorbar": {
              "outlinewidth": 0,
              "ticks": ""
             }
            },
            "type": "scattermapbox"
           }
          ],
          "scatterpolar": [
           {
            "marker": {
             "colorbar": {
              "outlinewidth": 0,
              "ticks": ""
             }
            },
            "type": "scatterpolar"
           }
          ],
          "scatterpolargl": [
           {
            "marker": {
             "colorbar": {
              "outlinewidth": 0,
              "ticks": ""
             }
            },
            "type": "scatterpolargl"
           }
          ],
          "scatterternary": [
           {
            "marker": {
             "colorbar": {
              "outlinewidth": 0,
              "ticks": ""
             }
            },
            "type": "scatterternary"
           }
          ],
          "surface": [
           {
            "colorbar": {
             "outlinewidth": 0,
             "ticks": ""
            },
            "colorscale": [
             [
              0,
              "#0d0887"
             ],
             [
              0.1111111111111111,
              "#46039f"
             ],
             [
              0.2222222222222222,
              "#7201a8"
             ],
             [
              0.3333333333333333,
              "#9c179e"
             ],
             [
              0.4444444444444444,
              "#bd3786"
             ],
             [
              0.5555555555555556,
              "#d8576b"
             ],
             [
              0.6666666666666666,
              "#ed7953"
             ],
             [
              0.7777777777777778,
              "#fb9f3a"
             ],
             [
              0.8888888888888888,
              "#fdca26"
             ],
             [
              1,
              "#f0f921"
             ]
            ],
            "type": "surface"
           }
          ],
          "table": [
           {
            "cells": {
             "fill": {
              "color": "#EBF0F8"
             },
             "line": {
              "color": "white"
             }
            },
            "header": {
             "fill": {
              "color": "#C8D4E3"
             },
             "line": {
              "color": "white"
             }
            },
            "type": "table"
           }
          ]
         },
         "layout": {
          "annotationdefaults": {
           "arrowcolor": "#2a3f5f",
           "arrowhead": 0,
           "arrowwidth": 1
          },
          "coloraxis": {
           "colorbar": {
            "outlinewidth": 0,
            "ticks": ""
           }
          },
          "colorscale": {
           "diverging": [
            [
             0,
             "#8e0152"
            ],
            [
             0.1,
             "#c51b7d"
            ],
            [
             0.2,
             "#de77ae"
            ],
            [
             0.3,
             "#f1b6da"
            ],
            [
             0.4,
             "#fde0ef"
            ],
            [
             0.5,
             "#f7f7f7"
            ],
            [
             0.6,
             "#e6f5d0"
            ],
            [
             0.7,
             "#b8e186"
            ],
            [
             0.8,
             "#7fbc41"
            ],
            [
             0.9,
             "#4d9221"
            ],
            [
             1,
             "#276419"
            ]
           ],
           "sequential": [
            [
             0,
             "#0d0887"
            ],
            [
             0.1111111111111111,
             "#46039f"
            ],
            [
             0.2222222222222222,
             "#7201a8"
            ],
            [
             0.3333333333333333,
             "#9c179e"
            ],
            [
             0.4444444444444444,
             "#bd3786"
            ],
            [
             0.5555555555555556,
             "#d8576b"
            ],
            [
             0.6666666666666666,
             "#ed7953"
            ],
            [
             0.7777777777777778,
             "#fb9f3a"
            ],
            [
             0.8888888888888888,
             "#fdca26"
            ],
            [
             1,
             "#f0f921"
            ]
           ],
           "sequentialminus": [
            [
             0,
             "#0d0887"
            ],
            [
             0.1111111111111111,
             "#46039f"
            ],
            [
             0.2222222222222222,
             "#7201a8"
            ],
            [
             0.3333333333333333,
             "#9c179e"
            ],
            [
             0.4444444444444444,
             "#bd3786"
            ],
            [
             0.5555555555555556,
             "#d8576b"
            ],
            [
             0.6666666666666666,
             "#ed7953"
            ],
            [
             0.7777777777777778,
             "#fb9f3a"
            ],
            [
             0.8888888888888888,
             "#fdca26"
            ],
            [
             1,
             "#f0f921"
            ]
           ]
          },
          "colorway": [
           "#636efa",
           "#EF553B",
           "#00cc96",
           "#ab63fa",
           "#FFA15A",
           "#19d3f3",
           "#FF6692",
           "#B6E880",
           "#FF97FF",
           "#FECB52"
          ],
          "font": {
           "color": "#2a3f5f"
          },
          "geo": {
           "bgcolor": "white",
           "lakecolor": "white",
           "landcolor": "#E5ECF6",
           "showlakes": true,
           "showland": true,
           "subunitcolor": "white"
          },
          "hoverlabel": {
           "align": "left"
          },
          "hovermode": "closest",
          "mapbox": {
           "style": "light"
          },
          "paper_bgcolor": "white",
          "plot_bgcolor": "#E5ECF6",
          "polar": {
           "angularaxis": {
            "gridcolor": "white",
            "linecolor": "white",
            "ticks": ""
           },
           "bgcolor": "#E5ECF6",
           "radialaxis": {
            "gridcolor": "white",
            "linecolor": "white",
            "ticks": ""
           }
          },
          "scene": {
           "xaxis": {
            "backgroundcolor": "#E5ECF6",
            "gridcolor": "white",
            "gridwidth": 2,
            "linecolor": "white",
            "showbackground": true,
            "ticks": "",
            "zerolinecolor": "white"
           },
           "yaxis": {
            "backgroundcolor": "#E5ECF6",
            "gridcolor": "white",
            "gridwidth": 2,
            "linecolor": "white",
            "showbackground": true,
            "ticks": "",
            "zerolinecolor": "white"
           },
           "zaxis": {
            "backgroundcolor": "#E5ECF6",
            "gridcolor": "white",
            "gridwidth": 2,
            "linecolor": "white",
            "showbackground": true,
            "ticks": "",
            "zerolinecolor": "white"
           }
          },
          "shapedefaults": {
           "line": {
            "color": "#2a3f5f"
           }
          },
          "ternary": {
           "aaxis": {
            "gridcolor": "white",
            "linecolor": "white",
            "ticks": ""
           },
           "baxis": {
            "gridcolor": "white",
            "linecolor": "white",
            "ticks": ""
           },
           "bgcolor": "#E5ECF6",
           "caxis": {
            "gridcolor": "white",
            "linecolor": "white",
            "ticks": ""
           }
          },
          "title": {
           "x": 0.05
          },
          "xaxis": {
           "automargin": true,
           "gridcolor": "white",
           "linecolor": "white",
           "ticks": "",
           "title": {
            "standoff": 15
           },
           "zerolinecolor": "white",
           "zerolinewidth": 2
          },
          "yaxis": {
           "automargin": true,
           "gridcolor": "white",
           "linecolor": "white",
           "ticks": "",
           "title": {
            "standoff": 15
           },
           "zerolinecolor": "white",
           "zerolinewidth": 2
          }
         }
        },
        "title": {
         "text": "Feature Importance<br><sub>May display fewer features due to feature selection</sub>"
        },
        "xaxis": {
         "title": {
          "text": "Feature Importance"
         }
        },
        "yaxis": {
         "title": {
          "text": "Feature"
         },
         "type": "category"
        }
       }
      },
      "text/html": [
       "<div>                            <div id=\"36de5a03-1b95-40ac-be0e-7f479d74e4db\" class=\"plotly-graph-div\" style=\"height:800px; width:100%;\"></div>            <script type=\"text/javascript\">                require([\"plotly\"], function(Plotly) {                    window.PLOTLYENV=window.PLOTLYENV || {};                                    if (document.getElementById(\"36de5a03-1b95-40ac-be0e-7f479d74e4db\")) {                    Plotly.newPlot(                        \"36de5a03-1b95-40ac-be0e-7f479d74e4db\",                        [{\"orientation\": \"h\", \"type\": \"bar\", \"x\": [0.0, 0.0, 0.0, 0.0, 0.0, 0.0, 0.0, 0.0, 0.0, 0.0, 0.0, 0.0, 0.0, 0.0, 0.0, 0.0, 0.0, 0.0006102336337789893, 0.0009818108519539237, 0.0011318164179101586, 0.0011416790075600147, 0.0011898907832801342, 0.0015132407424971461, 0.0015840139240026474, 0.0016517146723344922, 0.0017530146287754178, 0.0018164593493565917, 0.0019543820526450872, 0.0023633758537471294, 0.0023924645502120256, 0.002537153661251068, 0.002570198616012931, 0.00262922840192914, 0.0027051030192524195, 0.002760941395536065, 0.002835185034200549, 0.0028888641390949488, 0.0029965585563331842, 0.0030139482114464045, 0.003167911898344755, 0.0033550893422216177, 0.003498314879834652, 0.00355689343996346, 0.003639474045485258, 0.0036741644144058228, 0.0039030902553349733, 0.003904535435140133, 0.003911143634468317, 0.004729517735540867, 0.004948018118739128, 0.004951258189976215, 0.005034882575273514, 0.00518372654914856, 0.00523992208763957, 0.0052411057986319065, 0.005263738799840212, 0.005706917028874159, 0.005736066959798336, 0.005797139368951321, 0.005819236859679222, 0.005952636245638132, 0.0059668985195457935, 0.00632764957845211, 0.006643223110586405, 0.007537259720265865, 0.0077886213548481464, 0.008164912462234497, 0.008406592532992363, 0.009327258914709091, 0.009803230874240398, 0.021110717207193375, 0.022414401173591614, 0.023917246609926224, 0.03085285983979702, 0.030947834253311157, 0.1497509628534317, 0.25091877579689026, 0.2528853714466095], \"y\": [\"PurchaseDate_day_of_week_Sunday\", \"PurchaseDate_month_August\", \"FloorLevel_NO DATA!\", \"FloorLevel_5th\", \"FloorLevel_3rd\", \"PotentialEnergyRating_F\", \"PotentialEnergyRating_E\", \"PotentialEnergyRating_A\", \"CurrentEnergyRating_G\", \"CurrentEnergyRating_B\", \"CurrentEnergyRating_A\", \"Duration_L\", \"New_Y\", \"New_N\", \"EpcInspectionDate_hour\", \"PurchaseDate_hour\", \"PurchaseDate_year\", \"FloorLevel_top floor\", \"PurchaseDate_day_of_week_Saturday\", \"GlazedArea_Much More Than Typical\", \"CurrentEnergyRating_D\", \"FloorLevel_2nd\", \"EpcInspectionDate_month_September\", \"PurchaseDate_month_May\", \"PurchaseDate_day_of_week_Friday\", \"EpcInspectionDate_month_May\", \"EpcInspectionDate_month_April\", \"EpcInspectionDate_month_August\", \"FloorLevel_NODATA!\", \"GlazedArea_More Than Typical\", \"EpcInspectionDate_day_of_week_Monday\", \"PurchaseDate_day_of_week_Wednesday\", \"PropertyType_T\", \"EpcInspectionDate_month_October\", \"EpcInspectionDate_day_of_week_Wednesday\", \"PurchaseDate_month_June\", \"EpcInspectionDate_day_of_week_Sunday\", \"PurchaseDate_month_February\", \"PurchaseDate_day_of_week_Monday\", \"EpcInspectionDate_day_of_week_Tuesday\", \"PurchaseDate_month_April\", \"PurchaseDate_month_January\", \"PotentialEnergyEfficiency\", \"EpcInspectionDate_day_of_week_Friday\", \"PotentialEnergyRating_D\", \"EpcInspectionDate_month_June\", \"FloorLevel_ground floor\", \"CurrentEnergyRating_F\", \"PurchaseDate_month_July\", \"HabitableRooms\", \"EpcInspectionDate_day_of_week_Saturday\", \"EpcInspectionDate_month_January\", \"GlazedArea_NO DATA!\", \"EpcInspectionDate_year\", \"EpcInspectionDate_month_February\", \"PurchaseDate_day_of_week_Thursday\", \"PotentialEnergyRating_B\", \"EpcInspectionDate_day_of_week_Thursday\", \"EpcInspectionDate_month_November\", \"Duration_F\", \"HeatedRooms\", \"FloorLevel_mid floor\", \"CurrentEnergyRating_E\", \"PotentialEnergyRating_C\", \"PropertyType_F\", \"PurchaseDate_day_of_week_Tuesday\", \"GlazedArea_Normal\", \"CurrentEnergyEfficiency\", \"EpcInspectionDate_month_March\", \"FloorLevel_1st\", \"PropertyType_S\", \"TotalFloorArea\", \"PurchaseDate_month_March\", \"FloorLevel_Ground\", \"FlatStoreyCount\", \"PropertyType_O\", \"PropertyType_D\", \"CurrentEnergyRating_C\"]}],                        {\"height\": 800, \"template\": {\"data\": {\"bar\": [{\"error_x\": {\"color\": \"#2a3f5f\"}, \"error_y\": {\"color\": \"#2a3f5f\"}, \"marker\": {\"line\": {\"color\": \"#E5ECF6\", \"width\": 0.5}}, \"type\": \"bar\"}], \"barpolar\": [{\"marker\": {\"line\": {\"color\": \"#E5ECF6\", \"width\": 0.5}}, \"type\": \"barpolar\"}], \"carpet\": [{\"aaxis\": {\"endlinecolor\": \"#2a3f5f\", \"gridcolor\": \"white\", \"linecolor\": \"white\", \"minorgridcolor\": \"white\", \"startlinecolor\": \"#2a3f5f\"}, \"baxis\": {\"endlinecolor\": \"#2a3f5f\", \"gridcolor\": \"white\", \"linecolor\": \"white\", \"minorgridcolor\": \"white\", \"startlinecolor\": \"#2a3f5f\"}, \"type\": \"carpet\"}], \"choropleth\": [{\"colorbar\": {\"outlinewidth\": 0, \"ticks\": \"\"}, \"type\": \"choropleth\"}], \"contour\": [{\"colorbar\": {\"outlinewidth\": 0, \"ticks\": \"\"}, \"colorscale\": [[0.0, \"#0d0887\"], [0.1111111111111111, \"#46039f\"], [0.2222222222222222, \"#7201a8\"], [0.3333333333333333, \"#9c179e\"], [0.4444444444444444, \"#bd3786\"], [0.5555555555555556, \"#d8576b\"], [0.6666666666666666, \"#ed7953\"], [0.7777777777777778, \"#fb9f3a\"], [0.8888888888888888, \"#fdca26\"], [1.0, \"#f0f921\"]], \"type\": \"contour\"}], \"contourcarpet\": [{\"colorbar\": {\"outlinewidth\": 0, \"ticks\": \"\"}, \"type\": \"contourcarpet\"}], \"heatmap\": [{\"colorbar\": {\"outlinewidth\": 0, \"ticks\": \"\"}, \"colorscale\": [[0.0, \"#0d0887\"], [0.1111111111111111, \"#46039f\"], [0.2222222222222222, \"#7201a8\"], [0.3333333333333333, \"#9c179e\"], [0.4444444444444444, \"#bd3786\"], [0.5555555555555556, \"#d8576b\"], [0.6666666666666666, \"#ed7953\"], [0.7777777777777778, \"#fb9f3a\"], [0.8888888888888888, \"#fdca26\"], [1.0, \"#f0f921\"]], \"type\": \"heatmap\"}], \"heatmapgl\": [{\"colorbar\": {\"outlinewidth\": 0, \"ticks\": \"\"}, \"colorscale\": [[0.0, \"#0d0887\"], [0.1111111111111111, \"#46039f\"], [0.2222222222222222, \"#7201a8\"], [0.3333333333333333, \"#9c179e\"], [0.4444444444444444, \"#bd3786\"], [0.5555555555555556, \"#d8576b\"], [0.6666666666666666, \"#ed7953\"], [0.7777777777777778, \"#fb9f3a\"], [0.8888888888888888, \"#fdca26\"], [1.0, \"#f0f921\"]], \"type\": \"heatmapgl\"}], \"histogram\": [{\"marker\": {\"colorbar\": {\"outlinewidth\": 0, \"ticks\": \"\"}}, \"type\": \"histogram\"}], \"histogram2d\": [{\"colorbar\": {\"outlinewidth\": 0, \"ticks\": \"\"}, \"colorscale\": [[0.0, \"#0d0887\"], [0.1111111111111111, \"#46039f\"], [0.2222222222222222, \"#7201a8\"], [0.3333333333333333, \"#9c179e\"], [0.4444444444444444, \"#bd3786\"], [0.5555555555555556, \"#d8576b\"], [0.6666666666666666, \"#ed7953\"], [0.7777777777777778, \"#fb9f3a\"], [0.8888888888888888, \"#fdca26\"], [1.0, \"#f0f921\"]], \"type\": \"histogram2d\"}], \"histogram2dcontour\": [{\"colorbar\": {\"outlinewidth\": 0, \"ticks\": \"\"}, \"colorscale\": [[0.0, \"#0d0887\"], [0.1111111111111111, \"#46039f\"], [0.2222222222222222, \"#7201a8\"], [0.3333333333333333, \"#9c179e\"], [0.4444444444444444, \"#bd3786\"], [0.5555555555555556, \"#d8576b\"], [0.6666666666666666, \"#ed7953\"], [0.7777777777777778, \"#fb9f3a\"], [0.8888888888888888, \"#fdca26\"], [1.0, \"#f0f921\"]], \"type\": \"histogram2dcontour\"}], \"mesh3d\": [{\"colorbar\": {\"outlinewidth\": 0, \"ticks\": \"\"}, \"type\": \"mesh3d\"}], \"parcoords\": [{\"line\": {\"colorbar\": {\"outlinewidth\": 0, \"ticks\": \"\"}}, \"type\": \"parcoords\"}], \"pie\": [{\"automargin\": true, \"type\": \"pie\"}], \"scatter\": [{\"marker\": {\"colorbar\": {\"outlinewidth\": 0, \"ticks\": \"\"}}, \"type\": \"scatter\"}], \"scatter3d\": [{\"line\": {\"colorbar\": {\"outlinewidth\": 0, \"ticks\": \"\"}}, \"marker\": {\"colorbar\": {\"outlinewidth\": 0, \"ticks\": \"\"}}, \"type\": \"scatter3d\"}], \"scattercarpet\": [{\"marker\": {\"colorbar\": {\"outlinewidth\": 0, \"ticks\": \"\"}}, \"type\": \"scattercarpet\"}], \"scattergeo\": [{\"marker\": {\"colorbar\": {\"outlinewidth\": 0, \"ticks\": \"\"}}, \"type\": \"scattergeo\"}], \"scattergl\": [{\"marker\": {\"colorbar\": {\"outlinewidth\": 0, \"ticks\": \"\"}}, \"type\": \"scattergl\"}], \"scattermapbox\": [{\"marker\": {\"colorbar\": {\"outlinewidth\": 0, \"ticks\": \"\"}}, \"type\": \"scattermapbox\"}], \"scatterpolar\": [{\"marker\": {\"colorbar\": {\"outlinewidth\": 0, \"ticks\": \"\"}}, \"type\": \"scatterpolar\"}], \"scatterpolargl\": [{\"marker\": {\"colorbar\": {\"outlinewidth\": 0, \"ticks\": \"\"}}, \"type\": \"scatterpolargl\"}], \"scatterternary\": [{\"marker\": {\"colorbar\": {\"outlinewidth\": 0, \"ticks\": \"\"}}, \"type\": \"scatterternary\"}], \"surface\": [{\"colorbar\": {\"outlinewidth\": 0, \"ticks\": \"\"}, \"colorscale\": [[0.0, \"#0d0887\"], [0.1111111111111111, \"#46039f\"], [0.2222222222222222, \"#7201a8\"], [0.3333333333333333, \"#9c179e\"], [0.4444444444444444, \"#bd3786\"], [0.5555555555555556, \"#d8576b\"], [0.6666666666666666, \"#ed7953\"], [0.7777777777777778, \"#fb9f3a\"], [0.8888888888888888, \"#fdca26\"], [1.0, \"#f0f921\"]], \"type\": \"surface\"}], \"table\": [{\"cells\": {\"fill\": {\"color\": \"#EBF0F8\"}, \"line\": {\"color\": \"white\"}}, \"header\": {\"fill\": {\"color\": \"#C8D4E3\"}, \"line\": {\"color\": \"white\"}}, \"type\": \"table\"}]}, \"layout\": {\"annotationdefaults\": {\"arrowcolor\": \"#2a3f5f\", \"arrowhead\": 0, \"arrowwidth\": 1}, \"coloraxis\": {\"colorbar\": {\"outlinewidth\": 0, \"ticks\": \"\"}}, \"colorscale\": {\"diverging\": [[0, \"#8e0152\"], [0.1, \"#c51b7d\"], [0.2, \"#de77ae\"], [0.3, \"#f1b6da\"], [0.4, \"#fde0ef\"], [0.5, \"#f7f7f7\"], [0.6, \"#e6f5d0\"], [0.7, \"#b8e186\"], [0.8, \"#7fbc41\"], [0.9, \"#4d9221\"], [1, \"#276419\"]], \"sequential\": [[0.0, \"#0d0887\"], [0.1111111111111111, \"#46039f\"], [0.2222222222222222, \"#7201a8\"], [0.3333333333333333, \"#9c179e\"], [0.4444444444444444, \"#bd3786\"], [0.5555555555555556, \"#d8576b\"], [0.6666666666666666, \"#ed7953\"], [0.7777777777777778, \"#fb9f3a\"], [0.8888888888888888, \"#fdca26\"], [1.0, \"#f0f921\"]], \"sequentialminus\": [[0.0, \"#0d0887\"], [0.1111111111111111, \"#46039f\"], [0.2222222222222222, \"#7201a8\"], [0.3333333333333333, \"#9c179e\"], [0.4444444444444444, \"#bd3786\"], [0.5555555555555556, \"#d8576b\"], [0.6666666666666666, \"#ed7953\"], [0.7777777777777778, \"#fb9f3a\"], [0.8888888888888888, \"#fdca26\"], [1.0, \"#f0f921\"]]}, \"colorway\": [\"#636efa\", \"#EF553B\", \"#00cc96\", \"#ab63fa\", \"#FFA15A\", \"#19d3f3\", \"#FF6692\", \"#B6E880\", \"#FF97FF\", \"#FECB52\"], \"font\": {\"color\": \"#2a3f5f\"}, \"geo\": {\"bgcolor\": \"white\", \"lakecolor\": \"white\", \"landcolor\": \"#E5ECF6\", \"showlakes\": true, \"showland\": true, \"subunitcolor\": \"white\"}, \"hoverlabel\": {\"align\": \"left\"}, \"hovermode\": \"closest\", \"mapbox\": {\"style\": \"light\"}, \"paper_bgcolor\": \"white\", \"plot_bgcolor\": \"#E5ECF6\", \"polar\": {\"angularaxis\": {\"gridcolor\": \"white\", \"linecolor\": \"white\", \"ticks\": \"\"}, \"bgcolor\": \"#E5ECF6\", \"radialaxis\": {\"gridcolor\": \"white\", \"linecolor\": \"white\", \"ticks\": \"\"}}, \"scene\": {\"xaxis\": {\"backgroundcolor\": \"#E5ECF6\", \"gridcolor\": \"white\", \"gridwidth\": 2, \"linecolor\": \"white\", \"showbackground\": true, \"ticks\": \"\", \"zerolinecolor\": \"white\"}, \"yaxis\": {\"backgroundcolor\": \"#E5ECF6\", \"gridcolor\": \"white\", \"gridwidth\": 2, \"linecolor\": \"white\", \"showbackground\": true, \"ticks\": \"\", \"zerolinecolor\": \"white\"}, \"zaxis\": {\"backgroundcolor\": \"#E5ECF6\", \"gridcolor\": \"white\", \"gridwidth\": 2, \"linecolor\": \"white\", \"showbackground\": true, \"ticks\": \"\", \"zerolinecolor\": \"white\"}}, \"shapedefaults\": {\"line\": {\"color\": \"#2a3f5f\"}}, \"ternary\": {\"aaxis\": {\"gridcolor\": \"white\", \"linecolor\": \"white\", \"ticks\": \"\"}, \"baxis\": {\"gridcolor\": \"white\", \"linecolor\": \"white\", \"ticks\": \"\"}, \"bgcolor\": \"#E5ECF6\", \"caxis\": {\"gridcolor\": \"white\", \"linecolor\": \"white\", \"ticks\": \"\"}}, \"title\": {\"x\": 0.05}, \"xaxis\": {\"automargin\": true, \"gridcolor\": \"white\", \"linecolor\": \"white\", \"ticks\": \"\", \"title\": {\"standoff\": 15}, \"zerolinecolor\": \"white\", \"zerolinewidth\": 2}, \"yaxis\": {\"automargin\": true, \"gridcolor\": \"white\", \"linecolor\": \"white\", \"ticks\": \"\", \"title\": {\"standoff\": 15}, \"zerolinecolor\": \"white\", \"zerolinewidth\": 2}}}, \"title\": {\"text\": \"Feature Importance<br><sub>May display fewer features due to feature selection</sub>\"}, \"xaxis\": {\"title\": {\"text\": \"Feature Importance\"}}, \"yaxis\": {\"title\": {\"text\": \"Feature\"}, \"type\": \"category\"}},                        {\"responsive\": true}                    ).then(function(){\n",
       "                            \n",
       "var gd = document.getElementById('36de5a03-1b95-40ac-be0e-7f479d74e4db');\n",
       "var x = new MutationObserver(function (mutations, observer) {{\n",
       "        var display = window.getComputedStyle(gd).display;\n",
       "        if (!display || display === 'none') {{\n",
       "            console.log([gd, 'removed!']);\n",
       "            Plotly.purge(gd);\n",
       "            observer.disconnect();\n",
       "        }}\n",
       "}});\n",
       "\n",
       "// Listen for the removal of the full notebook cells\n",
       "var notebookContainer = gd.closest('#notebook-container');\n",
       "if (notebookContainer) {{\n",
       "    x.observe(notebookContainer, {childList: true});\n",
       "}}\n",
       "\n",
       "// Listen for the clearing of the current output cell\n",
       "var outputEl = gd.closest('.output');\n",
       "if (outputEl) {{\n",
       "    x.observe(outputEl, {childList: true});\n",
       "}}\n",
       "\n",
       "                        })                };                });            </script>        </div>"
      ]
     },
     "metadata": {},
     "output_type": "display_data"
    }
   ],
   "source": [
    "price_microservice_pipeline.graph_feature_importance()"
   ]
  },
  {
   "cell_type": "markdown",
   "metadata": {},
   "source": [
    "<img src=\"reports/figures/fi.png\" height=\"120\" >\n",
    "<img src=\"../../reports/figures/fi.png\" height=\"120\" >"
   ]
  },
  {
   "cell_type": "code",
   "execution_count": 70,
   "metadata": {},
   "outputs": [
    {
     "data": {
      "application/vnd.plotly.v1+json": {
       "config": {
        "plotlyServerURL": "https://plot.ly"
       },
       "data": [
        {
         "line": {
          "color": "grey"
         },
         "name": "y = x line",
         "type": "scatter",
         "x": [
          8275,
          894331.8625
         ],
         "y": [
          8275,
          894331.8625
         ]
        },
        {
         "marker": {
          "color": "#ffff00"
         },
         "mode": "markers",
         "name": ">= outlier_threshold",
         "type": "scatter",
         "x": [
          385419.71875,
          337095.6875,
          123666.671875,
          121125.328125,
          296105.25,
          126513.28125,
          121328.5,
          209080.46875,
          291594.15625,
          201890.421875,
          127222.6796875,
          119042.96875,
          99921.859375,
          81930.546875,
          133443.484375,
          268091.6875,
          152893.390625,
          158559.25,
          140070.46875,
          146105.609375,
          143789.140625,
          216119.09375,
          119623.46875,
          161370.28125,
          170374.828125,
          171383.3125,
          151853.40625,
          231615.75,
          327697.40625,
          196263.390625,
          149531.0625,
          130778.734375,
          193997.828125,
          144746.96875,
          204954.59375,
          170362.390625,
          118878.421875,
          125774.484375,
          170109.828125,
          165155.046875,
          290193.5,
          136124,
          119308.2421875,
          184201.875,
          107184.421875,
          152617.671875,
          147998.921875,
          212679.0625,
          252458.171875,
          135006.625,
          101543.59375,
          173674.65625,
          388333.28125,
          285616.25,
          220063.8125,
          124750.953125,
          121992.5859375,
          155104.203125,
          224317.609375,
          105484.5078125,
          173370.40625,
          258644.265625,
          75800.9765625,
          237761.578125,
          123170.0625,
          154349.59375,
          227405.328125,
          103392.2265625,
          152814.53125,
          138455.8125,
          116672.6328125,
          171479.9375,
          129924.890625,
          321584.0625,
          119442.28125,
          254195.328125,
          102538.1640625,
          141998.28125,
          154699.28125,
          153892.578125,
          129514.15625,
          100992.5,
          203365.59375,
          119006.65625,
          133857.578125,
          346109.28125,
          122245.5,
          211202.75,
          127565.15625,
          184552.078125,
          156404.09375,
          161627.953125,
          291293.375,
          320352.9375,
          140838.296875,
          145278.484375,
          145722.46875,
          226549.640625,
          129083.5390625,
          258737.78125,
          205858.875,
          218151.53125,
          161665.71875,
          156863.96875,
          218419.6875,
          132448.03125,
          233508.859375,
          171366.765625,
          201068.296875,
          189981.25,
          243972.484375,
          119886.90625,
          151059.453125,
          149187.34375,
          311353.4375,
          132937.375,
          155006.578125,
          216948.359375,
          161203.015625,
          241812.5,
          62442.98046875,
          116689.984375,
          112398.28125,
          854341.4375,
          109499.046875,
          197485.546875,
          122926.359375,
          148313.390625,
          129916.5625,
          186999.1875,
          276801.75,
          149178.03125,
          229696.453125,
          81612.4765625,
          179725.953125,
          135615.328125,
          87904.3671875,
          164487.203125,
          126053.9296875,
          147118.75,
          151162.984375,
          101371.8046875,
          141781.4375,
          360070.46875,
          151149.484375,
          199141.09375,
          141211.46875,
          112553.578125,
          158046.71875,
          99837.953125,
          174137.96875,
          256859.03125,
          184695.265625,
          139160.890625,
          496080.75,
          153855.671875,
          145597.625,
          252698.21875,
          179392.703125,
          254769.59375,
          114656.921875,
          193062.78125,
          142999.265625,
          121800.8125,
          160808.265625,
          117882.0078125,
          161665.765625,
          119725.71875,
          106324.1171875,
          188780.203125,
          72494.578125,
          184107.703125,
          126737.4140625,
          114507.71875,
          176504.421875,
          127287.1484375,
          234637.71875,
          144940.453125,
          132174.078125,
          135354.84375,
          339787.25,
          146685.625,
          193048.4375,
          151038.671875,
          327694.78125,
          104599.0625,
          165856.140625,
          151901.453125,
          140242.09375,
          191093.09375,
          139292.71875,
          121327.6953125,
          178827.15625,
          183636.484375,
          373714.40625,
          112650.15625,
          54532.921875,
          118724.234375,
          154482.1875,
          117284.375,
          137087.328125,
          205272.640625,
          140929.1875,
          270536.15625,
          207512.6875,
          82150.953125,
          105822.421875,
          131302.890625,
          144370.140625,
          151049.03125,
          143641.6875,
          149950.96875,
          157088.015625,
          199107.984375,
          178770.171875,
          159975.1875,
          157884.203125,
          99043.46875,
          160281.703125,
          180609.734375,
          185413.40625,
          248968.28125,
          149758.6875,
          181342.890625,
          171847.53125
         ],
         "y": [
          365000,
          375000,
          97000,
          86000,
          250000,
          158000,
          105000,
          190000,
          281000,
          255000,
          128000,
          195000,
          97500,
          97000,
          128000,
          230000,
          130000,
          237000,
          99000,
          134500,
          140000,
          145500,
          138000,
          120000,
          100000,
          125000,
          165000,
          130000,
          195000,
          130000,
          160000,
          125000,
          210000,
          155000,
          217500,
          160000,
          220000,
          90000,
          140500,
          160000,
          240000,
          101000,
          92500,
          154000,
          115000,
          275000,
          564000,
          190000,
          170000,
          97000,
          71500,
          197500,
          600000,
          325000,
          220000,
          102000,
          177500,
          180000,
          167000,
          135000,
          130000,
          74000,
          68000,
          215000,
          137500,
          148000,
          186500,
          108000,
          142000,
          134000,
          86500,
          151000,
          230000,
          340000,
          133000,
          197000,
          128000,
          140000,
          152000,
          120000,
          145000,
          102500,
          255000,
          116000,
          200000,
          440000,
          77000,
          237000,
          151000,
          144000,
          143000,
          50000,
          319950,
          137000,
          151000,
          140000,
          165250,
          118000,
          70000,
          240000,
          95000,
          115000,
          95000,
          213000,
          160000,
          126000,
          212000,
          230000,
          175000,
          125000,
          172000,
          163000,
          140000,
          99000,
          291750,
          118000,
          203000,
          236000,
          187500,
          189950,
          50000,
          92500,
          92500,
          737500,
          65000,
          170000,
          183900,
          100000,
          138000,
          130000,
          255000,
          152000,
          270000,
          43000,
          127000,
          120000,
          145000,
          162000,
          185000,
          104000,
          179950,
          97000,
          131000,
          435000,
          80000,
          90000,
          125000,
          115000,
          275000,
          159995,
          91000,
          190000,
          147000,
          232000,
          470000,
          108000,
          141000,
          315000,
          200000,
          122000,
          115000,
          160000,
          170000,
          105000,
          162000,
          80000,
          193600,
          103500,
          130000,
          170000,
          70000,
          257000,
          155000,
          98000,
          163000,
          86250,
          212458,
          75000,
          95000,
          86000,
          550000,
          192500,
          85000,
          159950,
          390000,
          95000,
          184500,
          165000,
          110000,
          157000,
          140000,
          130000,
          175000,
          160000,
          500000,
          75000,
          72500,
          105000,
          160000,
          74000,
          140000,
          156500,
          162000,
          189995,
          225000,
          102000,
          65000,
          90000,
          117100,
          210000,
          175000,
          195000,
          165000,
          229500,
          216500,
          152000,
          170000,
          140000,
          150000,
          189950,
          230000,
          366000,
          122500,
          85000,
          245000
         ]
        }
       ],
       "layout": {
        "template": {
         "data": {
          "bar": [
           {
            "error_x": {
             "color": "#2a3f5f"
            },
            "error_y": {
             "color": "#2a3f5f"
            },
            "marker": {
             "line": {
              "color": "#E5ECF6",
              "width": 0.5
             }
            },
            "type": "bar"
           }
          ],
          "barpolar": [
           {
            "marker": {
             "line": {
              "color": "#E5ECF6",
              "width": 0.5
             }
            },
            "type": "barpolar"
           }
          ],
          "carpet": [
           {
            "aaxis": {
             "endlinecolor": "#2a3f5f",
             "gridcolor": "white",
             "linecolor": "white",
             "minorgridcolor": "white",
             "startlinecolor": "#2a3f5f"
            },
            "baxis": {
             "endlinecolor": "#2a3f5f",
             "gridcolor": "white",
             "linecolor": "white",
             "minorgridcolor": "white",
             "startlinecolor": "#2a3f5f"
            },
            "type": "carpet"
           }
          ],
          "choropleth": [
           {
            "colorbar": {
             "outlinewidth": 0,
             "ticks": ""
            },
            "type": "choropleth"
           }
          ],
          "contour": [
           {
            "colorbar": {
             "outlinewidth": 0,
             "ticks": ""
            },
            "colorscale": [
             [
              0,
              "#0d0887"
             ],
             [
              0.1111111111111111,
              "#46039f"
             ],
             [
              0.2222222222222222,
              "#7201a8"
             ],
             [
              0.3333333333333333,
              "#9c179e"
             ],
             [
              0.4444444444444444,
              "#bd3786"
             ],
             [
              0.5555555555555556,
              "#d8576b"
             ],
             [
              0.6666666666666666,
              "#ed7953"
             ],
             [
              0.7777777777777778,
              "#fb9f3a"
             ],
             [
              0.8888888888888888,
              "#fdca26"
             ],
             [
              1,
              "#f0f921"
             ]
            ],
            "type": "contour"
           }
          ],
          "contourcarpet": [
           {
            "colorbar": {
             "outlinewidth": 0,
             "ticks": ""
            },
            "type": "contourcarpet"
           }
          ],
          "heatmap": [
           {
            "colorbar": {
             "outlinewidth": 0,
             "ticks": ""
            },
            "colorscale": [
             [
              0,
              "#0d0887"
             ],
             [
              0.1111111111111111,
              "#46039f"
             ],
             [
              0.2222222222222222,
              "#7201a8"
             ],
             [
              0.3333333333333333,
              "#9c179e"
             ],
             [
              0.4444444444444444,
              "#bd3786"
             ],
             [
              0.5555555555555556,
              "#d8576b"
             ],
             [
              0.6666666666666666,
              "#ed7953"
             ],
             [
              0.7777777777777778,
              "#fb9f3a"
             ],
             [
              0.8888888888888888,
              "#fdca26"
             ],
             [
              1,
              "#f0f921"
             ]
            ],
            "type": "heatmap"
           }
          ],
          "heatmapgl": [
           {
            "colorbar": {
             "outlinewidth": 0,
             "ticks": ""
            },
            "colorscale": [
             [
              0,
              "#0d0887"
             ],
             [
              0.1111111111111111,
              "#46039f"
             ],
             [
              0.2222222222222222,
              "#7201a8"
             ],
             [
              0.3333333333333333,
              "#9c179e"
             ],
             [
              0.4444444444444444,
              "#bd3786"
             ],
             [
              0.5555555555555556,
              "#d8576b"
             ],
             [
              0.6666666666666666,
              "#ed7953"
             ],
             [
              0.7777777777777778,
              "#fb9f3a"
             ],
             [
              0.8888888888888888,
              "#fdca26"
             ],
             [
              1,
              "#f0f921"
             ]
            ],
            "type": "heatmapgl"
           }
          ],
          "histogram": [
           {
            "marker": {
             "colorbar": {
              "outlinewidth": 0,
              "ticks": ""
             }
            },
            "type": "histogram"
           }
          ],
          "histogram2d": [
           {
            "colorbar": {
             "outlinewidth": 0,
             "ticks": ""
            },
            "colorscale": [
             [
              0,
              "#0d0887"
             ],
             [
              0.1111111111111111,
              "#46039f"
             ],
             [
              0.2222222222222222,
              "#7201a8"
             ],
             [
              0.3333333333333333,
              "#9c179e"
             ],
             [
              0.4444444444444444,
              "#bd3786"
             ],
             [
              0.5555555555555556,
              "#d8576b"
             ],
             [
              0.6666666666666666,
              "#ed7953"
             ],
             [
              0.7777777777777778,
              "#fb9f3a"
             ],
             [
              0.8888888888888888,
              "#fdca26"
             ],
             [
              1,
              "#f0f921"
             ]
            ],
            "type": "histogram2d"
           }
          ],
          "histogram2dcontour": [
           {
            "colorbar": {
             "outlinewidth": 0,
             "ticks": ""
            },
            "colorscale": [
             [
              0,
              "#0d0887"
             ],
             [
              0.1111111111111111,
              "#46039f"
             ],
             [
              0.2222222222222222,
              "#7201a8"
             ],
             [
              0.3333333333333333,
              "#9c179e"
             ],
             [
              0.4444444444444444,
              "#bd3786"
             ],
             [
              0.5555555555555556,
              "#d8576b"
             ],
             [
              0.6666666666666666,
              "#ed7953"
             ],
             [
              0.7777777777777778,
              "#fb9f3a"
             ],
             [
              0.8888888888888888,
              "#fdca26"
             ],
             [
              1,
              "#f0f921"
             ]
            ],
            "type": "histogram2dcontour"
           }
          ],
          "mesh3d": [
           {
            "colorbar": {
             "outlinewidth": 0,
             "ticks": ""
            },
            "type": "mesh3d"
           }
          ],
          "parcoords": [
           {
            "line": {
             "colorbar": {
              "outlinewidth": 0,
              "ticks": ""
             }
            },
            "type": "parcoords"
           }
          ],
          "pie": [
           {
            "automargin": true,
            "type": "pie"
           }
          ],
          "scatter": [
           {
            "marker": {
             "colorbar": {
              "outlinewidth": 0,
              "ticks": ""
             }
            },
            "type": "scatter"
           }
          ],
          "scatter3d": [
           {
            "line": {
             "colorbar": {
              "outlinewidth": 0,
              "ticks": ""
             }
            },
            "marker": {
             "colorbar": {
              "outlinewidth": 0,
              "ticks": ""
             }
            },
            "type": "scatter3d"
           }
          ],
          "scattercarpet": [
           {
            "marker": {
             "colorbar": {
              "outlinewidth": 0,
              "ticks": ""
             }
            },
            "type": "scattercarpet"
           }
          ],
          "scattergeo": [
           {
            "marker": {
             "colorbar": {
              "outlinewidth": 0,
              "ticks": ""
             }
            },
            "type": "scattergeo"
           }
          ],
          "scattergl": [
           {
            "marker": {
             "colorbar": {
              "outlinewidth": 0,
              "ticks": ""
             }
            },
            "type": "scattergl"
           }
          ],
          "scattermapbox": [
           {
            "marker": {
             "colorbar": {
              "outlinewidth": 0,
              "ticks": ""
             }
            },
            "type": "scattermapbox"
           }
          ],
          "scatterpolar": [
           {
            "marker": {
             "colorbar": {
              "outlinewidth": 0,
              "ticks": ""
             }
            },
            "type": "scatterpolar"
           }
          ],
          "scatterpolargl": [
           {
            "marker": {
             "colorbar": {
              "outlinewidth": 0,
              "ticks": ""
             }
            },
            "type": "scatterpolargl"
           }
          ],
          "scatterternary": [
           {
            "marker": {
             "colorbar": {
              "outlinewidth": 0,
              "ticks": ""
             }
            },
            "type": "scatterternary"
           }
          ],
          "surface": [
           {
            "colorbar": {
             "outlinewidth": 0,
             "ticks": ""
            },
            "colorscale": [
             [
              0,
              "#0d0887"
             ],
             [
              0.1111111111111111,
              "#46039f"
             ],
             [
              0.2222222222222222,
              "#7201a8"
             ],
             [
              0.3333333333333333,
              "#9c179e"
             ],
             [
              0.4444444444444444,
              "#bd3786"
             ],
             [
              0.5555555555555556,
              "#d8576b"
             ],
             [
              0.6666666666666666,
              "#ed7953"
             ],
             [
              0.7777777777777778,
              "#fb9f3a"
             ],
             [
              0.8888888888888888,
              "#fdca26"
             ],
             [
              1,
              "#f0f921"
             ]
            ],
            "type": "surface"
           }
          ],
          "table": [
           {
            "cells": {
             "fill": {
              "color": "#EBF0F8"
             },
             "line": {
              "color": "white"
             }
            },
            "header": {
             "fill": {
              "color": "#C8D4E3"
             },
             "line": {
              "color": "white"
             }
            },
            "type": "table"
           }
          ]
         },
         "layout": {
          "annotationdefaults": {
           "arrowcolor": "#2a3f5f",
           "arrowhead": 0,
           "arrowwidth": 1
          },
          "coloraxis": {
           "colorbar": {
            "outlinewidth": 0,
            "ticks": ""
           }
          },
          "colorscale": {
           "diverging": [
            [
             0,
             "#8e0152"
            ],
            [
             0.1,
             "#c51b7d"
            ],
            [
             0.2,
             "#de77ae"
            ],
            [
             0.3,
             "#f1b6da"
            ],
            [
             0.4,
             "#fde0ef"
            ],
            [
             0.5,
             "#f7f7f7"
            ],
            [
             0.6,
             "#e6f5d0"
            ],
            [
             0.7,
             "#b8e186"
            ],
            [
             0.8,
             "#7fbc41"
            ],
            [
             0.9,
             "#4d9221"
            ],
            [
             1,
             "#276419"
            ]
           ],
           "sequential": [
            [
             0,
             "#0d0887"
            ],
            [
             0.1111111111111111,
             "#46039f"
            ],
            [
             0.2222222222222222,
             "#7201a8"
            ],
            [
             0.3333333333333333,
             "#9c179e"
            ],
            [
             0.4444444444444444,
             "#bd3786"
            ],
            [
             0.5555555555555556,
             "#d8576b"
            ],
            [
             0.6666666666666666,
             "#ed7953"
            ],
            [
             0.7777777777777778,
             "#fb9f3a"
            ],
            [
             0.8888888888888888,
             "#fdca26"
            ],
            [
             1,
             "#f0f921"
            ]
           ],
           "sequentialminus": [
            [
             0,
             "#0d0887"
            ],
            [
             0.1111111111111111,
             "#46039f"
            ],
            [
             0.2222222222222222,
             "#7201a8"
            ],
            [
             0.3333333333333333,
             "#9c179e"
            ],
            [
             0.4444444444444444,
             "#bd3786"
            ],
            [
             0.5555555555555556,
             "#d8576b"
            ],
            [
             0.6666666666666666,
             "#ed7953"
            ],
            [
             0.7777777777777778,
             "#fb9f3a"
            ],
            [
             0.8888888888888888,
             "#fdca26"
            ],
            [
             1,
             "#f0f921"
            ]
           ]
          },
          "colorway": [
           "#636efa",
           "#EF553B",
           "#00cc96",
           "#ab63fa",
           "#FFA15A",
           "#19d3f3",
           "#FF6692",
           "#B6E880",
           "#FF97FF",
           "#FECB52"
          ],
          "font": {
           "color": "#2a3f5f"
          },
          "geo": {
           "bgcolor": "white",
           "lakecolor": "white",
           "landcolor": "#E5ECF6",
           "showlakes": true,
           "showland": true,
           "subunitcolor": "white"
          },
          "hoverlabel": {
           "align": "left"
          },
          "hovermode": "closest",
          "mapbox": {
           "style": "light"
          },
          "paper_bgcolor": "white",
          "plot_bgcolor": "#E5ECF6",
          "polar": {
           "angularaxis": {
            "gridcolor": "white",
            "linecolor": "white",
            "ticks": ""
           },
           "bgcolor": "#E5ECF6",
           "radialaxis": {
            "gridcolor": "white",
            "linecolor": "white",
            "ticks": ""
           }
          },
          "scene": {
           "xaxis": {
            "backgroundcolor": "#E5ECF6",
            "gridcolor": "white",
            "gridwidth": 2,
            "linecolor": "white",
            "showbackground": true,
            "ticks": "",
            "zerolinecolor": "white"
           },
           "yaxis": {
            "backgroundcolor": "#E5ECF6",
            "gridcolor": "white",
            "gridwidth": 2,
            "linecolor": "white",
            "showbackground": true,
            "ticks": "",
            "zerolinecolor": "white"
           },
           "zaxis": {
            "backgroundcolor": "#E5ECF6",
            "gridcolor": "white",
            "gridwidth": 2,
            "linecolor": "white",
            "showbackground": true,
            "ticks": "",
            "zerolinecolor": "white"
           }
          },
          "shapedefaults": {
           "line": {
            "color": "#2a3f5f"
           }
          },
          "ternary": {
           "aaxis": {
            "gridcolor": "white",
            "linecolor": "white",
            "ticks": ""
           },
           "baxis": {
            "gridcolor": "white",
            "linecolor": "white",
            "ticks": ""
           },
           "bgcolor": "#E5ECF6",
           "caxis": {
            "gridcolor": "white",
            "linecolor": "white",
            "ticks": ""
           }
          },
          "title": {
           "x": 0.05
          },
          "xaxis": {
           "automargin": true,
           "gridcolor": "white",
           "linecolor": "white",
           "ticks": "",
           "title": {
            "standoff": 15
           },
           "zerolinecolor": "white",
           "zerolinewidth": 2
          },
          "yaxis": {
           "automargin": true,
           "gridcolor": "white",
           "linecolor": "white",
           "ticks": "",
           "title": {
            "standoff": 15
           },
           "zerolinecolor": "white",
           "zerolinewidth": 2
          }
         }
        },
        "title": {
         "text": "Predicted vs Actual Values Scatter Plot"
        },
        "xaxis": {
         "range": [
          8275,
          894331.8625
         ],
         "title": {
          "text": "Prediction"
         }
        },
        "yaxis": {
         "range": [
          8275,
          894331.8625
         ],
         "title": {
          "text": "Actual"
         }
        }
       }
      },
      "text/html": [
       "<div>                            <div id=\"42696be3-db95-47c8-afaa-7fe0ec822980\" class=\"plotly-graph-div\" style=\"height:525px; width:100%;\"></div>            <script type=\"text/javascript\">                require([\"plotly\"], function(Plotly) {                    window.PLOTLYENV=window.PLOTLYENV || {};                                    if (document.getElementById(\"42696be3-db95-47c8-afaa-7fe0ec822980\")) {                    Plotly.newPlot(                        \"42696be3-db95-47c8-afaa-7fe0ec822980\",                        [{\"line\": {\"color\": \"grey\"}, \"name\": \"y = x line\", \"type\": \"scatter\", \"x\": [8275.0, 894331.8625], \"y\": [8275.0, 894331.8625]}, {\"marker\": {\"color\": \"#ffff00\"}, \"mode\": \"markers\", \"name\": \">= outlier_threshold\", \"type\": \"scatter\", \"x\": [385419.71875, 337095.6875, 123666.671875, 121125.328125, 296105.25, 126513.28125, 121328.5, 209080.46875, 291594.15625, 201890.421875, 127222.6796875, 119042.96875, 99921.859375, 81930.546875, 133443.484375, 268091.6875, 152893.390625, 158559.25, 140070.46875, 146105.609375, 143789.140625, 216119.09375, 119623.46875, 161370.28125, 170374.828125, 171383.3125, 151853.40625, 231615.75, 327697.40625, 196263.390625, 149531.0625, 130778.734375, 193997.828125, 144746.96875, 204954.59375, 170362.390625, 118878.421875, 125774.484375, 170109.828125, 165155.046875, 290193.5, 136124.0, 119308.2421875, 184201.875, 107184.421875, 152617.671875, 147998.921875, 212679.0625, 252458.171875, 135006.625, 101543.59375, 173674.65625, 388333.28125, 285616.25, 220063.8125, 124750.953125, 121992.5859375, 155104.203125, 224317.609375, 105484.5078125, 173370.40625, 258644.265625, 75800.9765625, 237761.578125, 123170.0625, 154349.59375, 227405.328125, 103392.2265625, 152814.53125, 138455.8125, 116672.6328125, 171479.9375, 129924.890625, 321584.0625, 119442.28125, 254195.328125, 102538.1640625, 141998.28125, 154699.28125, 153892.578125, 129514.15625, 100992.5, 203365.59375, 119006.65625, 133857.578125, 346109.28125, 122245.5, 211202.75, 127565.15625, 184552.078125, 156404.09375, 161627.953125, 291293.375, 320352.9375, 140838.296875, 145278.484375, 145722.46875, 226549.640625, 129083.5390625, 258737.78125, 205858.875, 218151.53125, 161665.71875, 156863.96875, 218419.6875, 132448.03125, 233508.859375, 171366.765625, 201068.296875, 189981.25, 243972.484375, 119886.90625, 151059.453125, 149187.34375, 311353.4375, 132937.375, 155006.578125, 216948.359375, 161203.015625, 241812.5, 62442.98046875, 116689.984375, 112398.28125, 854341.4375, 109499.046875, 197485.546875, 122926.359375, 148313.390625, 129916.5625, 186999.1875, 276801.75, 149178.03125, 229696.453125, 81612.4765625, 179725.953125, 135615.328125, 87904.3671875, 164487.203125, 126053.9296875, 147118.75, 151162.984375, 101371.8046875, 141781.4375, 360070.46875, 151149.484375, 199141.09375, 141211.46875, 112553.578125, 158046.71875, 99837.953125, 174137.96875, 256859.03125, 184695.265625, 139160.890625, 496080.75, 153855.671875, 145597.625, 252698.21875, 179392.703125, 254769.59375, 114656.921875, 193062.78125, 142999.265625, 121800.8125, 160808.265625, 117882.0078125, 161665.765625, 119725.71875, 106324.1171875, 188780.203125, 72494.578125, 184107.703125, 126737.4140625, 114507.71875, 176504.421875, 127287.1484375, 234637.71875, 144940.453125, 132174.078125, 135354.84375, 339787.25, 146685.625, 193048.4375, 151038.671875, 327694.78125, 104599.0625, 165856.140625, 151901.453125, 140242.09375, 191093.09375, 139292.71875, 121327.6953125, 178827.15625, 183636.484375, 373714.40625, 112650.15625, 54532.921875, 118724.234375, 154482.1875, 117284.375, 137087.328125, 205272.640625, 140929.1875, 270536.15625, 207512.6875, 82150.953125, 105822.421875, 131302.890625, 144370.140625, 151049.03125, 143641.6875, 149950.96875, 157088.015625, 199107.984375, 178770.171875, 159975.1875, 157884.203125, 99043.46875, 160281.703125, 180609.734375, 185413.40625, 248968.28125, 149758.6875, 181342.890625, 171847.53125], \"y\": [365000, 375000, 97000, 86000, 250000, 158000, 105000, 190000, 281000, 255000, 128000, 195000, 97500, 97000, 128000, 230000, 130000, 237000, 99000, 134500, 140000, 145500, 138000, 120000, 100000, 125000, 165000, 130000, 195000, 130000, 160000, 125000, 210000, 155000, 217500, 160000, 220000, 90000, 140500, 160000, 240000, 101000, 92500, 154000, 115000, 275000, 564000, 190000, 170000, 97000, 71500, 197500, 600000, 325000, 220000, 102000, 177500, 180000, 167000, 135000, 130000, 74000, 68000, 215000, 137500, 148000, 186500, 108000, 142000, 134000, 86500, 151000, 230000, 340000, 133000, 197000, 128000, 140000, 152000, 120000, 145000, 102500, 255000, 116000, 200000, 440000, 77000, 237000, 151000, 144000, 143000, 50000, 319950, 137000, 151000, 140000, 165250, 118000, 70000, 240000, 95000, 115000, 95000, 213000, 160000, 126000, 212000, 230000, 175000, 125000, 172000, 163000, 140000, 99000, 291750, 118000, 203000, 236000, 187500, 189950, 50000, 92500, 92500, 737500, 65000, 170000, 183900, 100000, 138000, 130000, 255000, 152000, 270000, 43000, 127000, 120000, 145000, 162000, 185000, 104000, 179950, 97000, 131000, 435000, 80000, 90000, 125000, 115000, 275000, 159995, 91000, 190000, 147000, 232000, 470000, 108000, 141000, 315000, 200000, 122000, 115000, 160000, 170000, 105000, 162000, 80000, 193600, 103500, 130000, 170000, 70000, 257000, 155000, 98000, 163000, 86250, 212458, 75000, 95000, 86000, 550000, 192500, 85000, 159950, 390000, 95000, 184500, 165000, 110000, 157000, 140000, 130000, 175000, 160000, 500000, 75000, 72500, 105000, 160000, 74000, 140000, 156500, 162000, 189995, 225000, 102000, 65000, 90000, 117100, 210000, 175000, 195000, 165000, 229500, 216500, 152000, 170000, 140000, 150000, 189950, 230000, 366000, 122500, 85000, 245000]}],                        {\"template\": {\"data\": {\"bar\": [{\"error_x\": {\"color\": \"#2a3f5f\"}, \"error_y\": {\"color\": \"#2a3f5f\"}, \"marker\": {\"line\": {\"color\": \"#E5ECF6\", \"width\": 0.5}}, \"type\": \"bar\"}], \"barpolar\": [{\"marker\": {\"line\": {\"color\": \"#E5ECF6\", \"width\": 0.5}}, \"type\": \"barpolar\"}], \"carpet\": [{\"aaxis\": {\"endlinecolor\": \"#2a3f5f\", \"gridcolor\": \"white\", \"linecolor\": \"white\", \"minorgridcolor\": \"white\", \"startlinecolor\": \"#2a3f5f\"}, \"baxis\": {\"endlinecolor\": \"#2a3f5f\", \"gridcolor\": \"white\", \"linecolor\": \"white\", \"minorgridcolor\": \"white\", \"startlinecolor\": \"#2a3f5f\"}, \"type\": \"carpet\"}], \"choropleth\": [{\"colorbar\": {\"outlinewidth\": 0, \"ticks\": \"\"}, \"type\": \"choropleth\"}], \"contour\": [{\"colorbar\": {\"outlinewidth\": 0, \"ticks\": \"\"}, \"colorscale\": [[0.0, \"#0d0887\"], [0.1111111111111111, \"#46039f\"], [0.2222222222222222, \"#7201a8\"], [0.3333333333333333, \"#9c179e\"], [0.4444444444444444, \"#bd3786\"], [0.5555555555555556, \"#d8576b\"], [0.6666666666666666, \"#ed7953\"], [0.7777777777777778, \"#fb9f3a\"], [0.8888888888888888, \"#fdca26\"], [1.0, \"#f0f921\"]], \"type\": \"contour\"}], \"contourcarpet\": [{\"colorbar\": {\"outlinewidth\": 0, \"ticks\": \"\"}, \"type\": \"contourcarpet\"}], \"heatmap\": [{\"colorbar\": {\"outlinewidth\": 0, \"ticks\": \"\"}, \"colorscale\": [[0.0, \"#0d0887\"], [0.1111111111111111, \"#46039f\"], [0.2222222222222222, \"#7201a8\"], [0.3333333333333333, \"#9c179e\"], [0.4444444444444444, \"#bd3786\"], [0.5555555555555556, \"#d8576b\"], [0.6666666666666666, \"#ed7953\"], [0.7777777777777778, \"#fb9f3a\"], [0.8888888888888888, \"#fdca26\"], [1.0, \"#f0f921\"]], \"type\": \"heatmap\"}], \"heatmapgl\": [{\"colorbar\": {\"outlinewidth\": 0, \"ticks\": \"\"}, \"colorscale\": [[0.0, \"#0d0887\"], [0.1111111111111111, \"#46039f\"], [0.2222222222222222, \"#7201a8\"], [0.3333333333333333, \"#9c179e\"], [0.4444444444444444, \"#bd3786\"], [0.5555555555555556, \"#d8576b\"], [0.6666666666666666, \"#ed7953\"], [0.7777777777777778, \"#fb9f3a\"], [0.8888888888888888, \"#fdca26\"], [1.0, \"#f0f921\"]], \"type\": \"heatmapgl\"}], \"histogram\": [{\"marker\": {\"colorbar\": {\"outlinewidth\": 0, \"ticks\": \"\"}}, \"type\": \"histogram\"}], \"histogram2d\": [{\"colorbar\": {\"outlinewidth\": 0, \"ticks\": \"\"}, \"colorscale\": [[0.0, \"#0d0887\"], [0.1111111111111111, \"#46039f\"], [0.2222222222222222, \"#7201a8\"], [0.3333333333333333, \"#9c179e\"], [0.4444444444444444, \"#bd3786\"], [0.5555555555555556, \"#d8576b\"], [0.6666666666666666, \"#ed7953\"], [0.7777777777777778, \"#fb9f3a\"], [0.8888888888888888, \"#fdca26\"], [1.0, \"#f0f921\"]], \"type\": \"histogram2d\"}], \"histogram2dcontour\": [{\"colorbar\": {\"outlinewidth\": 0, \"ticks\": \"\"}, \"colorscale\": [[0.0, \"#0d0887\"], [0.1111111111111111, \"#46039f\"], [0.2222222222222222, \"#7201a8\"], [0.3333333333333333, \"#9c179e\"], [0.4444444444444444, \"#bd3786\"], [0.5555555555555556, \"#d8576b\"], [0.6666666666666666, \"#ed7953\"], [0.7777777777777778, \"#fb9f3a\"], [0.8888888888888888, \"#fdca26\"], [1.0, \"#f0f921\"]], \"type\": \"histogram2dcontour\"}], \"mesh3d\": [{\"colorbar\": {\"outlinewidth\": 0, \"ticks\": \"\"}, \"type\": \"mesh3d\"}], \"parcoords\": [{\"line\": {\"colorbar\": {\"outlinewidth\": 0, \"ticks\": \"\"}}, \"type\": \"parcoords\"}], \"pie\": [{\"automargin\": true, \"type\": \"pie\"}], \"scatter\": [{\"marker\": {\"colorbar\": {\"outlinewidth\": 0, \"ticks\": \"\"}}, \"type\": \"scatter\"}], \"scatter3d\": [{\"line\": {\"colorbar\": {\"outlinewidth\": 0, \"ticks\": \"\"}}, \"marker\": {\"colorbar\": {\"outlinewidth\": 0, \"ticks\": \"\"}}, \"type\": \"scatter3d\"}], \"scattercarpet\": [{\"marker\": {\"colorbar\": {\"outlinewidth\": 0, \"ticks\": \"\"}}, \"type\": \"scattercarpet\"}], \"scattergeo\": [{\"marker\": {\"colorbar\": {\"outlinewidth\": 0, \"ticks\": \"\"}}, \"type\": \"scattergeo\"}], \"scattergl\": [{\"marker\": {\"colorbar\": {\"outlinewidth\": 0, \"ticks\": \"\"}}, \"type\": \"scattergl\"}], \"scattermapbox\": [{\"marker\": {\"colorbar\": {\"outlinewidth\": 0, \"ticks\": \"\"}}, \"type\": \"scattermapbox\"}], \"scatterpolar\": [{\"marker\": {\"colorbar\": {\"outlinewidth\": 0, \"ticks\": \"\"}}, \"type\": \"scatterpolar\"}], \"scatterpolargl\": [{\"marker\": {\"colorbar\": {\"outlinewidth\": 0, \"ticks\": \"\"}}, \"type\": \"scatterpolargl\"}], \"scatterternary\": [{\"marker\": {\"colorbar\": {\"outlinewidth\": 0, \"ticks\": \"\"}}, \"type\": \"scatterternary\"}], \"surface\": [{\"colorbar\": {\"outlinewidth\": 0, \"ticks\": \"\"}, \"colorscale\": [[0.0, \"#0d0887\"], [0.1111111111111111, \"#46039f\"], [0.2222222222222222, \"#7201a8\"], [0.3333333333333333, \"#9c179e\"], [0.4444444444444444, \"#bd3786\"], [0.5555555555555556, \"#d8576b\"], [0.6666666666666666, \"#ed7953\"], [0.7777777777777778, \"#fb9f3a\"], [0.8888888888888888, \"#fdca26\"], [1.0, \"#f0f921\"]], \"type\": \"surface\"}], \"table\": [{\"cells\": {\"fill\": {\"color\": \"#EBF0F8\"}, \"line\": {\"color\": \"white\"}}, \"header\": {\"fill\": {\"color\": \"#C8D4E3\"}, \"line\": {\"color\": \"white\"}}, \"type\": \"table\"}]}, \"layout\": {\"annotationdefaults\": {\"arrowcolor\": \"#2a3f5f\", \"arrowhead\": 0, \"arrowwidth\": 1}, \"coloraxis\": {\"colorbar\": {\"outlinewidth\": 0, \"ticks\": \"\"}}, \"colorscale\": {\"diverging\": [[0, \"#8e0152\"], [0.1, \"#c51b7d\"], [0.2, \"#de77ae\"], [0.3, \"#f1b6da\"], [0.4, \"#fde0ef\"], [0.5, \"#f7f7f7\"], [0.6, \"#e6f5d0\"], [0.7, \"#b8e186\"], [0.8, \"#7fbc41\"], [0.9, \"#4d9221\"], [1, \"#276419\"]], \"sequential\": [[0.0, \"#0d0887\"], [0.1111111111111111, \"#46039f\"], [0.2222222222222222, \"#7201a8\"], [0.3333333333333333, \"#9c179e\"], [0.4444444444444444, \"#bd3786\"], [0.5555555555555556, \"#d8576b\"], [0.6666666666666666, \"#ed7953\"], [0.7777777777777778, \"#fb9f3a\"], [0.8888888888888888, \"#fdca26\"], [1.0, \"#f0f921\"]], \"sequentialminus\": [[0.0, \"#0d0887\"], [0.1111111111111111, \"#46039f\"], [0.2222222222222222, \"#7201a8\"], [0.3333333333333333, \"#9c179e\"], [0.4444444444444444, \"#bd3786\"], [0.5555555555555556, \"#d8576b\"], [0.6666666666666666, \"#ed7953\"], [0.7777777777777778, \"#fb9f3a\"], [0.8888888888888888, \"#fdca26\"], [1.0, \"#f0f921\"]]}, \"colorway\": [\"#636efa\", \"#EF553B\", \"#00cc96\", \"#ab63fa\", \"#FFA15A\", \"#19d3f3\", \"#FF6692\", \"#B6E880\", \"#FF97FF\", \"#FECB52\"], \"font\": {\"color\": \"#2a3f5f\"}, \"geo\": {\"bgcolor\": \"white\", \"lakecolor\": \"white\", \"landcolor\": \"#E5ECF6\", \"showlakes\": true, \"showland\": true, \"subunitcolor\": \"white\"}, \"hoverlabel\": {\"align\": \"left\"}, \"hovermode\": \"closest\", \"mapbox\": {\"style\": \"light\"}, \"paper_bgcolor\": \"white\", \"plot_bgcolor\": \"#E5ECF6\", \"polar\": {\"angularaxis\": {\"gridcolor\": \"white\", \"linecolor\": \"white\", \"ticks\": \"\"}, \"bgcolor\": \"#E5ECF6\", \"radialaxis\": {\"gridcolor\": \"white\", \"linecolor\": \"white\", \"ticks\": \"\"}}, \"scene\": {\"xaxis\": {\"backgroundcolor\": \"#E5ECF6\", \"gridcolor\": \"white\", \"gridwidth\": 2, \"linecolor\": \"white\", \"showbackground\": true, \"ticks\": \"\", \"zerolinecolor\": \"white\"}, \"yaxis\": {\"backgroundcolor\": \"#E5ECF6\", \"gridcolor\": \"white\", \"gridwidth\": 2, \"linecolor\": \"white\", \"showbackground\": true, \"ticks\": \"\", \"zerolinecolor\": \"white\"}, \"zaxis\": {\"backgroundcolor\": \"#E5ECF6\", \"gridcolor\": \"white\", \"gridwidth\": 2, \"linecolor\": \"white\", \"showbackground\": true, \"ticks\": \"\", \"zerolinecolor\": \"white\"}}, \"shapedefaults\": {\"line\": {\"color\": \"#2a3f5f\"}}, \"ternary\": {\"aaxis\": {\"gridcolor\": \"white\", \"linecolor\": \"white\", \"ticks\": \"\"}, \"baxis\": {\"gridcolor\": \"white\", \"linecolor\": \"white\", \"ticks\": \"\"}, \"bgcolor\": \"#E5ECF6\", \"caxis\": {\"gridcolor\": \"white\", \"linecolor\": \"white\", \"ticks\": \"\"}}, \"title\": {\"x\": 0.05}, \"xaxis\": {\"automargin\": true, \"gridcolor\": \"white\", \"linecolor\": \"white\", \"ticks\": \"\", \"title\": {\"standoff\": 15}, \"zerolinecolor\": \"white\", \"zerolinewidth\": 2}, \"yaxis\": {\"automargin\": true, \"gridcolor\": \"white\", \"linecolor\": \"white\", \"ticks\": \"\", \"title\": {\"standoff\": 15}, \"zerolinecolor\": \"white\", \"zerolinewidth\": 2}}}, \"title\": {\"text\": \"Predicted vs Actual Values Scatter Plot\"}, \"xaxis\": {\"range\": [8275.0, 894331.8625], \"title\": {\"text\": \"Prediction\"}}, \"yaxis\": {\"range\": [8275.0, 894331.8625], \"title\": {\"text\": \"Actual\"}}},                        {\"responsive\": true}                    ).then(function(){\n",
       "                            \n",
       "var gd = document.getElementById('42696be3-db95-47c8-afaa-7fe0ec822980');\n",
       "var x = new MutationObserver(function (mutations, observer) {{\n",
       "        var display = window.getComputedStyle(gd).display;\n",
       "        if (!display || display === 'none') {{\n",
       "            console.log([gd, 'removed!']);\n",
       "            Plotly.purge(gd);\n",
       "            observer.disconnect();\n",
       "        }}\n",
       "}});\n",
       "\n",
       "// Listen for the removal of the full notebook cells\n",
       "var notebookContainer = gd.closest('#notebook-container');\n",
       "if (notebookContainer) {{\n",
       "    x.observe(notebookContainer, {childList: true});\n",
       "}}\n",
       "\n",
       "// Listen for the clearing of the current output cell\n",
       "var outputEl = gd.closest('.output');\n",
       "if (outputEl) {{\n",
       "    x.observe(outputEl, {childList: true});\n",
       "}}\n",
       "\n",
       "                        })                };                });            </script>        </div>"
      ]
     },
     "metadata": {},
     "output_type": "display_data"
    }
   ],
   "source": [
    "from evalml.model_understanding.graphs import graph_prediction_vs_actual\n",
    "\n",
    "y_pred = price_microservice_pipeline.predict(X_holdout)\n",
    "graph_prediction_vs_actual(y_holdout, y_pred, outlier_threshold=50)"
   ]
  },
  {
   "cell_type": "code",
   "execution_count": 71,
   "metadata": {},
   "outputs": [
    {
     "name": "stdout",
     "output_type": "stream",
     "text": [
      "*******************************\n",
      "* Price Microservice Pipeline *\n",
      "*******************************\n",
      "\n",
      "Problem Type: regression\n",
      "Model Family: XGBoost\n",
      "Number of features: 78\n",
      "\n",
      "Pipeline Steps\n",
      "==============\n",
      "1. Imputer\n",
      "\t * categorical_impute_strategy : most_frequent\n",
      "\t * numeric_impute_strategy : mean\n",
      "\t * categorical_fill_value : None\n",
      "\t * numeric_fill_value : None\n",
      "2. DateTime Featurization Component\n",
      "\t * features_to_extract : ['year', 'month', 'day_of_week', 'hour']\n",
      "3. One Hot Encoder\n",
      "\t * top_n : 10\n",
      "\t * features_to_encode : None\n",
      "\t * categories : None\n",
      "\t * drop : None\n",
      "\t * handle_unknown : ignore\n",
      "\t * handle_missing : error\n",
      "4. XGBoost Regressor\n",
      "\t * eta : 0.1\n",
      "\t * max_depth : 6\n",
      "\t * min_child_weight : 1\n",
      "\t * n_estimators : 100\n"
     ]
    }
   ],
   "source": [
    "price_microservice_pipeline.describe()"
   ]
  },
  {
   "cell_type": "code",
   "execution_count": 72,
   "metadata": {},
   "outputs": [
    {
     "name": "stdout",
     "output_type": "stream",
     "text": [
      "OrderedDict([('MAE', 41639.26171875)])\n"
     ]
    }
   ],
   "source": [
    "print(price_microservice_pipeline.score(X_holdout, y_holdout, objectives=['MAE']))"
   ]
  },
  {
   "cell_type": "code",
   "execution_count": 73,
   "metadata": {},
   "outputs": [],
   "source": [
    "save_path = '../../models/price_microservice_pipeline.pkl'\n",
    "price_microservice_pipeline.save(save_path)"
   ]
  },
  {
   "cell_type": "code",
   "execution_count": 74,
   "metadata": {},
   "outputs": [
    {
     "name": "stdout",
     "output_type": "stream",
     "text": [
      "numpy.ufunc size changed, may indicate binary incompatibility. Expected 192 from C header, got 216 from PyObject\n",
      "numpy.ufunc size changed, may indicate binary incompatibility. Expected 192 from C header, got 216 from PyObject\n",
      "numpy.ufunc size changed, may indicate binary incompatibility. Expected 192 from C header, got 216 from PyObject\n",
      "numpy.ufunc size changed, may indicate binary incompatibility. Expected 192 from C header, got 216 from PyObject\n",
      "numpy.ufunc size changed, may indicate binary incompatibility. Expected 192 from C header, got 216 from PyObject\n",
      "EvalML version: 0.15.0\n",
      "EvalML installation directory: /usr/local/anaconda3/envs/microservice_price_env/lib/python3.7/site-packages/evalml\n",
      "\n",
      "SYSTEM INFO\n",
      "-----------\n",
      "python: 3.7.9.final.0\n",
      "python-bits: 64\n",
      "OS: Darwin\n",
      "OS-release: 19.6.0\n",
      "machine: x86_64\n",
      "processor: i386\n",
      "byteorder: little\n",
      "LC_ALL: None\n",
      "LANG: en_US.UTF-8\n",
      "LOCALE: en_US.UTF-8\n",
      "# of CPUS: 8\n",
      "Available memory: 5.3G\n",
      "unclosed file <_io.TextIOWrapper name='/usr/local/anaconda3/envs/microservice_price_env/lib/python3.7/site-packages/evalml/../core-requirements.txt' mode='r' encoding='UTF-8'>\n",
      "\n",
      "INSTALLED VERSIONS\n",
      "------------------\n",
      "numpy: 1.19.2\n",
      "pandas: 1.1.3\n",
      "scipy: 1.5.2\n",
      "scikit-learn: 0.23.2\n",
      "scikit-optimize: 0.8.1\n",
      "colorama: 0.4.3\n",
      "cloudpickle: 1.6.0\n",
      "click: 7.1.2\n",
      "psutil: 5.7.2\n",
      "requirements-parser: 0.2.0\n",
      "shap: 0.36.0\n",
      "texttable: 1.6.3\n",
      "woodwork: 0.0.5\n",
      "featuretools: 0.21.0\n",
      "nlp-primitives: 1.1.0\n",
      "\u001b[0m"
     ]
    }
   ],
   "source": [
    "!evalml info"
   ]
  },
  {
   "cell_type": "code",
   "execution_count": 75,
   "metadata": {},
   "outputs": [
    {
     "data": {
      "text/plain": [
       "PriceMicroservicePipeline(parameters={'Imputer':{'categorical_impute_strategy': 'most_frequent', 'numeric_impute_strategy': 'mean', 'categorical_fill_value': None, 'numeric_fill_value': None}, 'DateTime Featurization Component':{}, 'One Hot Encoder':{'top_n': 10, 'categories': None, 'drop': None, 'handle_unknown': 'ignore', 'handle_missing': 'error'}, 'XGBoost Regressor':{'eta': 0.1, 'max_depth': 6, 'min_child_weight': 1, 'n_estimators': 100},})"
      ]
     },
     "execution_count": 75,
     "metadata": {},
     "output_type": "execute_result"
    }
   ],
   "source": [
    "from evalml.pipelines import RegressionPipeline\n",
    "\n",
    "price_microservice_pipeline = RegressionPipeline.load(save_path)\n",
    "price_microservice_pipeline"
   ]
  },
  {
   "cell_type": "code",
   "execution_count": 76,
   "metadata": {},
   "outputs": [
    {
     "data": {
      "text/plain": [
       "0       426248.250000\n",
       "1       151059.453125\n",
       "2        82150.953125\n",
       "3       142689.812500\n",
       "4       127317.421875\n",
       "            ...      \n",
       "1116    279921.843750\n",
       "1117    169645.578125\n",
       "1118    153830.046875\n",
       "1119    496080.750000\n",
       "1120    214928.062500\n",
       "Length: 1121, dtype: float32"
      ]
     },
     "execution_count": 76,
     "metadata": {},
     "output_type": "execute_result"
    }
   ],
   "source": [
    "price_microservice_pipeline.predict(X)"
   ]
  },
  {
   "cell_type": "markdown",
   "metadata": {},
   "source": [
    "<img src=\"https://github.com/BlockchainClimateInstitute/microservice_price/tree/develop/reports/figures/pd_area.png\" height=\"120\" >"
   ]
  },
  {
   "cell_type": "code",
   "execution_count": 84,
   "metadata": {},
   "outputs": [
    {
     "data": {
      "application/vnd.plotly.v1+json": {
       "config": {
        "plotlyServerURL": "https://plot.ly"
       },
       "data": [
        {
         "line": {
          "width": 3
         },
         "name": "Partial Dependence",
         "type": "scatter",
         "x": [
          55.5124,
          56.6858101010101,
          57.859220202020204,
          59.0326303030303,
          60.2060404040404,
          61.37945050505051,
          62.552860606060605,
          63.72627070707071,
          64.8996808080808,
          66.07309090909091,
          67.24650101010101,
          68.4199111111111,
          69.59332121212121,
          70.76673131313132,
          71.94014141414141,
          73.11355151515151,
          74.28696161616162,
          75.46037171717171,
          76.63378181818182,
          77.80719191919192,
          78.98060202020201,
          80.15401212121212,
          81.32742222222222,
          82.50083232323232,
          83.67424242424242,
          84.84765252525253,
          86.02106262626262,
          87.19447272727272,
          88.36788282828283,
          89.54129292929292,
          90.71470303030303,
          91.88811313131313,
          93.06152323232322,
          94.23493333333333,
          95.40834343434344,
          96.58175353535353,
          97.75516363636363,
          98.92857373737374,
          100.10198383838383,
          101.27539393939394,
          102.44880404040404,
          103.62221414141413,
          104.79562424242424,
          105.96903434343434,
          107.14244444444444,
          108.31585454545454,
          109.48926464646465,
          110.66267474747474,
          111.83608484848484,
          113.00949494949495,
          114.18290505050504,
          115.35631515151516,
          116.52972525252525,
          117.70313535353534,
          118.87654545454546,
          120.04995555555556,
          121.22336565656566,
          122.39677575757575,
          123.57018585858586,
          124.74359595959596,
          125.91700606060606,
          127.09041616161616,
          128.26382626262625,
          129.43723636363637,
          130.61064646464646,
          131.78405656565656,
          132.95746666666668,
          134.13087676767677,
          135.30428686868686,
          136.47769696969698,
          137.65110707070707,
          138.82451717171716,
          139.99792727272728,
          141.17133737373737,
          142.34474747474746,
          143.51815757575758,
          144.69156767676768,
          145.86497777777777,
          147.0383878787879,
          148.21179797979798,
          149.38520808080807,
          150.5586181818182,
          151.73202828282828,
          152.90543838383837,
          154.0788484848485,
          155.25225858585858,
          156.42566868686868,
          157.5990787878788,
          158.7724888888889,
          159.94589898989898,
          161.1193090909091,
          162.2927191919192,
          163.46612929292928,
          164.6395393939394,
          165.8129494949495,
          166.98635959595958,
          168.1597696969697,
          169.3331797979798,
          170.5065898989899,
          171.68
         ],
         "y": [
          138399.3125,
          138597.203125,
          138581.46875,
          138499.015625,
          138525.765625,
          133345.25,
          134604.546875,
          136473.25,
          141164.34375,
          144128.671875,
          143990.53125,
          147300.890625,
          147079.796875,
          147209.296875,
          149460.6875,
          149860.484375,
          147246.046875,
          147832.53125,
          147714.703125,
          146515.328125,
          146176.296875,
          146347.078125,
          147206.875,
          152471.921875,
          153971.515625,
          156552.28125,
          161022.359375,
          160941.421875,
          159542.1875,
          159630.46875,
          159211.453125,
          159119.640625,
          160594.078125,
          173299.015625,
          181243.09375,
          180992.671875,
          180992.671875,
          178943.640625,
          176667.703125,
          187609.8125,
          189956.8125,
          190609.171875,
          190609.171875,
          192466.625,
          192092.296875,
          188267.5625,
          188267.5625,
          188861.671875,
          188861.671875,
          189287.359375,
          189287.359375,
          190393.640625,
          190787.265625,
          190787.265625,
          190995.390625,
          190995.390625,
          190995.390625,
          191982.703125,
          232062.421875,
          232062.421875,
          232062.421875,
          233285.625,
          233285.625,
          233285.625,
          232241.171875,
          230957.125,
          230957.125,
          230957.125,
          230957.125,
          228961.0625,
          228961.0625,
          220900.59375,
          239301.515625,
          236502.359375,
          236502.359375,
          236502.359375,
          236502.359375,
          236502.359375,
          236502.359375,
          236502.359375,
          236502.359375,
          236640.9375,
          236640.9375,
          236640.9375,
          236218.71875,
          236883.78125,
          236883.78125,
          238338.140625,
          238338.140625,
          238364.625,
          238364.625,
          238364.625,
          236558.75,
          238770.546875,
          238770.546875,
          237627.640625,
          237627.640625,
          237627.640625,
          237627.640625,
          237627.640625
         ]
        }
       ],
       "layout": {
        "template": {
         "data": {
          "bar": [
           {
            "error_x": {
             "color": "#2a3f5f"
            },
            "error_y": {
             "color": "#2a3f5f"
            },
            "marker": {
             "line": {
              "color": "#E5ECF6",
              "width": 0.5
             }
            },
            "type": "bar"
           }
          ],
          "barpolar": [
           {
            "marker": {
             "line": {
              "color": "#E5ECF6",
              "width": 0.5
             }
            },
            "type": "barpolar"
           }
          ],
          "carpet": [
           {
            "aaxis": {
             "endlinecolor": "#2a3f5f",
             "gridcolor": "white",
             "linecolor": "white",
             "minorgridcolor": "white",
             "startlinecolor": "#2a3f5f"
            },
            "baxis": {
             "endlinecolor": "#2a3f5f",
             "gridcolor": "white",
             "linecolor": "white",
             "minorgridcolor": "white",
             "startlinecolor": "#2a3f5f"
            },
            "type": "carpet"
           }
          ],
          "choropleth": [
           {
            "colorbar": {
             "outlinewidth": 0,
             "ticks": ""
            },
            "type": "choropleth"
           }
          ],
          "contour": [
           {
            "colorbar": {
             "outlinewidth": 0,
             "ticks": ""
            },
            "colorscale": [
             [
              0,
              "#0d0887"
             ],
             [
              0.1111111111111111,
              "#46039f"
             ],
             [
              0.2222222222222222,
              "#7201a8"
             ],
             [
              0.3333333333333333,
              "#9c179e"
             ],
             [
              0.4444444444444444,
              "#bd3786"
             ],
             [
              0.5555555555555556,
              "#d8576b"
             ],
             [
              0.6666666666666666,
              "#ed7953"
             ],
             [
              0.7777777777777778,
              "#fb9f3a"
             ],
             [
              0.8888888888888888,
              "#fdca26"
             ],
             [
              1,
              "#f0f921"
             ]
            ],
            "type": "contour"
           }
          ],
          "contourcarpet": [
           {
            "colorbar": {
             "outlinewidth": 0,
             "ticks": ""
            },
            "type": "contourcarpet"
           }
          ],
          "heatmap": [
           {
            "colorbar": {
             "outlinewidth": 0,
             "ticks": ""
            },
            "colorscale": [
             [
              0,
              "#0d0887"
             ],
             [
              0.1111111111111111,
              "#46039f"
             ],
             [
              0.2222222222222222,
              "#7201a8"
             ],
             [
              0.3333333333333333,
              "#9c179e"
             ],
             [
              0.4444444444444444,
              "#bd3786"
             ],
             [
              0.5555555555555556,
              "#d8576b"
             ],
             [
              0.6666666666666666,
              "#ed7953"
             ],
             [
              0.7777777777777778,
              "#fb9f3a"
             ],
             [
              0.8888888888888888,
              "#fdca26"
             ],
             [
              1,
              "#f0f921"
             ]
            ],
            "type": "heatmap"
           }
          ],
          "heatmapgl": [
           {
            "colorbar": {
             "outlinewidth": 0,
             "ticks": ""
            },
            "colorscale": [
             [
              0,
              "#0d0887"
             ],
             [
              0.1111111111111111,
              "#46039f"
             ],
             [
              0.2222222222222222,
              "#7201a8"
             ],
             [
              0.3333333333333333,
              "#9c179e"
             ],
             [
              0.4444444444444444,
              "#bd3786"
             ],
             [
              0.5555555555555556,
              "#d8576b"
             ],
             [
              0.6666666666666666,
              "#ed7953"
             ],
             [
              0.7777777777777778,
              "#fb9f3a"
             ],
             [
              0.8888888888888888,
              "#fdca26"
             ],
             [
              1,
              "#f0f921"
             ]
            ],
            "type": "heatmapgl"
           }
          ],
          "histogram": [
           {
            "marker": {
             "colorbar": {
              "outlinewidth": 0,
              "ticks": ""
             }
            },
            "type": "histogram"
           }
          ],
          "histogram2d": [
           {
            "colorbar": {
             "outlinewidth": 0,
             "ticks": ""
            },
            "colorscale": [
             [
              0,
              "#0d0887"
             ],
             [
              0.1111111111111111,
              "#46039f"
             ],
             [
              0.2222222222222222,
              "#7201a8"
             ],
             [
              0.3333333333333333,
              "#9c179e"
             ],
             [
              0.4444444444444444,
              "#bd3786"
             ],
             [
              0.5555555555555556,
              "#d8576b"
             ],
             [
              0.6666666666666666,
              "#ed7953"
             ],
             [
              0.7777777777777778,
              "#fb9f3a"
             ],
             [
              0.8888888888888888,
              "#fdca26"
             ],
             [
              1,
              "#f0f921"
             ]
            ],
            "type": "histogram2d"
           }
          ],
          "histogram2dcontour": [
           {
            "colorbar": {
             "outlinewidth": 0,
             "ticks": ""
            },
            "colorscale": [
             [
              0,
              "#0d0887"
             ],
             [
              0.1111111111111111,
              "#46039f"
             ],
             [
              0.2222222222222222,
              "#7201a8"
             ],
             [
              0.3333333333333333,
              "#9c179e"
             ],
             [
              0.4444444444444444,
              "#bd3786"
             ],
             [
              0.5555555555555556,
              "#d8576b"
             ],
             [
              0.6666666666666666,
              "#ed7953"
             ],
             [
              0.7777777777777778,
              "#fb9f3a"
             ],
             [
              0.8888888888888888,
              "#fdca26"
             ],
             [
              1,
              "#f0f921"
             ]
            ],
            "type": "histogram2dcontour"
           }
          ],
          "mesh3d": [
           {
            "colorbar": {
             "outlinewidth": 0,
             "ticks": ""
            },
            "type": "mesh3d"
           }
          ],
          "parcoords": [
           {
            "line": {
             "colorbar": {
              "outlinewidth": 0,
              "ticks": ""
             }
            },
            "type": "parcoords"
           }
          ],
          "pie": [
           {
            "automargin": true,
            "type": "pie"
           }
          ],
          "scatter": [
           {
            "marker": {
             "colorbar": {
              "outlinewidth": 0,
              "ticks": ""
             }
            },
            "type": "scatter"
           }
          ],
          "scatter3d": [
           {
            "line": {
             "colorbar": {
              "outlinewidth": 0,
              "ticks": ""
             }
            },
            "marker": {
             "colorbar": {
              "outlinewidth": 0,
              "ticks": ""
             }
            },
            "type": "scatter3d"
           }
          ],
          "scattercarpet": [
           {
            "marker": {
             "colorbar": {
              "outlinewidth": 0,
              "ticks": ""
             }
            },
            "type": "scattercarpet"
           }
          ],
          "scattergeo": [
           {
            "marker": {
             "colorbar": {
              "outlinewidth": 0,
              "ticks": ""
             }
            },
            "type": "scattergeo"
           }
          ],
          "scattergl": [
           {
            "marker": {
             "colorbar": {
              "outlinewidth": 0,
              "ticks": ""
             }
            },
            "type": "scattergl"
           }
          ],
          "scattermapbox": [
           {
            "marker": {
             "colorbar": {
              "outlinewidth": 0,
              "ticks": ""
             }
            },
            "type": "scattermapbox"
           }
          ],
          "scatterpolar": [
           {
            "marker": {
             "colorbar": {
              "outlinewidth": 0,
              "ticks": ""
             }
            },
            "type": "scatterpolar"
           }
          ],
          "scatterpolargl": [
           {
            "marker": {
             "colorbar": {
              "outlinewidth": 0,
              "ticks": ""
             }
            },
            "type": "scatterpolargl"
           }
          ],
          "scatterternary": [
           {
            "marker": {
             "colorbar": {
              "outlinewidth": 0,
              "ticks": ""
             }
            },
            "type": "scatterternary"
           }
          ],
          "surface": [
           {
            "colorbar": {
             "outlinewidth": 0,
             "ticks": ""
            },
            "colorscale": [
             [
              0,
              "#0d0887"
             ],
             [
              0.1111111111111111,
              "#46039f"
             ],
             [
              0.2222222222222222,
              "#7201a8"
             ],
             [
              0.3333333333333333,
              "#9c179e"
             ],
             [
              0.4444444444444444,
              "#bd3786"
             ],
             [
              0.5555555555555556,
              "#d8576b"
             ],
             [
              0.6666666666666666,
              "#ed7953"
             ],
             [
              0.7777777777777778,
              "#fb9f3a"
             ],
             [
              0.8888888888888888,
              "#fdca26"
             ],
             [
              1,
              "#f0f921"
             ]
            ],
            "type": "surface"
           }
          ],
          "table": [
           {
            "cells": {
             "fill": {
              "color": "#EBF0F8"
             },
             "line": {
              "color": "white"
             }
            },
            "header": {
             "fill": {
              "color": "#C8D4E3"
             },
             "line": {
              "color": "white"
             }
            },
            "type": "table"
           }
          ]
         },
         "layout": {
          "annotationdefaults": {
           "arrowcolor": "#2a3f5f",
           "arrowhead": 0,
           "arrowwidth": 1
          },
          "coloraxis": {
           "colorbar": {
            "outlinewidth": 0,
            "ticks": ""
           }
          },
          "colorscale": {
           "diverging": [
            [
             0,
             "#8e0152"
            ],
            [
             0.1,
             "#c51b7d"
            ],
            [
             0.2,
             "#de77ae"
            ],
            [
             0.3,
             "#f1b6da"
            ],
            [
             0.4,
             "#fde0ef"
            ],
            [
             0.5,
             "#f7f7f7"
            ],
            [
             0.6,
             "#e6f5d0"
            ],
            [
             0.7,
             "#b8e186"
            ],
            [
             0.8,
             "#7fbc41"
            ],
            [
             0.9,
             "#4d9221"
            ],
            [
             1,
             "#276419"
            ]
           ],
           "sequential": [
            [
             0,
             "#0d0887"
            ],
            [
             0.1111111111111111,
             "#46039f"
            ],
            [
             0.2222222222222222,
             "#7201a8"
            ],
            [
             0.3333333333333333,
             "#9c179e"
            ],
            [
             0.4444444444444444,
             "#bd3786"
            ],
            [
             0.5555555555555556,
             "#d8576b"
            ],
            [
             0.6666666666666666,
             "#ed7953"
            ],
            [
             0.7777777777777778,
             "#fb9f3a"
            ],
            [
             0.8888888888888888,
             "#fdca26"
            ],
            [
             1,
             "#f0f921"
            ]
           ],
           "sequentialminus": [
            [
             0,
             "#0d0887"
            ],
            [
             0.1111111111111111,
             "#46039f"
            ],
            [
             0.2222222222222222,
             "#7201a8"
            ],
            [
             0.3333333333333333,
             "#9c179e"
            ],
            [
             0.4444444444444444,
             "#bd3786"
            ],
            [
             0.5555555555555556,
             "#d8576b"
            ],
            [
             0.6666666666666666,
             "#ed7953"
            ],
            [
             0.7777777777777778,
             "#fb9f3a"
            ],
            [
             0.8888888888888888,
             "#fdca26"
            ],
            [
             1,
             "#f0f921"
            ]
           ]
          },
          "colorway": [
           "#636efa",
           "#EF553B",
           "#00cc96",
           "#ab63fa",
           "#FFA15A",
           "#19d3f3",
           "#FF6692",
           "#B6E880",
           "#FF97FF",
           "#FECB52"
          ],
          "font": {
           "color": "#2a3f5f"
          },
          "geo": {
           "bgcolor": "white",
           "lakecolor": "white",
           "landcolor": "#E5ECF6",
           "showlakes": true,
           "showland": true,
           "subunitcolor": "white"
          },
          "hoverlabel": {
           "align": "left"
          },
          "hovermode": "closest",
          "mapbox": {
           "style": "light"
          },
          "paper_bgcolor": "white",
          "plot_bgcolor": "#E5ECF6",
          "polar": {
           "angularaxis": {
            "gridcolor": "white",
            "linecolor": "white",
            "ticks": ""
           },
           "bgcolor": "#E5ECF6",
           "radialaxis": {
            "gridcolor": "white",
            "linecolor": "white",
            "ticks": ""
           }
          },
          "scene": {
           "xaxis": {
            "backgroundcolor": "#E5ECF6",
            "gridcolor": "white",
            "gridwidth": 2,
            "linecolor": "white",
            "showbackground": true,
            "ticks": "",
            "zerolinecolor": "white"
           },
           "yaxis": {
            "backgroundcolor": "#E5ECF6",
            "gridcolor": "white",
            "gridwidth": 2,
            "linecolor": "white",
            "showbackground": true,
            "ticks": "",
            "zerolinecolor": "white"
           },
           "zaxis": {
            "backgroundcolor": "#E5ECF6",
            "gridcolor": "white",
            "gridwidth": 2,
            "linecolor": "white",
            "showbackground": true,
            "ticks": "",
            "zerolinecolor": "white"
           }
          },
          "shapedefaults": {
           "line": {
            "color": "#2a3f5f"
           }
          },
          "ternary": {
           "aaxis": {
            "gridcolor": "white",
            "linecolor": "white",
            "ticks": ""
           },
           "baxis": {
            "gridcolor": "white",
            "linecolor": "white",
            "ticks": ""
           },
           "bgcolor": "#E5ECF6",
           "caxis": {
            "gridcolor": "white",
            "linecolor": "white",
            "ticks": ""
           }
          },
          "title": {
           "x": 0.05
          },
          "xaxis": {
           "automargin": true,
           "gridcolor": "white",
           "linecolor": "white",
           "ticks": "",
           "title": {
            "standoff": 15
           },
           "zerolinecolor": "white",
           "zerolinewidth": 2
          },
          "yaxis": {
           "automargin": true,
           "gridcolor": "white",
           "linecolor": "white",
           "ticks": "",
           "title": {
            "standoff": 15
           },
           "zerolinecolor": "white",
           "zerolinewidth": 2
          }
         }
        },
        "title": {
         "text": "Partial Dependence of 'TotalFloorArea'"
        },
        "xaxis": {
         "range": [
          49.70402,
          177.48838
         ],
         "title": {
          "text": "TotalFloorArea"
         }
        },
        "yaxis": {
         "range": [
          128047.43671875,
          244599.32890625
         ],
         "title": {
          "text": "Partial Dependence"
         }
        }
       }
      },
      "text/html": [
       "<div>                            <div id=\"834cd22b-18d2-4dc1-ab36-5c7f1c8f8d47\" class=\"plotly-graph-div\" style=\"height:525px; width:100%;\"></div>            <script type=\"text/javascript\">                require([\"plotly\"], function(Plotly) {                    window.PLOTLYENV=window.PLOTLYENV || {};                                    if (document.getElementById(\"834cd22b-18d2-4dc1-ab36-5c7f1c8f8d47\")) {                    Plotly.newPlot(                        \"834cd22b-18d2-4dc1-ab36-5c7f1c8f8d47\",                        [{\"line\": {\"width\": 3}, \"name\": \"Partial Dependence\", \"type\": \"scatter\", \"x\": [55.5124, 56.6858101010101, 57.859220202020204, 59.0326303030303, 60.2060404040404, 61.37945050505051, 62.552860606060605, 63.72627070707071, 64.8996808080808, 66.07309090909091, 67.24650101010101, 68.4199111111111, 69.59332121212121, 70.76673131313132, 71.94014141414141, 73.11355151515151, 74.28696161616162, 75.46037171717171, 76.63378181818182, 77.80719191919192, 78.98060202020201, 80.15401212121212, 81.32742222222222, 82.50083232323232, 83.67424242424242, 84.84765252525253, 86.02106262626262, 87.19447272727272, 88.36788282828283, 89.54129292929292, 90.71470303030303, 91.88811313131313, 93.06152323232322, 94.23493333333333, 95.40834343434344, 96.58175353535353, 97.75516363636363, 98.92857373737374, 100.10198383838383, 101.27539393939394, 102.44880404040404, 103.62221414141413, 104.79562424242424, 105.96903434343434, 107.14244444444444, 108.31585454545454, 109.48926464646465, 110.66267474747474, 111.83608484848484, 113.00949494949495, 114.18290505050504, 115.35631515151516, 116.52972525252525, 117.70313535353534, 118.87654545454546, 120.04995555555556, 121.22336565656566, 122.39677575757575, 123.57018585858586, 124.74359595959596, 125.91700606060606, 127.09041616161616, 128.26382626262625, 129.43723636363637, 130.61064646464646, 131.78405656565656, 132.95746666666668, 134.13087676767677, 135.30428686868686, 136.47769696969698, 137.65110707070707, 138.82451717171716, 139.99792727272728, 141.17133737373737, 142.34474747474746, 143.51815757575758, 144.69156767676768, 145.86497777777777, 147.0383878787879, 148.21179797979798, 149.38520808080807, 150.5586181818182, 151.73202828282828, 152.90543838383837, 154.0788484848485, 155.25225858585858, 156.42566868686868, 157.5990787878788, 158.7724888888889, 159.94589898989898, 161.1193090909091, 162.2927191919192, 163.46612929292928, 164.6395393939394, 165.8129494949495, 166.98635959595958, 168.1597696969697, 169.3331797979798, 170.5065898989899, 171.68], \"y\": [138399.3125, 138597.203125, 138581.46875, 138499.015625, 138525.765625, 133345.25, 134604.546875, 136473.25, 141164.34375, 144128.671875, 143990.53125, 147300.890625, 147079.796875, 147209.296875, 149460.6875, 149860.484375, 147246.046875, 147832.53125, 147714.703125, 146515.328125, 146176.296875, 146347.078125, 147206.875, 152471.921875, 153971.515625, 156552.28125, 161022.359375, 160941.421875, 159542.1875, 159630.46875, 159211.453125, 159119.640625, 160594.078125, 173299.015625, 181243.09375, 180992.671875, 180992.671875, 178943.640625, 176667.703125, 187609.8125, 189956.8125, 190609.171875, 190609.171875, 192466.625, 192092.296875, 188267.5625, 188267.5625, 188861.671875, 188861.671875, 189287.359375, 189287.359375, 190393.640625, 190787.265625, 190787.265625, 190995.390625, 190995.390625, 190995.390625, 191982.703125, 232062.421875, 232062.421875, 232062.421875, 233285.625, 233285.625, 233285.625, 232241.171875, 230957.125, 230957.125, 230957.125, 230957.125, 228961.0625, 228961.0625, 220900.59375, 239301.515625, 236502.359375, 236502.359375, 236502.359375, 236502.359375, 236502.359375, 236502.359375, 236502.359375, 236502.359375, 236640.9375, 236640.9375, 236640.9375, 236218.71875, 236883.78125, 236883.78125, 238338.140625, 238338.140625, 238364.625, 238364.625, 238364.625, 236558.75, 238770.546875, 238770.546875, 237627.640625, 237627.640625, 237627.640625, 237627.640625, 237627.640625]}],                        {\"template\": {\"data\": {\"bar\": [{\"error_x\": {\"color\": \"#2a3f5f\"}, \"error_y\": {\"color\": \"#2a3f5f\"}, \"marker\": {\"line\": {\"color\": \"#E5ECF6\", \"width\": 0.5}}, \"type\": \"bar\"}], \"barpolar\": [{\"marker\": {\"line\": {\"color\": \"#E5ECF6\", \"width\": 0.5}}, \"type\": \"barpolar\"}], \"carpet\": [{\"aaxis\": {\"endlinecolor\": \"#2a3f5f\", \"gridcolor\": \"white\", \"linecolor\": \"white\", \"minorgridcolor\": \"white\", \"startlinecolor\": \"#2a3f5f\"}, \"baxis\": {\"endlinecolor\": \"#2a3f5f\", \"gridcolor\": \"white\", \"linecolor\": \"white\", \"minorgridcolor\": \"white\", \"startlinecolor\": \"#2a3f5f\"}, \"type\": \"carpet\"}], \"choropleth\": [{\"colorbar\": {\"outlinewidth\": 0, \"ticks\": \"\"}, \"type\": \"choropleth\"}], \"contour\": [{\"colorbar\": {\"outlinewidth\": 0, \"ticks\": \"\"}, \"colorscale\": [[0.0, \"#0d0887\"], [0.1111111111111111, \"#46039f\"], [0.2222222222222222, \"#7201a8\"], [0.3333333333333333, \"#9c179e\"], [0.4444444444444444, \"#bd3786\"], [0.5555555555555556, \"#d8576b\"], [0.6666666666666666, \"#ed7953\"], [0.7777777777777778, \"#fb9f3a\"], [0.8888888888888888, \"#fdca26\"], [1.0, \"#f0f921\"]], \"type\": \"contour\"}], \"contourcarpet\": [{\"colorbar\": {\"outlinewidth\": 0, \"ticks\": \"\"}, \"type\": \"contourcarpet\"}], \"heatmap\": [{\"colorbar\": {\"outlinewidth\": 0, \"ticks\": \"\"}, \"colorscale\": [[0.0, \"#0d0887\"], [0.1111111111111111, \"#46039f\"], [0.2222222222222222, \"#7201a8\"], [0.3333333333333333, \"#9c179e\"], [0.4444444444444444, \"#bd3786\"], [0.5555555555555556, \"#d8576b\"], [0.6666666666666666, \"#ed7953\"], [0.7777777777777778, \"#fb9f3a\"], [0.8888888888888888, \"#fdca26\"], [1.0, \"#f0f921\"]], \"type\": \"heatmap\"}], \"heatmapgl\": [{\"colorbar\": {\"outlinewidth\": 0, \"ticks\": \"\"}, \"colorscale\": [[0.0, \"#0d0887\"], [0.1111111111111111, \"#46039f\"], [0.2222222222222222, \"#7201a8\"], [0.3333333333333333, \"#9c179e\"], [0.4444444444444444, \"#bd3786\"], [0.5555555555555556, \"#d8576b\"], [0.6666666666666666, \"#ed7953\"], [0.7777777777777778, \"#fb9f3a\"], [0.8888888888888888, \"#fdca26\"], [1.0, \"#f0f921\"]], \"type\": \"heatmapgl\"}], \"histogram\": [{\"marker\": {\"colorbar\": {\"outlinewidth\": 0, \"ticks\": \"\"}}, \"type\": \"histogram\"}], \"histogram2d\": [{\"colorbar\": {\"outlinewidth\": 0, \"ticks\": \"\"}, \"colorscale\": [[0.0, \"#0d0887\"], [0.1111111111111111, \"#46039f\"], [0.2222222222222222, \"#7201a8\"], [0.3333333333333333, \"#9c179e\"], [0.4444444444444444, \"#bd3786\"], [0.5555555555555556, \"#d8576b\"], [0.6666666666666666, \"#ed7953\"], [0.7777777777777778, \"#fb9f3a\"], [0.8888888888888888, \"#fdca26\"], [1.0, \"#f0f921\"]], \"type\": \"histogram2d\"}], \"histogram2dcontour\": [{\"colorbar\": {\"outlinewidth\": 0, \"ticks\": \"\"}, \"colorscale\": [[0.0, \"#0d0887\"], [0.1111111111111111, \"#46039f\"], [0.2222222222222222, \"#7201a8\"], [0.3333333333333333, \"#9c179e\"], [0.4444444444444444, \"#bd3786\"], [0.5555555555555556, \"#d8576b\"], [0.6666666666666666, \"#ed7953\"], [0.7777777777777778, \"#fb9f3a\"], [0.8888888888888888, \"#fdca26\"], [1.0, \"#f0f921\"]], \"type\": \"histogram2dcontour\"}], \"mesh3d\": [{\"colorbar\": {\"outlinewidth\": 0, \"ticks\": \"\"}, \"type\": \"mesh3d\"}], \"parcoords\": [{\"line\": {\"colorbar\": {\"outlinewidth\": 0, \"ticks\": \"\"}}, \"type\": \"parcoords\"}], \"pie\": [{\"automargin\": true, \"type\": \"pie\"}], \"scatter\": [{\"marker\": {\"colorbar\": {\"outlinewidth\": 0, \"ticks\": \"\"}}, \"type\": \"scatter\"}], \"scatter3d\": [{\"line\": {\"colorbar\": {\"outlinewidth\": 0, \"ticks\": \"\"}}, \"marker\": {\"colorbar\": {\"outlinewidth\": 0, \"ticks\": \"\"}}, \"type\": \"scatter3d\"}], \"scattercarpet\": [{\"marker\": {\"colorbar\": {\"outlinewidth\": 0, \"ticks\": \"\"}}, \"type\": \"scattercarpet\"}], \"scattergeo\": [{\"marker\": {\"colorbar\": {\"outlinewidth\": 0, \"ticks\": \"\"}}, \"type\": \"scattergeo\"}], \"scattergl\": [{\"marker\": {\"colorbar\": {\"outlinewidth\": 0, \"ticks\": \"\"}}, \"type\": \"scattergl\"}], \"scattermapbox\": [{\"marker\": {\"colorbar\": {\"outlinewidth\": 0, \"ticks\": \"\"}}, \"type\": \"scattermapbox\"}], \"scatterpolar\": [{\"marker\": {\"colorbar\": {\"outlinewidth\": 0, \"ticks\": \"\"}}, \"type\": \"scatterpolar\"}], \"scatterpolargl\": [{\"marker\": {\"colorbar\": {\"outlinewidth\": 0, \"ticks\": \"\"}}, \"type\": \"scatterpolargl\"}], \"scatterternary\": [{\"marker\": {\"colorbar\": {\"outlinewidth\": 0, \"ticks\": \"\"}}, \"type\": \"scatterternary\"}], \"surface\": [{\"colorbar\": {\"outlinewidth\": 0, \"ticks\": \"\"}, \"colorscale\": [[0.0, \"#0d0887\"], [0.1111111111111111, \"#46039f\"], [0.2222222222222222, \"#7201a8\"], [0.3333333333333333, \"#9c179e\"], [0.4444444444444444, \"#bd3786\"], [0.5555555555555556, \"#d8576b\"], [0.6666666666666666, \"#ed7953\"], [0.7777777777777778, \"#fb9f3a\"], [0.8888888888888888, \"#fdca26\"], [1.0, \"#f0f921\"]], \"type\": \"surface\"}], \"table\": [{\"cells\": {\"fill\": {\"color\": \"#EBF0F8\"}, \"line\": {\"color\": \"white\"}}, \"header\": {\"fill\": {\"color\": \"#C8D4E3\"}, \"line\": {\"color\": \"white\"}}, \"type\": \"table\"}]}, \"layout\": {\"annotationdefaults\": {\"arrowcolor\": \"#2a3f5f\", \"arrowhead\": 0, \"arrowwidth\": 1}, \"coloraxis\": {\"colorbar\": {\"outlinewidth\": 0, \"ticks\": \"\"}}, \"colorscale\": {\"diverging\": [[0, \"#8e0152\"], [0.1, \"#c51b7d\"], [0.2, \"#de77ae\"], [0.3, \"#f1b6da\"], [0.4, \"#fde0ef\"], [0.5, \"#f7f7f7\"], [0.6, \"#e6f5d0\"], [0.7, \"#b8e186\"], [0.8, \"#7fbc41\"], [0.9, \"#4d9221\"], [1, \"#276419\"]], \"sequential\": [[0.0, \"#0d0887\"], [0.1111111111111111, \"#46039f\"], [0.2222222222222222, \"#7201a8\"], [0.3333333333333333, \"#9c179e\"], [0.4444444444444444, \"#bd3786\"], [0.5555555555555556, \"#d8576b\"], [0.6666666666666666, \"#ed7953\"], [0.7777777777777778, \"#fb9f3a\"], [0.8888888888888888, \"#fdca26\"], [1.0, \"#f0f921\"]], \"sequentialminus\": [[0.0, \"#0d0887\"], [0.1111111111111111, \"#46039f\"], [0.2222222222222222, \"#7201a8\"], [0.3333333333333333, \"#9c179e\"], [0.4444444444444444, \"#bd3786\"], [0.5555555555555556, \"#d8576b\"], [0.6666666666666666, \"#ed7953\"], [0.7777777777777778, \"#fb9f3a\"], [0.8888888888888888, \"#fdca26\"], [1.0, \"#f0f921\"]]}, \"colorway\": [\"#636efa\", \"#EF553B\", \"#00cc96\", \"#ab63fa\", \"#FFA15A\", \"#19d3f3\", \"#FF6692\", \"#B6E880\", \"#FF97FF\", \"#FECB52\"], \"font\": {\"color\": \"#2a3f5f\"}, \"geo\": {\"bgcolor\": \"white\", \"lakecolor\": \"white\", \"landcolor\": \"#E5ECF6\", \"showlakes\": true, \"showland\": true, \"subunitcolor\": \"white\"}, \"hoverlabel\": {\"align\": \"left\"}, \"hovermode\": \"closest\", \"mapbox\": {\"style\": \"light\"}, \"paper_bgcolor\": \"white\", \"plot_bgcolor\": \"#E5ECF6\", \"polar\": {\"angularaxis\": {\"gridcolor\": \"white\", \"linecolor\": \"white\", \"ticks\": \"\"}, \"bgcolor\": \"#E5ECF6\", \"radialaxis\": {\"gridcolor\": \"white\", \"linecolor\": \"white\", \"ticks\": \"\"}}, \"scene\": {\"xaxis\": {\"backgroundcolor\": \"#E5ECF6\", \"gridcolor\": \"white\", \"gridwidth\": 2, \"linecolor\": \"white\", \"showbackground\": true, \"ticks\": \"\", \"zerolinecolor\": \"white\"}, \"yaxis\": {\"backgroundcolor\": \"#E5ECF6\", \"gridcolor\": \"white\", \"gridwidth\": 2, \"linecolor\": \"white\", \"showbackground\": true, \"ticks\": \"\", \"zerolinecolor\": \"white\"}, \"zaxis\": {\"backgroundcolor\": \"#E5ECF6\", \"gridcolor\": \"white\", \"gridwidth\": 2, \"linecolor\": \"white\", \"showbackground\": true, \"ticks\": \"\", \"zerolinecolor\": \"white\"}}, \"shapedefaults\": {\"line\": {\"color\": \"#2a3f5f\"}}, \"ternary\": {\"aaxis\": {\"gridcolor\": \"white\", \"linecolor\": \"white\", \"ticks\": \"\"}, \"baxis\": {\"gridcolor\": \"white\", \"linecolor\": \"white\", \"ticks\": \"\"}, \"bgcolor\": \"#E5ECF6\", \"caxis\": {\"gridcolor\": \"white\", \"linecolor\": \"white\", \"ticks\": \"\"}}, \"title\": {\"x\": 0.05}, \"xaxis\": {\"automargin\": true, \"gridcolor\": \"white\", \"linecolor\": \"white\", \"ticks\": \"\", \"title\": {\"standoff\": 15}, \"zerolinecolor\": \"white\", \"zerolinewidth\": 2}, \"yaxis\": {\"automargin\": true, \"gridcolor\": \"white\", \"linecolor\": \"white\", \"ticks\": \"\", \"title\": {\"standoff\": 15}, \"zerolinecolor\": \"white\", \"zerolinewidth\": 2}}}, \"title\": {\"text\": \"Partial Dependence of 'TotalFloorArea'\"}, \"xaxis\": {\"range\": [49.70402, 177.48838], \"title\": {\"text\": \"TotalFloorArea\"}}, \"yaxis\": {\"range\": [128047.43671875, 244599.32890625], \"title\": {\"text\": \"Partial Dependence\"}}},                        {\"responsive\": true}                    ).then(function(){\n",
       "                            \n",
       "var gd = document.getElementById('834cd22b-18d2-4dc1-ab36-5c7f1c8f8d47');\n",
       "var x = new MutationObserver(function (mutations, observer) {{\n",
       "        var display = window.getComputedStyle(gd).display;\n",
       "        if (!display || display === 'none') {{\n",
       "            console.log([gd, 'removed!']);\n",
       "            Plotly.purge(gd);\n",
       "            observer.disconnect();\n",
       "        }}\n",
       "}});\n",
       "\n",
       "// Listen for the removal of the full notebook cells\n",
       "var notebookContainer = gd.closest('#notebook-container');\n",
       "if (notebookContainer) {{\n",
       "    x.observe(notebookContainer, {childList: true});\n",
       "}}\n",
       "\n",
       "// Listen for the clearing of the current output cell\n",
       "var outputEl = gd.closest('.output');\n",
       "if (outputEl) {{\n",
       "    x.observe(outputEl, {childList: true});\n",
       "}}\n",
       "\n",
       "                        })                };                });            </script>        </div>"
      ]
     },
     "metadata": {},
     "output_type": "display_data"
    }
   ],
   "source": [
    "from evalml.model_understanding.graphs import graph_partial_dependence\n",
    "graph_partial_dependence(price_microservice_pipeline, X_holdout, feature='TotalFloorArea')"
   ]
  },
  {
   "cell_type": "markdown",
   "metadata": {},
   "source": [
    "<img src=\"https://github.com/BlockchainClimateInstitute/microservice_price/tree/develop/reports/figures/pd_hr.png\" height=\"120\" >"
   ]
  },
  {
   "cell_type": "code",
   "execution_count": 85,
   "metadata": {},
   "outputs": [
    {
     "name": "stderr",
     "output_type": "stream",
     "text": [
      "/usr/local/anaconda3/envs/microservice_price_env/lib/python3.7/site-packages/evalml/model_understanding/graphs.py:441: NullsInColumnWarning:\n",
      "\n",
      "There are null values in the features, which will cause NaN values in the partial dependence output. Fill in these values to remove the NaN values.\n",
      "\n"
     ]
    },
    {
     "data": {
      "application/vnd.plotly.v1+json": {
       "config": {
        "plotlyServerURL": "https://plot.ly"
       },
       "data": [
        {
         "line": {
          "width": 3
         },
         "name": "Partial Dependence",
         "type": "scatter",
         "x": [
          1,
          2,
          3,
          4,
          5,
          6,
          7,
          8,
          11,
          null,
          null,
          null,
          null,
          null,
          null,
          null,
          null,
          null,
          null,
          null,
          null,
          null
         ],
         "y": [
          172547.796875,
          172547.796875,
          173272.53125,
          175981.796875,
          176637.6875,
          178386.03125,
          179231.640625,
          172837.234375,
          177014.109375,
          177224.171875,
          177224.171875,
          177224.171875,
          177224.171875,
          177224.171875,
          177224.171875,
          177224.171875,
          177224.171875,
          177224.171875,
          177224.171875,
          177224.171875,
          177224.171875,
          177224.171875
         ]
        }
       ],
       "layout": {
        "template": {
         "data": {
          "bar": [
           {
            "error_x": {
             "color": "#2a3f5f"
            },
            "error_y": {
             "color": "#2a3f5f"
            },
            "marker": {
             "line": {
              "color": "#E5ECF6",
              "width": 0.5
             }
            },
            "type": "bar"
           }
          ],
          "barpolar": [
           {
            "marker": {
             "line": {
              "color": "#E5ECF6",
              "width": 0.5
             }
            },
            "type": "barpolar"
           }
          ],
          "carpet": [
           {
            "aaxis": {
             "endlinecolor": "#2a3f5f",
             "gridcolor": "white",
             "linecolor": "white",
             "minorgridcolor": "white",
             "startlinecolor": "#2a3f5f"
            },
            "baxis": {
             "endlinecolor": "#2a3f5f",
             "gridcolor": "white",
             "linecolor": "white",
             "minorgridcolor": "white",
             "startlinecolor": "#2a3f5f"
            },
            "type": "carpet"
           }
          ],
          "choropleth": [
           {
            "colorbar": {
             "outlinewidth": 0,
             "ticks": ""
            },
            "type": "choropleth"
           }
          ],
          "contour": [
           {
            "colorbar": {
             "outlinewidth": 0,
             "ticks": ""
            },
            "colorscale": [
             [
              0,
              "#0d0887"
             ],
             [
              0.1111111111111111,
              "#46039f"
             ],
             [
              0.2222222222222222,
              "#7201a8"
             ],
             [
              0.3333333333333333,
              "#9c179e"
             ],
             [
              0.4444444444444444,
              "#bd3786"
             ],
             [
              0.5555555555555556,
              "#d8576b"
             ],
             [
              0.6666666666666666,
              "#ed7953"
             ],
             [
              0.7777777777777778,
              "#fb9f3a"
             ],
             [
              0.8888888888888888,
              "#fdca26"
             ],
             [
              1,
              "#f0f921"
             ]
            ],
            "type": "contour"
           }
          ],
          "contourcarpet": [
           {
            "colorbar": {
             "outlinewidth": 0,
             "ticks": ""
            },
            "type": "contourcarpet"
           }
          ],
          "heatmap": [
           {
            "colorbar": {
             "outlinewidth": 0,
             "ticks": ""
            },
            "colorscale": [
             [
              0,
              "#0d0887"
             ],
             [
              0.1111111111111111,
              "#46039f"
             ],
             [
              0.2222222222222222,
              "#7201a8"
             ],
             [
              0.3333333333333333,
              "#9c179e"
             ],
             [
              0.4444444444444444,
              "#bd3786"
             ],
             [
              0.5555555555555556,
              "#d8576b"
             ],
             [
              0.6666666666666666,
              "#ed7953"
             ],
             [
              0.7777777777777778,
              "#fb9f3a"
             ],
             [
              0.8888888888888888,
              "#fdca26"
             ],
             [
              1,
              "#f0f921"
             ]
            ],
            "type": "heatmap"
           }
          ],
          "heatmapgl": [
           {
            "colorbar": {
             "outlinewidth": 0,
             "ticks": ""
            },
            "colorscale": [
             [
              0,
              "#0d0887"
             ],
             [
              0.1111111111111111,
              "#46039f"
             ],
             [
              0.2222222222222222,
              "#7201a8"
             ],
             [
              0.3333333333333333,
              "#9c179e"
             ],
             [
              0.4444444444444444,
              "#bd3786"
             ],
             [
              0.5555555555555556,
              "#d8576b"
             ],
             [
              0.6666666666666666,
              "#ed7953"
             ],
             [
              0.7777777777777778,
              "#fb9f3a"
             ],
             [
              0.8888888888888888,
              "#fdca26"
             ],
             [
              1,
              "#f0f921"
             ]
            ],
            "type": "heatmapgl"
           }
          ],
          "histogram": [
           {
            "marker": {
             "colorbar": {
              "outlinewidth": 0,
              "ticks": ""
             }
            },
            "type": "histogram"
           }
          ],
          "histogram2d": [
           {
            "colorbar": {
             "outlinewidth": 0,
             "ticks": ""
            },
            "colorscale": [
             [
              0,
              "#0d0887"
             ],
             [
              0.1111111111111111,
              "#46039f"
             ],
             [
              0.2222222222222222,
              "#7201a8"
             ],
             [
              0.3333333333333333,
              "#9c179e"
             ],
             [
              0.4444444444444444,
              "#bd3786"
             ],
             [
              0.5555555555555556,
              "#d8576b"
             ],
             [
              0.6666666666666666,
              "#ed7953"
             ],
             [
              0.7777777777777778,
              "#fb9f3a"
             ],
             [
              0.8888888888888888,
              "#fdca26"
             ],
             [
              1,
              "#f0f921"
             ]
            ],
            "type": "histogram2d"
           }
          ],
          "histogram2dcontour": [
           {
            "colorbar": {
             "outlinewidth": 0,
             "ticks": ""
            },
            "colorscale": [
             [
              0,
              "#0d0887"
             ],
             [
              0.1111111111111111,
              "#46039f"
             ],
             [
              0.2222222222222222,
              "#7201a8"
             ],
             [
              0.3333333333333333,
              "#9c179e"
             ],
             [
              0.4444444444444444,
              "#bd3786"
             ],
             [
              0.5555555555555556,
              "#d8576b"
             ],
             [
              0.6666666666666666,
              "#ed7953"
             ],
             [
              0.7777777777777778,
              "#fb9f3a"
             ],
             [
              0.8888888888888888,
              "#fdca26"
             ],
             [
              1,
              "#f0f921"
             ]
            ],
            "type": "histogram2dcontour"
           }
          ],
          "mesh3d": [
           {
            "colorbar": {
             "outlinewidth": 0,
             "ticks": ""
            },
            "type": "mesh3d"
           }
          ],
          "parcoords": [
           {
            "line": {
             "colorbar": {
              "outlinewidth": 0,
              "ticks": ""
             }
            },
            "type": "parcoords"
           }
          ],
          "pie": [
           {
            "automargin": true,
            "type": "pie"
           }
          ],
          "scatter": [
           {
            "marker": {
             "colorbar": {
              "outlinewidth": 0,
              "ticks": ""
             }
            },
            "type": "scatter"
           }
          ],
          "scatter3d": [
           {
            "line": {
             "colorbar": {
              "outlinewidth": 0,
              "ticks": ""
             }
            },
            "marker": {
             "colorbar": {
              "outlinewidth": 0,
              "ticks": ""
             }
            },
            "type": "scatter3d"
           }
          ],
          "scattercarpet": [
           {
            "marker": {
             "colorbar": {
              "outlinewidth": 0,
              "ticks": ""
             }
            },
            "type": "scattercarpet"
           }
          ],
          "scattergeo": [
           {
            "marker": {
             "colorbar": {
              "outlinewidth": 0,
              "ticks": ""
             }
            },
            "type": "scattergeo"
           }
          ],
          "scattergl": [
           {
            "marker": {
             "colorbar": {
              "outlinewidth": 0,
              "ticks": ""
             }
            },
            "type": "scattergl"
           }
          ],
          "scattermapbox": [
           {
            "marker": {
             "colorbar": {
              "outlinewidth": 0,
              "ticks": ""
             }
            },
            "type": "scattermapbox"
           }
          ],
          "scatterpolar": [
           {
            "marker": {
             "colorbar": {
              "outlinewidth": 0,
              "ticks": ""
             }
            },
            "type": "scatterpolar"
           }
          ],
          "scatterpolargl": [
           {
            "marker": {
             "colorbar": {
              "outlinewidth": 0,
              "ticks": ""
             }
            },
            "type": "scatterpolargl"
           }
          ],
          "scatterternary": [
           {
            "marker": {
             "colorbar": {
              "outlinewidth": 0,
              "ticks": ""
             }
            },
            "type": "scatterternary"
           }
          ],
          "surface": [
           {
            "colorbar": {
             "outlinewidth": 0,
             "ticks": ""
            },
            "colorscale": [
             [
              0,
              "#0d0887"
             ],
             [
              0.1111111111111111,
              "#46039f"
             ],
             [
              0.2222222222222222,
              "#7201a8"
             ],
             [
              0.3333333333333333,
              "#9c179e"
             ],
             [
              0.4444444444444444,
              "#bd3786"
             ],
             [
              0.5555555555555556,
              "#d8576b"
             ],
             [
              0.6666666666666666,
              "#ed7953"
             ],
             [
              0.7777777777777778,
              "#fb9f3a"
             ],
             [
              0.8888888888888888,
              "#fdca26"
             ],
             [
              1,
              "#f0f921"
             ]
            ],
            "type": "surface"
           }
          ],
          "table": [
           {
            "cells": {
             "fill": {
              "color": "#EBF0F8"
             },
             "line": {
              "color": "white"
             }
            },
            "header": {
             "fill": {
              "color": "#C8D4E3"
             },
             "line": {
              "color": "white"
             }
            },
            "type": "table"
           }
          ]
         },
         "layout": {
          "annotationdefaults": {
           "arrowcolor": "#2a3f5f",
           "arrowhead": 0,
           "arrowwidth": 1
          },
          "coloraxis": {
           "colorbar": {
            "outlinewidth": 0,
            "ticks": ""
           }
          },
          "colorscale": {
           "diverging": [
            [
             0,
             "#8e0152"
            ],
            [
             0.1,
             "#c51b7d"
            ],
            [
             0.2,
             "#de77ae"
            ],
            [
             0.3,
             "#f1b6da"
            ],
            [
             0.4,
             "#fde0ef"
            ],
            [
             0.5,
             "#f7f7f7"
            ],
            [
             0.6,
             "#e6f5d0"
            ],
            [
             0.7,
             "#b8e186"
            ],
            [
             0.8,
             "#7fbc41"
            ],
            [
             0.9,
             "#4d9221"
            ],
            [
             1,
             "#276419"
            ]
           ],
           "sequential": [
            [
             0,
             "#0d0887"
            ],
            [
             0.1111111111111111,
             "#46039f"
            ],
            [
             0.2222222222222222,
             "#7201a8"
            ],
            [
             0.3333333333333333,
             "#9c179e"
            ],
            [
             0.4444444444444444,
             "#bd3786"
            ],
            [
             0.5555555555555556,
             "#d8576b"
            ],
            [
             0.6666666666666666,
             "#ed7953"
            ],
            [
             0.7777777777777778,
             "#fb9f3a"
            ],
            [
             0.8888888888888888,
             "#fdca26"
            ],
            [
             1,
             "#f0f921"
            ]
           ],
           "sequentialminus": [
            [
             0,
             "#0d0887"
            ],
            [
             0.1111111111111111,
             "#46039f"
            ],
            [
             0.2222222222222222,
             "#7201a8"
            ],
            [
             0.3333333333333333,
             "#9c179e"
            ],
            [
             0.4444444444444444,
             "#bd3786"
            ],
            [
             0.5555555555555556,
             "#d8576b"
            ],
            [
             0.6666666666666666,
             "#ed7953"
            ],
            [
             0.7777777777777778,
             "#fb9f3a"
            ],
            [
             0.8888888888888888,
             "#fdca26"
            ],
            [
             1,
             "#f0f921"
            ]
           ]
          },
          "colorway": [
           "#636efa",
           "#EF553B",
           "#00cc96",
           "#ab63fa",
           "#FFA15A",
           "#19d3f3",
           "#FF6692",
           "#B6E880",
           "#FF97FF",
           "#FECB52"
          ],
          "font": {
           "color": "#2a3f5f"
          },
          "geo": {
           "bgcolor": "white",
           "lakecolor": "white",
           "landcolor": "#E5ECF6",
           "showlakes": true,
           "showland": true,
           "subunitcolor": "white"
          },
          "hoverlabel": {
           "align": "left"
          },
          "hovermode": "closest",
          "mapbox": {
           "style": "light"
          },
          "paper_bgcolor": "white",
          "plot_bgcolor": "#E5ECF6",
          "polar": {
           "angularaxis": {
            "gridcolor": "white",
            "linecolor": "white",
            "ticks": ""
           },
           "bgcolor": "#E5ECF6",
           "radialaxis": {
            "gridcolor": "white",
            "linecolor": "white",
            "ticks": ""
           }
          },
          "scene": {
           "xaxis": {
            "backgroundcolor": "#E5ECF6",
            "gridcolor": "white",
            "gridwidth": 2,
            "linecolor": "white",
            "showbackground": true,
            "ticks": "",
            "zerolinecolor": "white"
           },
           "yaxis": {
            "backgroundcolor": "#E5ECF6",
            "gridcolor": "white",
            "gridwidth": 2,
            "linecolor": "white",
            "showbackground": true,
            "ticks": "",
            "zerolinecolor": "white"
           },
           "zaxis": {
            "backgroundcolor": "#E5ECF6",
            "gridcolor": "white",
            "gridwidth": 2,
            "linecolor": "white",
            "showbackground": true,
            "ticks": "",
            "zerolinecolor": "white"
           }
          },
          "shapedefaults": {
           "line": {
            "color": "#2a3f5f"
           }
          },
          "ternary": {
           "aaxis": {
            "gridcolor": "white",
            "linecolor": "white",
            "ticks": ""
           },
           "baxis": {
            "gridcolor": "white",
            "linecolor": "white",
            "ticks": ""
           },
           "bgcolor": "#E5ECF6",
           "caxis": {
            "gridcolor": "white",
            "linecolor": "white",
            "ticks": ""
           }
          },
          "title": {
           "x": 0.05
          },
          "xaxis": {
           "automargin": true,
           "gridcolor": "white",
           "linecolor": "white",
           "ticks": "",
           "title": {
            "standoff": 15
           },
           "zerolinecolor": "white",
           "zerolinewidth": 2
          },
          "yaxis": {
           "automargin": true,
           "gridcolor": "white",
           "linecolor": "white",
           "ticks": "",
           "title": {
            "standoff": 15
           },
           "zerolinecolor": "white",
           "zerolinewidth": 2
          }
         }
        },
        "title": {
         "text": "Partial Dependence of 'HabitableRooms'"
        },
        "xaxis": {
         "range": [
          0.5,
          11.5
         ],
         "title": {
          "text": "HabitableRooms"
         }
        },
        "yaxis": {
         "range": [
          172213.6046875,
          179565.8328125
         ],
         "title": {
          "text": "Partial Dependence"
         }
        }
       }
      },
      "text/html": [
       "<div>                            <div id=\"147a4a73-0cbe-40f1-b524-fee64c778a0e\" class=\"plotly-graph-div\" style=\"height:525px; width:100%;\"></div>            <script type=\"text/javascript\">                require([\"plotly\"], function(Plotly) {                    window.PLOTLYENV=window.PLOTLYENV || {};                                    if (document.getElementById(\"147a4a73-0cbe-40f1-b524-fee64c778a0e\")) {                    Plotly.newPlot(                        \"147a4a73-0cbe-40f1-b524-fee64c778a0e\",                        [{\"line\": {\"width\": 3}, \"name\": \"Partial Dependence\", \"type\": \"scatter\", \"x\": [1.0, 2.0, 3.0, 4.0, 5.0, 6.0, 7.0, 8.0, 11.0, null, null, null, null, null, null, null, null, null, null, null, null, null], \"y\": [172547.796875, 172547.796875, 173272.53125, 175981.796875, 176637.6875, 178386.03125, 179231.640625, 172837.234375, 177014.109375, 177224.171875, 177224.171875, 177224.171875, 177224.171875, 177224.171875, 177224.171875, 177224.171875, 177224.171875, 177224.171875, 177224.171875, 177224.171875, 177224.171875, 177224.171875]}],                        {\"template\": {\"data\": {\"bar\": [{\"error_x\": {\"color\": \"#2a3f5f\"}, \"error_y\": {\"color\": \"#2a3f5f\"}, \"marker\": {\"line\": {\"color\": \"#E5ECF6\", \"width\": 0.5}}, \"type\": \"bar\"}], \"barpolar\": [{\"marker\": {\"line\": {\"color\": \"#E5ECF6\", \"width\": 0.5}}, \"type\": \"barpolar\"}], \"carpet\": [{\"aaxis\": {\"endlinecolor\": \"#2a3f5f\", \"gridcolor\": \"white\", \"linecolor\": \"white\", \"minorgridcolor\": \"white\", \"startlinecolor\": \"#2a3f5f\"}, \"baxis\": {\"endlinecolor\": \"#2a3f5f\", \"gridcolor\": \"white\", \"linecolor\": \"white\", \"minorgridcolor\": \"white\", \"startlinecolor\": \"#2a3f5f\"}, \"type\": \"carpet\"}], \"choropleth\": [{\"colorbar\": {\"outlinewidth\": 0, \"ticks\": \"\"}, \"type\": \"choropleth\"}], \"contour\": [{\"colorbar\": {\"outlinewidth\": 0, \"ticks\": \"\"}, \"colorscale\": [[0.0, \"#0d0887\"], [0.1111111111111111, \"#46039f\"], [0.2222222222222222, \"#7201a8\"], [0.3333333333333333, \"#9c179e\"], [0.4444444444444444, \"#bd3786\"], [0.5555555555555556, \"#d8576b\"], [0.6666666666666666, \"#ed7953\"], [0.7777777777777778, \"#fb9f3a\"], [0.8888888888888888, \"#fdca26\"], [1.0, \"#f0f921\"]], \"type\": \"contour\"}], \"contourcarpet\": [{\"colorbar\": {\"outlinewidth\": 0, \"ticks\": \"\"}, \"type\": \"contourcarpet\"}], \"heatmap\": [{\"colorbar\": {\"outlinewidth\": 0, \"ticks\": \"\"}, \"colorscale\": [[0.0, \"#0d0887\"], [0.1111111111111111, \"#46039f\"], [0.2222222222222222, \"#7201a8\"], [0.3333333333333333, \"#9c179e\"], [0.4444444444444444, \"#bd3786\"], [0.5555555555555556, \"#d8576b\"], [0.6666666666666666, \"#ed7953\"], [0.7777777777777778, \"#fb9f3a\"], [0.8888888888888888, \"#fdca26\"], [1.0, \"#f0f921\"]], \"type\": \"heatmap\"}], \"heatmapgl\": [{\"colorbar\": {\"outlinewidth\": 0, \"ticks\": \"\"}, \"colorscale\": [[0.0, \"#0d0887\"], [0.1111111111111111, \"#46039f\"], [0.2222222222222222, \"#7201a8\"], [0.3333333333333333, \"#9c179e\"], [0.4444444444444444, \"#bd3786\"], [0.5555555555555556, \"#d8576b\"], [0.6666666666666666, \"#ed7953\"], [0.7777777777777778, \"#fb9f3a\"], [0.8888888888888888, \"#fdca26\"], [1.0, \"#f0f921\"]], \"type\": \"heatmapgl\"}], \"histogram\": [{\"marker\": {\"colorbar\": {\"outlinewidth\": 0, \"ticks\": \"\"}}, \"type\": \"histogram\"}], \"histogram2d\": [{\"colorbar\": {\"outlinewidth\": 0, \"ticks\": \"\"}, \"colorscale\": [[0.0, \"#0d0887\"], [0.1111111111111111, \"#46039f\"], [0.2222222222222222, \"#7201a8\"], [0.3333333333333333, \"#9c179e\"], [0.4444444444444444, \"#bd3786\"], [0.5555555555555556, \"#d8576b\"], [0.6666666666666666, \"#ed7953\"], [0.7777777777777778, \"#fb9f3a\"], [0.8888888888888888, \"#fdca26\"], [1.0, \"#f0f921\"]], \"type\": \"histogram2d\"}], \"histogram2dcontour\": [{\"colorbar\": {\"outlinewidth\": 0, \"ticks\": \"\"}, \"colorscale\": [[0.0, \"#0d0887\"], [0.1111111111111111, \"#46039f\"], [0.2222222222222222, \"#7201a8\"], [0.3333333333333333, \"#9c179e\"], [0.4444444444444444, \"#bd3786\"], [0.5555555555555556, \"#d8576b\"], [0.6666666666666666, \"#ed7953\"], [0.7777777777777778, \"#fb9f3a\"], [0.8888888888888888, \"#fdca26\"], [1.0, \"#f0f921\"]], \"type\": \"histogram2dcontour\"}], \"mesh3d\": [{\"colorbar\": {\"outlinewidth\": 0, \"ticks\": \"\"}, \"type\": \"mesh3d\"}], \"parcoords\": [{\"line\": {\"colorbar\": {\"outlinewidth\": 0, \"ticks\": \"\"}}, \"type\": \"parcoords\"}], \"pie\": [{\"automargin\": true, \"type\": \"pie\"}], \"scatter\": [{\"marker\": {\"colorbar\": {\"outlinewidth\": 0, \"ticks\": \"\"}}, \"type\": \"scatter\"}], \"scatter3d\": [{\"line\": {\"colorbar\": {\"outlinewidth\": 0, \"ticks\": \"\"}}, \"marker\": {\"colorbar\": {\"outlinewidth\": 0, \"ticks\": \"\"}}, \"type\": \"scatter3d\"}], \"scattercarpet\": [{\"marker\": {\"colorbar\": {\"outlinewidth\": 0, \"ticks\": \"\"}}, \"type\": \"scattercarpet\"}], \"scattergeo\": [{\"marker\": {\"colorbar\": {\"outlinewidth\": 0, \"ticks\": \"\"}}, \"type\": \"scattergeo\"}], \"scattergl\": [{\"marker\": {\"colorbar\": {\"outlinewidth\": 0, \"ticks\": \"\"}}, \"type\": \"scattergl\"}], \"scattermapbox\": [{\"marker\": {\"colorbar\": {\"outlinewidth\": 0, \"ticks\": \"\"}}, \"type\": \"scattermapbox\"}], \"scatterpolar\": [{\"marker\": {\"colorbar\": {\"outlinewidth\": 0, \"ticks\": \"\"}}, \"type\": \"scatterpolar\"}], \"scatterpolargl\": [{\"marker\": {\"colorbar\": {\"outlinewidth\": 0, \"ticks\": \"\"}}, \"type\": \"scatterpolargl\"}], \"scatterternary\": [{\"marker\": {\"colorbar\": {\"outlinewidth\": 0, \"ticks\": \"\"}}, \"type\": \"scatterternary\"}], \"surface\": [{\"colorbar\": {\"outlinewidth\": 0, \"ticks\": \"\"}, \"colorscale\": [[0.0, \"#0d0887\"], [0.1111111111111111, \"#46039f\"], [0.2222222222222222, \"#7201a8\"], [0.3333333333333333, \"#9c179e\"], [0.4444444444444444, \"#bd3786\"], [0.5555555555555556, \"#d8576b\"], [0.6666666666666666, \"#ed7953\"], [0.7777777777777778, \"#fb9f3a\"], [0.8888888888888888, \"#fdca26\"], [1.0, \"#f0f921\"]], \"type\": \"surface\"}], \"table\": [{\"cells\": {\"fill\": {\"color\": \"#EBF0F8\"}, \"line\": {\"color\": \"white\"}}, \"header\": {\"fill\": {\"color\": \"#C8D4E3\"}, \"line\": {\"color\": \"white\"}}, \"type\": \"table\"}]}, \"layout\": {\"annotationdefaults\": {\"arrowcolor\": \"#2a3f5f\", \"arrowhead\": 0, \"arrowwidth\": 1}, \"coloraxis\": {\"colorbar\": {\"outlinewidth\": 0, \"ticks\": \"\"}}, \"colorscale\": {\"diverging\": [[0, \"#8e0152\"], [0.1, \"#c51b7d\"], [0.2, \"#de77ae\"], [0.3, \"#f1b6da\"], [0.4, \"#fde0ef\"], [0.5, \"#f7f7f7\"], [0.6, \"#e6f5d0\"], [0.7, \"#b8e186\"], [0.8, \"#7fbc41\"], [0.9, \"#4d9221\"], [1, \"#276419\"]], \"sequential\": [[0.0, \"#0d0887\"], [0.1111111111111111, \"#46039f\"], [0.2222222222222222, \"#7201a8\"], [0.3333333333333333, \"#9c179e\"], [0.4444444444444444, \"#bd3786\"], [0.5555555555555556, \"#d8576b\"], [0.6666666666666666, \"#ed7953\"], [0.7777777777777778, \"#fb9f3a\"], [0.8888888888888888, \"#fdca26\"], [1.0, \"#f0f921\"]], \"sequentialminus\": [[0.0, \"#0d0887\"], [0.1111111111111111, \"#46039f\"], [0.2222222222222222, \"#7201a8\"], [0.3333333333333333, \"#9c179e\"], [0.4444444444444444, \"#bd3786\"], [0.5555555555555556, \"#d8576b\"], [0.6666666666666666, \"#ed7953\"], [0.7777777777777778, \"#fb9f3a\"], [0.8888888888888888, \"#fdca26\"], [1.0, \"#f0f921\"]]}, \"colorway\": [\"#636efa\", \"#EF553B\", \"#00cc96\", \"#ab63fa\", \"#FFA15A\", \"#19d3f3\", \"#FF6692\", \"#B6E880\", \"#FF97FF\", \"#FECB52\"], \"font\": {\"color\": \"#2a3f5f\"}, \"geo\": {\"bgcolor\": \"white\", \"lakecolor\": \"white\", \"landcolor\": \"#E5ECF6\", \"showlakes\": true, \"showland\": true, \"subunitcolor\": \"white\"}, \"hoverlabel\": {\"align\": \"left\"}, \"hovermode\": \"closest\", \"mapbox\": {\"style\": \"light\"}, \"paper_bgcolor\": \"white\", \"plot_bgcolor\": \"#E5ECF6\", \"polar\": {\"angularaxis\": {\"gridcolor\": \"white\", \"linecolor\": \"white\", \"ticks\": \"\"}, \"bgcolor\": \"#E5ECF6\", \"radialaxis\": {\"gridcolor\": \"white\", \"linecolor\": \"white\", \"ticks\": \"\"}}, \"scene\": {\"xaxis\": {\"backgroundcolor\": \"#E5ECF6\", \"gridcolor\": \"white\", \"gridwidth\": 2, \"linecolor\": \"white\", \"showbackground\": true, \"ticks\": \"\", \"zerolinecolor\": \"white\"}, \"yaxis\": {\"backgroundcolor\": \"#E5ECF6\", \"gridcolor\": \"white\", \"gridwidth\": 2, \"linecolor\": \"white\", \"showbackground\": true, \"ticks\": \"\", \"zerolinecolor\": \"white\"}, \"zaxis\": {\"backgroundcolor\": \"#E5ECF6\", \"gridcolor\": \"white\", \"gridwidth\": 2, \"linecolor\": \"white\", \"showbackground\": true, \"ticks\": \"\", \"zerolinecolor\": \"white\"}}, \"shapedefaults\": {\"line\": {\"color\": \"#2a3f5f\"}}, \"ternary\": {\"aaxis\": {\"gridcolor\": \"white\", \"linecolor\": \"white\", \"ticks\": \"\"}, \"baxis\": {\"gridcolor\": \"white\", \"linecolor\": \"white\", \"ticks\": \"\"}, \"bgcolor\": \"#E5ECF6\", \"caxis\": {\"gridcolor\": \"white\", \"linecolor\": \"white\", \"ticks\": \"\"}}, \"title\": {\"x\": 0.05}, \"xaxis\": {\"automargin\": true, \"gridcolor\": \"white\", \"linecolor\": \"white\", \"ticks\": \"\", \"title\": {\"standoff\": 15}, \"zerolinecolor\": \"white\", \"zerolinewidth\": 2}, \"yaxis\": {\"automargin\": true, \"gridcolor\": \"white\", \"linecolor\": \"white\", \"ticks\": \"\", \"title\": {\"standoff\": 15}, \"zerolinecolor\": \"white\", \"zerolinewidth\": 2}}}, \"title\": {\"text\": \"Partial Dependence of 'HabitableRooms'\"}, \"xaxis\": {\"range\": [0.5, 11.5], \"title\": {\"text\": \"HabitableRooms\"}}, \"yaxis\": {\"range\": [172213.6046875, 179565.8328125], \"title\": {\"text\": \"Partial Dependence\"}}},                        {\"responsive\": true}                    ).then(function(){\n",
       "                            \n",
       "var gd = document.getElementById('147a4a73-0cbe-40f1-b524-fee64c778a0e');\n",
       "var x = new MutationObserver(function (mutations, observer) {{\n",
       "        var display = window.getComputedStyle(gd).display;\n",
       "        if (!display || display === 'none') {{\n",
       "            console.log([gd, 'removed!']);\n",
       "            Plotly.purge(gd);\n",
       "            observer.disconnect();\n",
       "        }}\n",
       "}});\n",
       "\n",
       "// Listen for the removal of the full notebook cells\n",
       "var notebookContainer = gd.closest('#notebook-container');\n",
       "if (notebookContainer) {{\n",
       "    x.observe(notebookContainer, {childList: true});\n",
       "}}\n",
       "\n",
       "// Listen for the clearing of the current output cell\n",
       "var outputEl = gd.closest('.output');\n",
       "if (outputEl) {{\n",
       "    x.observe(outputEl, {childList: true});\n",
       "}}\n",
       "\n",
       "                        })                };                });            </script>        </div>"
      ]
     },
     "metadata": {},
     "output_type": "display_data"
    }
   ],
   "source": [
    "graph_partial_dependence(price_microservice_pipeline, X_holdout, feature='HabitableRooms')"
   ]
  },
  {
   "cell_type": "markdown",
   "metadata": {},
   "source": [
    "<img src=\"reports/figures/pd_ee.png\" height=\"120\" >"
   ]
  },
  {
   "cell_type": "code",
   "execution_count": 87,
   "metadata": {},
   "outputs": [
    {
     "data": {
      "application/vnd.plotly.v1+json": {
       "config": {
        "plotlyServerURL": "https://plot.ly"
       },
       "data": [
        {
         "line": {
          "width": 3
         },
         "name": "Partial Dependence",
         "type": "scatter",
         "x": [
          54,
          62,
          63,
          66,
          68,
          70,
          71,
          72,
          73,
          74,
          75,
          76,
          77,
          78,
          79,
          80,
          81,
          82,
          83,
          84,
          85,
          86,
          87,
          88,
          89,
          90,
          91,
          93,
          94,
          95,
          97,
          99
         ],
         "y": [
          184508.625,
          182567,
          182663.65625,
          176601.3125,
          176826.625,
          179341.65625,
          179280.53125,
          179217.03125,
          179526.234375,
          174557.453125,
          174448.46875,
          174421.265625,
          174658.703125,
          174629.015625,
          174471.3125,
          176189.65625,
          183074.671875,
          181566.8125,
          178701.796875,
          178555.84375,
          175985.71875,
          175582.921875,
          174536.953125,
          171433.265625,
          171294.1875,
          172642.609375,
          172642.609375,
          172642.609375,
          172642.609375,
          171950.40625,
          172495,
          172495
         ]
        }
       ],
       "layout": {
        "template": {
         "data": {
          "bar": [
           {
            "error_x": {
             "color": "#2a3f5f"
            },
            "error_y": {
             "color": "#2a3f5f"
            },
            "marker": {
             "line": {
              "color": "#E5ECF6",
              "width": 0.5
             }
            },
            "type": "bar"
           }
          ],
          "barpolar": [
           {
            "marker": {
             "line": {
              "color": "#E5ECF6",
              "width": 0.5
             }
            },
            "type": "barpolar"
           }
          ],
          "carpet": [
           {
            "aaxis": {
             "endlinecolor": "#2a3f5f",
             "gridcolor": "white",
             "linecolor": "white",
             "minorgridcolor": "white",
             "startlinecolor": "#2a3f5f"
            },
            "baxis": {
             "endlinecolor": "#2a3f5f",
             "gridcolor": "white",
             "linecolor": "white",
             "minorgridcolor": "white",
             "startlinecolor": "#2a3f5f"
            },
            "type": "carpet"
           }
          ],
          "choropleth": [
           {
            "colorbar": {
             "outlinewidth": 0,
             "ticks": ""
            },
            "type": "choropleth"
           }
          ],
          "contour": [
           {
            "colorbar": {
             "outlinewidth": 0,
             "ticks": ""
            },
            "colorscale": [
             [
              0,
              "#0d0887"
             ],
             [
              0.1111111111111111,
              "#46039f"
             ],
             [
              0.2222222222222222,
              "#7201a8"
             ],
             [
              0.3333333333333333,
              "#9c179e"
             ],
             [
              0.4444444444444444,
              "#bd3786"
             ],
             [
              0.5555555555555556,
              "#d8576b"
             ],
             [
              0.6666666666666666,
              "#ed7953"
             ],
             [
              0.7777777777777778,
              "#fb9f3a"
             ],
             [
              0.8888888888888888,
              "#fdca26"
             ],
             [
              1,
              "#f0f921"
             ]
            ],
            "type": "contour"
           }
          ],
          "contourcarpet": [
           {
            "colorbar": {
             "outlinewidth": 0,
             "ticks": ""
            },
            "type": "contourcarpet"
           }
          ],
          "heatmap": [
           {
            "colorbar": {
             "outlinewidth": 0,
             "ticks": ""
            },
            "colorscale": [
             [
              0,
              "#0d0887"
             ],
             [
              0.1111111111111111,
              "#46039f"
             ],
             [
              0.2222222222222222,
              "#7201a8"
             ],
             [
              0.3333333333333333,
              "#9c179e"
             ],
             [
              0.4444444444444444,
              "#bd3786"
             ],
             [
              0.5555555555555556,
              "#d8576b"
             ],
             [
              0.6666666666666666,
              "#ed7953"
             ],
             [
              0.7777777777777778,
              "#fb9f3a"
             ],
             [
              0.8888888888888888,
              "#fdca26"
             ],
             [
              1,
              "#f0f921"
             ]
            ],
            "type": "heatmap"
           }
          ],
          "heatmapgl": [
           {
            "colorbar": {
             "outlinewidth": 0,
             "ticks": ""
            },
            "colorscale": [
             [
              0,
              "#0d0887"
             ],
             [
              0.1111111111111111,
              "#46039f"
             ],
             [
              0.2222222222222222,
              "#7201a8"
             ],
             [
              0.3333333333333333,
              "#9c179e"
             ],
             [
              0.4444444444444444,
              "#bd3786"
             ],
             [
              0.5555555555555556,
              "#d8576b"
             ],
             [
              0.6666666666666666,
              "#ed7953"
             ],
             [
              0.7777777777777778,
              "#fb9f3a"
             ],
             [
              0.8888888888888888,
              "#fdca26"
             ],
             [
              1,
              "#f0f921"
             ]
            ],
            "type": "heatmapgl"
           }
          ],
          "histogram": [
           {
            "marker": {
             "colorbar": {
              "outlinewidth": 0,
              "ticks": ""
             }
            },
            "type": "histogram"
           }
          ],
          "histogram2d": [
           {
            "colorbar": {
             "outlinewidth": 0,
             "ticks": ""
            },
            "colorscale": [
             [
              0,
              "#0d0887"
             ],
             [
              0.1111111111111111,
              "#46039f"
             ],
             [
              0.2222222222222222,
              "#7201a8"
             ],
             [
              0.3333333333333333,
              "#9c179e"
             ],
             [
              0.4444444444444444,
              "#bd3786"
             ],
             [
              0.5555555555555556,
              "#d8576b"
             ],
             [
              0.6666666666666666,
              "#ed7953"
             ],
             [
              0.7777777777777778,
              "#fb9f3a"
             ],
             [
              0.8888888888888888,
              "#fdca26"
             ],
             [
              1,
              "#f0f921"
             ]
            ],
            "type": "histogram2d"
           }
          ],
          "histogram2dcontour": [
           {
            "colorbar": {
             "outlinewidth": 0,
             "ticks": ""
            },
            "colorscale": [
             [
              0,
              "#0d0887"
             ],
             [
              0.1111111111111111,
              "#46039f"
             ],
             [
              0.2222222222222222,
              "#7201a8"
             ],
             [
              0.3333333333333333,
              "#9c179e"
             ],
             [
              0.4444444444444444,
              "#bd3786"
             ],
             [
              0.5555555555555556,
              "#d8576b"
             ],
             [
              0.6666666666666666,
              "#ed7953"
             ],
             [
              0.7777777777777778,
              "#fb9f3a"
             ],
             [
              0.8888888888888888,
              "#fdca26"
             ],
             [
              1,
              "#f0f921"
             ]
            ],
            "type": "histogram2dcontour"
           }
          ],
          "mesh3d": [
           {
            "colorbar": {
             "outlinewidth": 0,
             "ticks": ""
            },
            "type": "mesh3d"
           }
          ],
          "parcoords": [
           {
            "line": {
             "colorbar": {
              "outlinewidth": 0,
              "ticks": ""
             }
            },
            "type": "parcoords"
           }
          ],
          "pie": [
           {
            "automargin": true,
            "type": "pie"
           }
          ],
          "scatter": [
           {
            "marker": {
             "colorbar": {
              "outlinewidth": 0,
              "ticks": ""
             }
            },
            "type": "scatter"
           }
          ],
          "scatter3d": [
           {
            "line": {
             "colorbar": {
              "outlinewidth": 0,
              "ticks": ""
             }
            },
            "marker": {
             "colorbar": {
              "outlinewidth": 0,
              "ticks": ""
             }
            },
            "type": "scatter3d"
           }
          ],
          "scattercarpet": [
           {
            "marker": {
             "colorbar": {
              "outlinewidth": 0,
              "ticks": ""
             }
            },
            "type": "scattercarpet"
           }
          ],
          "scattergeo": [
           {
            "marker": {
             "colorbar": {
              "outlinewidth": 0,
              "ticks": ""
             }
            },
            "type": "scattergeo"
           }
          ],
          "scattergl": [
           {
            "marker": {
             "colorbar": {
              "outlinewidth": 0,
              "ticks": ""
             }
            },
            "type": "scattergl"
           }
          ],
          "scattermapbox": [
           {
            "marker": {
             "colorbar": {
              "outlinewidth": 0,
              "ticks": ""
             }
            },
            "type": "scattermapbox"
           }
          ],
          "scatterpolar": [
           {
            "marker": {
             "colorbar": {
              "outlinewidth": 0,
              "ticks": ""
             }
            },
            "type": "scatterpolar"
           }
          ],
          "scatterpolargl": [
           {
            "marker": {
             "colorbar": {
              "outlinewidth": 0,
              "ticks": ""
             }
            },
            "type": "scatterpolargl"
           }
          ],
          "scatterternary": [
           {
            "marker": {
             "colorbar": {
              "outlinewidth": 0,
              "ticks": ""
             }
            },
            "type": "scatterternary"
           }
          ],
          "surface": [
           {
            "colorbar": {
             "outlinewidth": 0,
             "ticks": ""
            },
            "colorscale": [
             [
              0,
              "#0d0887"
             ],
             [
              0.1111111111111111,
              "#46039f"
             ],
             [
              0.2222222222222222,
              "#7201a8"
             ],
             [
              0.3333333333333333,
              "#9c179e"
             ],
             [
              0.4444444444444444,
              "#bd3786"
             ],
             [
              0.5555555555555556,
              "#d8576b"
             ],
             [
              0.6666666666666666,
              "#ed7953"
             ],
             [
              0.7777777777777778,
              "#fb9f3a"
             ],
             [
              0.8888888888888888,
              "#fdca26"
             ],
             [
              1,
              "#f0f921"
             ]
            ],
            "type": "surface"
           }
          ],
          "table": [
           {
            "cells": {
             "fill": {
              "color": "#EBF0F8"
             },
             "line": {
              "color": "white"
             }
            },
            "header": {
             "fill": {
              "color": "#C8D4E3"
             },
             "line": {
              "color": "white"
             }
            },
            "type": "table"
           }
          ]
         },
         "layout": {
          "annotationdefaults": {
           "arrowcolor": "#2a3f5f",
           "arrowhead": 0,
           "arrowwidth": 1
          },
          "coloraxis": {
           "colorbar": {
            "outlinewidth": 0,
            "ticks": ""
           }
          },
          "colorscale": {
           "diverging": [
            [
             0,
             "#8e0152"
            ],
            [
             0.1,
             "#c51b7d"
            ],
            [
             0.2,
             "#de77ae"
            ],
            [
             0.3,
             "#f1b6da"
            ],
            [
             0.4,
             "#fde0ef"
            ],
            [
             0.5,
             "#f7f7f7"
            ],
            [
             0.6,
             "#e6f5d0"
            ],
            [
             0.7,
             "#b8e186"
            ],
            [
             0.8,
             "#7fbc41"
            ],
            [
             0.9,
             "#4d9221"
            ],
            [
             1,
             "#276419"
            ]
           ],
           "sequential": [
            [
             0,
             "#0d0887"
            ],
            [
             0.1111111111111111,
             "#46039f"
            ],
            [
             0.2222222222222222,
             "#7201a8"
            ],
            [
             0.3333333333333333,
             "#9c179e"
            ],
            [
             0.4444444444444444,
             "#bd3786"
            ],
            [
             0.5555555555555556,
             "#d8576b"
            ],
            [
             0.6666666666666666,
             "#ed7953"
            ],
            [
             0.7777777777777778,
             "#fb9f3a"
            ],
            [
             0.8888888888888888,
             "#fdca26"
            ],
            [
             1,
             "#f0f921"
            ]
           ],
           "sequentialminus": [
            [
             0,
             "#0d0887"
            ],
            [
             0.1111111111111111,
             "#46039f"
            ],
            [
             0.2222222222222222,
             "#7201a8"
            ],
            [
             0.3333333333333333,
             "#9c179e"
            ],
            [
             0.4444444444444444,
             "#bd3786"
            ],
            [
             0.5555555555555556,
             "#d8576b"
            ],
            [
             0.6666666666666666,
             "#ed7953"
            ],
            [
             0.7777777777777778,
             "#fb9f3a"
            ],
            [
             0.8888888888888888,
             "#fdca26"
            ],
            [
             1,
             "#f0f921"
            ]
           ]
          },
          "colorway": [
           "#636efa",
           "#EF553B",
           "#00cc96",
           "#ab63fa",
           "#FFA15A",
           "#19d3f3",
           "#FF6692",
           "#B6E880",
           "#FF97FF",
           "#FECB52"
          ],
          "font": {
           "color": "#2a3f5f"
          },
          "geo": {
           "bgcolor": "white",
           "lakecolor": "white",
           "landcolor": "#E5ECF6",
           "showlakes": true,
           "showland": true,
           "subunitcolor": "white"
          },
          "hoverlabel": {
           "align": "left"
          },
          "hovermode": "closest",
          "mapbox": {
           "style": "light"
          },
          "paper_bgcolor": "white",
          "plot_bgcolor": "#E5ECF6",
          "polar": {
           "angularaxis": {
            "gridcolor": "white",
            "linecolor": "white",
            "ticks": ""
           },
           "bgcolor": "#E5ECF6",
           "radialaxis": {
            "gridcolor": "white",
            "linecolor": "white",
            "ticks": ""
           }
          },
          "scene": {
           "xaxis": {
            "backgroundcolor": "#E5ECF6",
            "gridcolor": "white",
            "gridwidth": 2,
            "linecolor": "white",
            "showbackground": true,
            "ticks": "",
            "zerolinecolor": "white"
           },
           "yaxis": {
            "backgroundcolor": "#E5ECF6",
            "gridcolor": "white",
            "gridwidth": 2,
            "linecolor": "white",
            "showbackground": true,
            "ticks": "",
            "zerolinecolor": "white"
           },
           "zaxis": {
            "backgroundcolor": "#E5ECF6",
            "gridcolor": "white",
            "gridwidth": 2,
            "linecolor": "white",
            "showbackground": true,
            "ticks": "",
            "zerolinecolor": "white"
           }
          },
          "shapedefaults": {
           "line": {
            "color": "#2a3f5f"
           }
          },
          "ternary": {
           "aaxis": {
            "gridcolor": "white",
            "linecolor": "white",
            "ticks": ""
           },
           "baxis": {
            "gridcolor": "white",
            "linecolor": "white",
            "ticks": ""
           },
           "bgcolor": "#E5ECF6",
           "caxis": {
            "gridcolor": "white",
            "linecolor": "white",
            "ticks": ""
           }
          },
          "title": {
           "x": 0.05
          },
          "xaxis": {
           "automargin": true,
           "gridcolor": "white",
           "linecolor": "white",
           "ticks": "",
           "title": {
            "standoff": 15
           },
           "zerolinecolor": "white",
           "zerolinewidth": 2
          },
          "yaxis": {
           "automargin": true,
           "gridcolor": "white",
           "linecolor": "white",
           "ticks": "",
           "title": {
            "standoff": 15
           },
           "zerolinecolor": "white",
           "zerolinewidth": 2
          }
         }
        },
        "title": {
         "text": "Partial Dependence of 'PotentialEnergyEfficiency'"
        },
        "xaxis": {
         "range": [
          51.75,
          101.25
         ],
         "title": {
          "text": "PotentialEnergyEfficiency"
         }
        },
        "yaxis": {
         "range": [
          170633.465625,
          185169.346875
         ],
         "title": {
          "text": "Partial Dependence"
         }
        }
       }
      },
      "text/html": [
       "<div>                            <div id=\"44b3794d-30be-4d7e-b840-8a3fbddc9d68\" class=\"plotly-graph-div\" style=\"height:525px; width:100%;\"></div>            <script type=\"text/javascript\">                require([\"plotly\"], function(Plotly) {                    window.PLOTLYENV=window.PLOTLYENV || {};                                    if (document.getElementById(\"44b3794d-30be-4d7e-b840-8a3fbddc9d68\")) {                    Plotly.newPlot(                        \"44b3794d-30be-4d7e-b840-8a3fbddc9d68\",                        [{\"line\": {\"width\": 3}, \"name\": \"Partial Dependence\", \"type\": \"scatter\", \"x\": [54, 62, 63, 66, 68, 70, 71, 72, 73, 74, 75, 76, 77, 78, 79, 80, 81, 82, 83, 84, 85, 86, 87, 88, 89, 90, 91, 93, 94, 95, 97, 99], \"y\": [184508.625, 182567.0, 182663.65625, 176601.3125, 176826.625, 179341.65625, 179280.53125, 179217.03125, 179526.234375, 174557.453125, 174448.46875, 174421.265625, 174658.703125, 174629.015625, 174471.3125, 176189.65625, 183074.671875, 181566.8125, 178701.796875, 178555.84375, 175985.71875, 175582.921875, 174536.953125, 171433.265625, 171294.1875, 172642.609375, 172642.609375, 172642.609375, 172642.609375, 171950.40625, 172495.0, 172495.0]}],                        {\"template\": {\"data\": {\"bar\": [{\"error_x\": {\"color\": \"#2a3f5f\"}, \"error_y\": {\"color\": \"#2a3f5f\"}, \"marker\": {\"line\": {\"color\": \"#E5ECF6\", \"width\": 0.5}}, \"type\": \"bar\"}], \"barpolar\": [{\"marker\": {\"line\": {\"color\": \"#E5ECF6\", \"width\": 0.5}}, \"type\": \"barpolar\"}], \"carpet\": [{\"aaxis\": {\"endlinecolor\": \"#2a3f5f\", \"gridcolor\": \"white\", \"linecolor\": \"white\", \"minorgridcolor\": \"white\", \"startlinecolor\": \"#2a3f5f\"}, \"baxis\": {\"endlinecolor\": \"#2a3f5f\", \"gridcolor\": \"white\", \"linecolor\": \"white\", \"minorgridcolor\": \"white\", \"startlinecolor\": \"#2a3f5f\"}, \"type\": \"carpet\"}], \"choropleth\": [{\"colorbar\": {\"outlinewidth\": 0, \"ticks\": \"\"}, \"type\": \"choropleth\"}], \"contour\": [{\"colorbar\": {\"outlinewidth\": 0, \"ticks\": \"\"}, \"colorscale\": [[0.0, \"#0d0887\"], [0.1111111111111111, \"#46039f\"], [0.2222222222222222, \"#7201a8\"], [0.3333333333333333, \"#9c179e\"], [0.4444444444444444, \"#bd3786\"], [0.5555555555555556, \"#d8576b\"], [0.6666666666666666, \"#ed7953\"], [0.7777777777777778, \"#fb9f3a\"], [0.8888888888888888, \"#fdca26\"], [1.0, \"#f0f921\"]], \"type\": \"contour\"}], \"contourcarpet\": [{\"colorbar\": {\"outlinewidth\": 0, \"ticks\": \"\"}, \"type\": \"contourcarpet\"}], \"heatmap\": [{\"colorbar\": {\"outlinewidth\": 0, \"ticks\": \"\"}, \"colorscale\": [[0.0, \"#0d0887\"], [0.1111111111111111, \"#46039f\"], [0.2222222222222222, \"#7201a8\"], [0.3333333333333333, \"#9c179e\"], [0.4444444444444444, \"#bd3786\"], [0.5555555555555556, \"#d8576b\"], [0.6666666666666666, \"#ed7953\"], [0.7777777777777778, \"#fb9f3a\"], [0.8888888888888888, \"#fdca26\"], [1.0, \"#f0f921\"]], \"type\": \"heatmap\"}], \"heatmapgl\": [{\"colorbar\": {\"outlinewidth\": 0, \"ticks\": \"\"}, \"colorscale\": [[0.0, \"#0d0887\"], [0.1111111111111111, \"#46039f\"], [0.2222222222222222, \"#7201a8\"], [0.3333333333333333, \"#9c179e\"], [0.4444444444444444, \"#bd3786\"], [0.5555555555555556, \"#d8576b\"], [0.6666666666666666, \"#ed7953\"], [0.7777777777777778, \"#fb9f3a\"], [0.8888888888888888, \"#fdca26\"], [1.0, \"#f0f921\"]], \"type\": \"heatmapgl\"}], \"histogram\": [{\"marker\": {\"colorbar\": {\"outlinewidth\": 0, \"ticks\": \"\"}}, \"type\": \"histogram\"}], \"histogram2d\": [{\"colorbar\": {\"outlinewidth\": 0, \"ticks\": \"\"}, \"colorscale\": [[0.0, \"#0d0887\"], [0.1111111111111111, \"#46039f\"], [0.2222222222222222, \"#7201a8\"], [0.3333333333333333, \"#9c179e\"], [0.4444444444444444, \"#bd3786\"], [0.5555555555555556, \"#d8576b\"], [0.6666666666666666, \"#ed7953\"], [0.7777777777777778, \"#fb9f3a\"], [0.8888888888888888, \"#fdca26\"], [1.0, \"#f0f921\"]], \"type\": \"histogram2d\"}], \"histogram2dcontour\": [{\"colorbar\": {\"outlinewidth\": 0, \"ticks\": \"\"}, \"colorscale\": [[0.0, \"#0d0887\"], [0.1111111111111111, \"#46039f\"], [0.2222222222222222, \"#7201a8\"], [0.3333333333333333, \"#9c179e\"], [0.4444444444444444, \"#bd3786\"], [0.5555555555555556, \"#d8576b\"], [0.6666666666666666, \"#ed7953\"], [0.7777777777777778, \"#fb9f3a\"], [0.8888888888888888, \"#fdca26\"], [1.0, \"#f0f921\"]], \"type\": \"histogram2dcontour\"}], \"mesh3d\": [{\"colorbar\": {\"outlinewidth\": 0, \"ticks\": \"\"}, \"type\": \"mesh3d\"}], \"parcoords\": [{\"line\": {\"colorbar\": {\"outlinewidth\": 0, \"ticks\": \"\"}}, \"type\": \"parcoords\"}], \"pie\": [{\"automargin\": true, \"type\": \"pie\"}], \"scatter\": [{\"marker\": {\"colorbar\": {\"outlinewidth\": 0, \"ticks\": \"\"}}, \"type\": \"scatter\"}], \"scatter3d\": [{\"line\": {\"colorbar\": {\"outlinewidth\": 0, \"ticks\": \"\"}}, \"marker\": {\"colorbar\": {\"outlinewidth\": 0, \"ticks\": \"\"}}, \"type\": \"scatter3d\"}], \"scattercarpet\": [{\"marker\": {\"colorbar\": {\"outlinewidth\": 0, \"ticks\": \"\"}}, \"type\": \"scattercarpet\"}], \"scattergeo\": [{\"marker\": {\"colorbar\": {\"outlinewidth\": 0, \"ticks\": \"\"}}, \"type\": \"scattergeo\"}], \"scattergl\": [{\"marker\": {\"colorbar\": {\"outlinewidth\": 0, \"ticks\": \"\"}}, \"type\": \"scattergl\"}], \"scattermapbox\": [{\"marker\": {\"colorbar\": {\"outlinewidth\": 0, \"ticks\": \"\"}}, \"type\": \"scattermapbox\"}], \"scatterpolar\": [{\"marker\": {\"colorbar\": {\"outlinewidth\": 0, \"ticks\": \"\"}}, \"type\": \"scatterpolar\"}], \"scatterpolargl\": [{\"marker\": {\"colorbar\": {\"outlinewidth\": 0, \"ticks\": \"\"}}, \"type\": \"scatterpolargl\"}], \"scatterternary\": [{\"marker\": {\"colorbar\": {\"outlinewidth\": 0, \"ticks\": \"\"}}, \"type\": \"scatterternary\"}], \"surface\": [{\"colorbar\": {\"outlinewidth\": 0, \"ticks\": \"\"}, \"colorscale\": [[0.0, \"#0d0887\"], [0.1111111111111111, \"#46039f\"], [0.2222222222222222, \"#7201a8\"], [0.3333333333333333, \"#9c179e\"], [0.4444444444444444, \"#bd3786\"], [0.5555555555555556, \"#d8576b\"], [0.6666666666666666, \"#ed7953\"], [0.7777777777777778, \"#fb9f3a\"], [0.8888888888888888, \"#fdca26\"], [1.0, \"#f0f921\"]], \"type\": \"surface\"}], \"table\": [{\"cells\": {\"fill\": {\"color\": \"#EBF0F8\"}, \"line\": {\"color\": \"white\"}}, \"header\": {\"fill\": {\"color\": \"#C8D4E3\"}, \"line\": {\"color\": \"white\"}}, \"type\": \"table\"}]}, \"layout\": {\"annotationdefaults\": {\"arrowcolor\": \"#2a3f5f\", \"arrowhead\": 0, \"arrowwidth\": 1}, \"coloraxis\": {\"colorbar\": {\"outlinewidth\": 0, \"ticks\": \"\"}}, \"colorscale\": {\"diverging\": [[0, \"#8e0152\"], [0.1, \"#c51b7d\"], [0.2, \"#de77ae\"], [0.3, \"#f1b6da\"], [0.4, \"#fde0ef\"], [0.5, \"#f7f7f7\"], [0.6, \"#e6f5d0\"], [0.7, \"#b8e186\"], [0.8, \"#7fbc41\"], [0.9, \"#4d9221\"], [1, \"#276419\"]], \"sequential\": [[0.0, \"#0d0887\"], [0.1111111111111111, \"#46039f\"], [0.2222222222222222, \"#7201a8\"], [0.3333333333333333, \"#9c179e\"], [0.4444444444444444, \"#bd3786\"], [0.5555555555555556, \"#d8576b\"], [0.6666666666666666, \"#ed7953\"], [0.7777777777777778, \"#fb9f3a\"], [0.8888888888888888, \"#fdca26\"], [1.0, \"#f0f921\"]], \"sequentialminus\": [[0.0, \"#0d0887\"], [0.1111111111111111, \"#46039f\"], [0.2222222222222222, \"#7201a8\"], [0.3333333333333333, \"#9c179e\"], [0.4444444444444444, \"#bd3786\"], [0.5555555555555556, \"#d8576b\"], [0.6666666666666666, \"#ed7953\"], [0.7777777777777778, \"#fb9f3a\"], [0.8888888888888888, \"#fdca26\"], [1.0, \"#f0f921\"]]}, \"colorway\": [\"#636efa\", \"#EF553B\", \"#00cc96\", \"#ab63fa\", \"#FFA15A\", \"#19d3f3\", \"#FF6692\", \"#B6E880\", \"#FF97FF\", \"#FECB52\"], \"font\": {\"color\": \"#2a3f5f\"}, \"geo\": {\"bgcolor\": \"white\", \"lakecolor\": \"white\", \"landcolor\": \"#E5ECF6\", \"showlakes\": true, \"showland\": true, \"subunitcolor\": \"white\"}, \"hoverlabel\": {\"align\": \"left\"}, \"hovermode\": \"closest\", \"mapbox\": {\"style\": \"light\"}, \"paper_bgcolor\": \"white\", \"plot_bgcolor\": \"#E5ECF6\", \"polar\": {\"angularaxis\": {\"gridcolor\": \"white\", \"linecolor\": \"white\", \"ticks\": \"\"}, \"bgcolor\": \"#E5ECF6\", \"radialaxis\": {\"gridcolor\": \"white\", \"linecolor\": \"white\", \"ticks\": \"\"}}, \"scene\": {\"xaxis\": {\"backgroundcolor\": \"#E5ECF6\", \"gridcolor\": \"white\", \"gridwidth\": 2, \"linecolor\": \"white\", \"showbackground\": true, \"ticks\": \"\", \"zerolinecolor\": \"white\"}, \"yaxis\": {\"backgroundcolor\": \"#E5ECF6\", \"gridcolor\": \"white\", \"gridwidth\": 2, \"linecolor\": \"white\", \"showbackground\": true, \"ticks\": \"\", \"zerolinecolor\": \"white\"}, \"zaxis\": {\"backgroundcolor\": \"#E5ECF6\", \"gridcolor\": \"white\", \"gridwidth\": 2, \"linecolor\": \"white\", \"showbackground\": true, \"ticks\": \"\", \"zerolinecolor\": \"white\"}}, \"shapedefaults\": {\"line\": {\"color\": \"#2a3f5f\"}}, \"ternary\": {\"aaxis\": {\"gridcolor\": \"white\", \"linecolor\": \"white\", \"ticks\": \"\"}, \"baxis\": {\"gridcolor\": \"white\", \"linecolor\": \"white\", \"ticks\": \"\"}, \"bgcolor\": \"#E5ECF6\", \"caxis\": {\"gridcolor\": \"white\", \"linecolor\": \"white\", \"ticks\": \"\"}}, \"title\": {\"x\": 0.05}, \"xaxis\": {\"automargin\": true, \"gridcolor\": \"white\", \"linecolor\": \"white\", \"ticks\": \"\", \"title\": {\"standoff\": 15}, \"zerolinecolor\": \"white\", \"zerolinewidth\": 2}, \"yaxis\": {\"automargin\": true, \"gridcolor\": \"white\", \"linecolor\": \"white\", \"ticks\": \"\", \"title\": {\"standoff\": 15}, \"zerolinecolor\": \"white\", \"zerolinewidth\": 2}}}, \"title\": {\"text\": \"Partial Dependence of 'PotentialEnergyEfficiency'\"}, \"xaxis\": {\"range\": [51.75, 101.25], \"title\": {\"text\": \"PotentialEnergyEfficiency\"}}, \"yaxis\": {\"range\": [170633.465625, 185169.346875], \"title\": {\"text\": \"Partial Dependence\"}}},                        {\"responsive\": true}                    ).then(function(){\n",
       "                            \n",
       "var gd = document.getElementById('44b3794d-30be-4d7e-b840-8a3fbddc9d68');\n",
       "var x = new MutationObserver(function (mutations, observer) {{\n",
       "        var display = window.getComputedStyle(gd).display;\n",
       "        if (!display || display === 'none') {{\n",
       "            console.log([gd, 'removed!']);\n",
       "            Plotly.purge(gd);\n",
       "            observer.disconnect();\n",
       "        }}\n",
       "}});\n",
       "\n",
       "// Listen for the removal of the full notebook cells\n",
       "var notebookContainer = gd.closest('#notebook-container');\n",
       "if (notebookContainer) {{\n",
       "    x.observe(notebookContainer, {childList: true});\n",
       "}}\n",
       "\n",
       "// Listen for the clearing of the current output cell\n",
       "var outputEl = gd.closest('.output');\n",
       "if (outputEl) {{\n",
       "    x.observe(outputEl, {childList: true});\n",
       "}}\n",
       "\n",
       "                        })                };                });            </script>        </div>"
      ]
     },
     "metadata": {},
     "output_type": "display_data"
    }
   ],
   "source": [
    "graph_partial_dependence(price_microservice_pipeline, X_holdout, feature='PotentialEnergyEfficiency')"
   ]
  },
  {
   "cell_type": "code",
   "execution_count": 81,
   "metadata": {},
   "outputs": [
    {
     "data": {
      "text/plain": [
       "{'Imputer': ['PropertyType',\n",
       "  'New',\n",
       "  'Duration',\n",
       "  'CurrentEnergyRating',\n",
       "  'PotentialEnergyRating',\n",
       "  'CurrentEnergyEfficiency',\n",
       "  'PotentialEnergyEfficiency',\n",
       "  'GlazedArea',\n",
       "  'HabitableRooms',\n",
       "  'HeatedRooms',\n",
       "  'FlatStoreyCount',\n",
       "  'TotalFloorArea',\n",
       "  'FloorLevel',\n",
       "  'PurchaseDate_year',\n",
       "  'PurchaseDate_month',\n",
       "  'PurchaseDate_day_of_week',\n",
       "  'PurchaseDate_hour',\n",
       "  'EpcInspectionDate_year',\n",
       "  'EpcInspectionDate_month',\n",
       "  'EpcInspectionDate_day_of_week',\n",
       "  'EpcInspectionDate_hour'],\n",
       " 'DateTime Featurization Component': ['PropertyType',\n",
       "  'New',\n",
       "  'Duration',\n",
       "  'CurrentEnergyRating',\n",
       "  'PotentialEnergyRating',\n",
       "  'CurrentEnergyEfficiency',\n",
       "  'PotentialEnergyEfficiency',\n",
       "  'GlazedArea',\n",
       "  'HabitableRooms',\n",
       "  'HeatedRooms',\n",
       "  'FlatStoreyCount',\n",
       "  'TotalFloorArea',\n",
       "  'FloorLevel',\n",
       "  'PurchaseDate_year',\n",
       "  'PurchaseDate_month',\n",
       "  'PurchaseDate_day_of_week',\n",
       "  'PurchaseDate_hour',\n",
       "  'EpcInspectionDate_year',\n",
       "  'EpcInspectionDate_month',\n",
       "  'EpcInspectionDate_day_of_week',\n",
       "  'EpcInspectionDate_hour'],\n",
       " 'One Hot Encoder': ['PropertyType',\n",
       "  'New',\n",
       "  'Duration',\n",
       "  'CurrentEnergyRating',\n",
       "  'PotentialEnergyRating',\n",
       "  'CurrentEnergyEfficiency',\n",
       "  'PotentialEnergyEfficiency',\n",
       "  'GlazedArea',\n",
       "  'HabitableRooms',\n",
       "  'HeatedRooms',\n",
       "  'FlatStoreyCount',\n",
       "  'TotalFloorArea',\n",
       "  'FloorLevel',\n",
       "  'PurchaseDate_year',\n",
       "  'PurchaseDate_month',\n",
       "  'PurchaseDate_day_of_week',\n",
       "  'PurchaseDate_hour',\n",
       "  'EpcInspectionDate_year',\n",
       "  'EpcInspectionDate_month',\n",
       "  'EpcInspectionDate_day_of_week',\n",
       "  'EpcInspectionDate_hour'],\n",
       " 'XGBoost Regressor': ['CurrentEnergyEfficiency',\n",
       "  'PotentialEnergyEfficiency',\n",
       "  'HabitableRooms',\n",
       "  'HeatedRooms',\n",
       "  'FlatStoreyCount',\n",
       "  'TotalFloorArea',\n",
       "  'PurchaseDate_year',\n",
       "  'PurchaseDate_hour',\n",
       "  'EpcInspectionDate_year',\n",
       "  'EpcInspectionDate_hour',\n",
       "  'PropertyType_D',\n",
       "  'PropertyType_F',\n",
       "  'PropertyType_O',\n",
       "  'PropertyType_S',\n",
       "  'PropertyType_T',\n",
       "  'New_N',\n",
       "  'New_Y',\n",
       "  'Duration_F',\n",
       "  'Duration_L',\n",
       "  'CurrentEnergyRating_A',\n",
       "  'CurrentEnergyRating_B',\n",
       "  'CurrentEnergyRating_C',\n",
       "  'CurrentEnergyRating_D',\n",
       "  'CurrentEnergyRating_E',\n",
       "  'CurrentEnergyRating_F',\n",
       "  'CurrentEnergyRating_G',\n",
       "  'PotentialEnergyRating_A',\n",
       "  'PotentialEnergyRating_B',\n",
       "  'PotentialEnergyRating_C',\n",
       "  'PotentialEnergyRating_D',\n",
       "  'PotentialEnergyRating_E',\n",
       "  'PotentialEnergyRating_F',\n",
       "  'GlazedArea_More Than Typical',\n",
       "  'GlazedArea_Much More Than Typical',\n",
       "  'GlazedArea_NO DATA!',\n",
       "  'GlazedArea_Normal',\n",
       "  'FloorLevel_1st',\n",
       "  'FloorLevel_2nd',\n",
       "  'FloorLevel_3rd',\n",
       "  'FloorLevel_5th',\n",
       "  'FloorLevel_Ground',\n",
       "  'FloorLevel_NO DATA!',\n",
       "  'FloorLevel_NODATA!',\n",
       "  'FloorLevel_ground floor',\n",
       "  'FloorLevel_mid floor',\n",
       "  'FloorLevel_top floor',\n",
       "  'PurchaseDate_month_April',\n",
       "  'PurchaseDate_month_August',\n",
       "  'PurchaseDate_month_February',\n",
       "  'PurchaseDate_month_January',\n",
       "  'PurchaseDate_month_July',\n",
       "  'PurchaseDate_month_June',\n",
       "  'PurchaseDate_month_March',\n",
       "  'PurchaseDate_month_May',\n",
       "  'PurchaseDate_day_of_week_Friday',\n",
       "  'PurchaseDate_day_of_week_Monday',\n",
       "  'PurchaseDate_day_of_week_Saturday',\n",
       "  'PurchaseDate_day_of_week_Sunday',\n",
       "  'PurchaseDate_day_of_week_Thursday',\n",
       "  'PurchaseDate_day_of_week_Tuesday',\n",
       "  'PurchaseDate_day_of_week_Wednesday',\n",
       "  'EpcInspectionDate_month_April',\n",
       "  'EpcInspectionDate_month_August',\n",
       "  'EpcInspectionDate_month_February',\n",
       "  'EpcInspectionDate_month_January',\n",
       "  'EpcInspectionDate_month_June',\n",
       "  'EpcInspectionDate_month_March',\n",
       "  'EpcInspectionDate_month_May',\n",
       "  'EpcInspectionDate_month_November',\n",
       "  'EpcInspectionDate_month_October',\n",
       "  'EpcInspectionDate_month_September',\n",
       "  'EpcInspectionDate_day_of_week_Friday',\n",
       "  'EpcInspectionDate_day_of_week_Monday',\n",
       "  'EpcInspectionDate_day_of_week_Saturday',\n",
       "  'EpcInspectionDate_day_of_week_Sunday',\n",
       "  'EpcInspectionDate_day_of_week_Thursday',\n",
       "  'EpcInspectionDate_day_of_week_Tuesday',\n",
       "  'EpcInspectionDate_day_of_week_Wednesday']}"
      ]
     },
     "execution_count": 81,
     "metadata": {},
     "output_type": "execute_result"
    }
   ],
   "source": [
    "price_microservice_pipeline.input_feature_names"
   ]
  },
  {
   "cell_type": "code",
   "execution_count": null,
   "metadata": {},
   "outputs": [],
   "source": []
  }
 ],
 "metadata": {
  "kernelspec": {
   "display_name": "microservice_price_env",
   "language": "python",
   "name": "microservice_price_env"
  },
  "language_info": {
   "codemirror_mode": {
    "name": "ipython",
    "version": 3
   },
   "file_extension": ".py",
   "mimetype": "text/x-python",
   "name": "python",
   "nbconvert_exporter": "python",
   "pygments_lexer": "ipython3",
   "version": "3.7.9"
  },
  "latex_envs": {
   "LaTeX_envs_menu_present": true,
   "autoclose": false,
   "autocomplete": true,
   "bibliofile": "biblio.bib",
   "cite_by": "apalike",
   "current_citInitial": 1,
   "eqLabelWithNumbers": true,
   "eqNumInitial": 1,
   "hotkeys": {
    "equation": "Ctrl-E",
    "itemize": "Ctrl-I"
   },
   "labels_anchors": false,
   "latex_user_defs": false,
   "report_style_numbering": false,
   "user_envs_cfg": false
  },
  "toc": {
   "base_numbering": 1,
   "nav_menu": {},
   "number_sections": true,
   "sideBar": true,
   "skip_h1_title": false,
   "title_cell": "Table of Contents",
   "title_sidebar": "Contents",
   "toc_cell": false,
   "toc_position": {},
   "toc_section_display": true,
   "toc_window_display": false
  },
  "widgets": {
   "application/vnd.jupyter.widget-state+json": {
    "state": {},
    "version_major": 2,
    "version_minor": 0
   }
  }
 },
 "nbformat": 4,
 "nbformat_minor": 1
}
